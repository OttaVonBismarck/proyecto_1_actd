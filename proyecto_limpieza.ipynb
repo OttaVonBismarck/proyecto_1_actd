{
 "cells": [
  {
   "cell_type": "markdown",
   "metadata": {
    "id": "YGdp9PuawCjO"
   },
   "source": [
    "# Analítica computacional para la toma de decisiones\n",
    "\n",
    "Departamento de Ingeniería Industrial\n",
    "\n",
    "Universidad de los Andes"
   ]
  },
  {
   "cell_type": "markdown",
   "metadata": {},
   "source": [
    "## Pandas para limpieza de datos"
   ]
  },
  {
   "cell_type": "code",
   "execution_count": 1,
   "metadata": {
    "executionInfo": {
     "elapsed": 394,
     "status": "ok",
     "timestamp": 1719522414504,
     "user": {
      "displayName": "Juan F Pérez",
      "userId": "13439628769322192552"
     },
     "user_tz": 300
    },
    "id": "9nd3pSEvsEjs"
   },
   "outputs": [],
   "source": [
    "import numpy as np\n",
    "import pandas as pd"
   ]
  },
  {
   "cell_type": "code",
   "execution_count": 2,
   "metadata": {
    "executionInfo": {
     "elapsed": 489,
     "status": "ok",
     "timestamp": 1719522429284,
     "user": {
      "displayName": "Juan F Pérez",
      "userId": "13439628769322192552"
     },
     "user_tz": 300
    },
    "id": "LglBj29RJaGD"
   },
   "outputs": [],
   "source": [
    "df = pd.read_csv(\"incident_event_log.csv\")"
   ]
  },
  {
   "cell_type": "code",
   "execution_count": 3,
   "metadata": {
    "colab": {
     "base_uri": "https://localhost:8080/",
     "height": 206
    },
    "executionInfo": {
     "elapsed": 512,
     "status": "ok",
     "timestamp": 1719522437369,
     "user": {
      "displayName": "Juan F Pérez",
      "userId": "13439628769322192552"
     },
     "user_tz": 300
    },
    "id": "ZEa-yLWhKoHx",
    "outputId": "a53df677-fdd2-419f-9697-d6e4650b0593"
   },
   "outputs": [
    {
     "data": {
      "text/html": [
       "<div>\n",
       "<style scoped>\n",
       "    .dataframe tbody tr th:only-of-type {\n",
       "        vertical-align: middle;\n",
       "    }\n",
       "\n",
       "    .dataframe tbody tr th {\n",
       "        vertical-align: top;\n",
       "    }\n",
       "\n",
       "    .dataframe thead th {\n",
       "        text-align: right;\n",
       "    }\n",
       "</style>\n",
       "<table border=\"1\" class=\"dataframe\">\n",
       "  <thead>\n",
       "    <tr style=\"text-align: right;\">\n",
       "      <th></th>\n",
       "      <th>number</th>\n",
       "      <th>incident_state</th>\n",
       "      <th>active</th>\n",
       "      <th>reassignment_count</th>\n",
       "      <th>reopen_count</th>\n",
       "      <th>sys_mod_count</th>\n",
       "      <th>made_sla</th>\n",
       "      <th>caller_id</th>\n",
       "      <th>opened_by</th>\n",
       "      <th>opened_at</th>\n",
       "      <th>...</th>\n",
       "      <th>u_priority_confirmation</th>\n",
       "      <th>notify</th>\n",
       "      <th>problem_id</th>\n",
       "      <th>rfc</th>\n",
       "      <th>vendor</th>\n",
       "      <th>caused_by</th>\n",
       "      <th>closed_code</th>\n",
       "      <th>resolved_by</th>\n",
       "      <th>resolved_at</th>\n",
       "      <th>closed_at</th>\n",
       "    </tr>\n",
       "  </thead>\n",
       "  <tbody>\n",
       "    <tr>\n",
       "      <th>0</th>\n",
       "      <td>INC0000045</td>\n",
       "      <td>New</td>\n",
       "      <td>True</td>\n",
       "      <td>0</td>\n",
       "      <td>0</td>\n",
       "      <td>0</td>\n",
       "      <td>True</td>\n",
       "      <td>Caller 2403</td>\n",
       "      <td>Opened by  8</td>\n",
       "      <td>29/2/2016 01:16</td>\n",
       "      <td>...</td>\n",
       "      <td>False</td>\n",
       "      <td>Do Not Notify</td>\n",
       "      <td>?</td>\n",
       "      <td>?</td>\n",
       "      <td>?</td>\n",
       "      <td>?</td>\n",
       "      <td>code 5</td>\n",
       "      <td>Resolved by 149</td>\n",
       "      <td>29/2/2016 11:29</td>\n",
       "      <td>5/3/2016 12:00</td>\n",
       "    </tr>\n",
       "    <tr>\n",
       "      <th>1</th>\n",
       "      <td>INC0000045</td>\n",
       "      <td>Resolved</td>\n",
       "      <td>True</td>\n",
       "      <td>0</td>\n",
       "      <td>0</td>\n",
       "      <td>2</td>\n",
       "      <td>True</td>\n",
       "      <td>Caller 2403</td>\n",
       "      <td>Opened by  8</td>\n",
       "      <td>29/2/2016 01:16</td>\n",
       "      <td>...</td>\n",
       "      <td>False</td>\n",
       "      <td>Do Not Notify</td>\n",
       "      <td>?</td>\n",
       "      <td>?</td>\n",
       "      <td>?</td>\n",
       "      <td>?</td>\n",
       "      <td>code 5</td>\n",
       "      <td>Resolved by 149</td>\n",
       "      <td>29/2/2016 11:29</td>\n",
       "      <td>5/3/2016 12:00</td>\n",
       "    </tr>\n",
       "    <tr>\n",
       "      <th>2</th>\n",
       "      <td>INC0000045</td>\n",
       "      <td>Resolved</td>\n",
       "      <td>True</td>\n",
       "      <td>0</td>\n",
       "      <td>0</td>\n",
       "      <td>3</td>\n",
       "      <td>True</td>\n",
       "      <td>Caller 2403</td>\n",
       "      <td>Opened by  8</td>\n",
       "      <td>29/2/2016 01:16</td>\n",
       "      <td>...</td>\n",
       "      <td>False</td>\n",
       "      <td>Do Not Notify</td>\n",
       "      <td>?</td>\n",
       "      <td>?</td>\n",
       "      <td>?</td>\n",
       "      <td>?</td>\n",
       "      <td>code 5</td>\n",
       "      <td>Resolved by 149</td>\n",
       "      <td>29/2/2016 11:29</td>\n",
       "      <td>5/3/2016 12:00</td>\n",
       "    </tr>\n",
       "    <tr>\n",
       "      <th>3</th>\n",
       "      <td>INC0000045</td>\n",
       "      <td>Closed</td>\n",
       "      <td>False</td>\n",
       "      <td>0</td>\n",
       "      <td>0</td>\n",
       "      <td>4</td>\n",
       "      <td>True</td>\n",
       "      <td>Caller 2403</td>\n",
       "      <td>Opened by  8</td>\n",
       "      <td>29/2/2016 01:16</td>\n",
       "      <td>...</td>\n",
       "      <td>False</td>\n",
       "      <td>Do Not Notify</td>\n",
       "      <td>?</td>\n",
       "      <td>?</td>\n",
       "      <td>?</td>\n",
       "      <td>?</td>\n",
       "      <td>code 5</td>\n",
       "      <td>Resolved by 149</td>\n",
       "      <td>29/2/2016 11:29</td>\n",
       "      <td>5/3/2016 12:00</td>\n",
       "    </tr>\n",
       "    <tr>\n",
       "      <th>4</th>\n",
       "      <td>INC0000047</td>\n",
       "      <td>New</td>\n",
       "      <td>True</td>\n",
       "      <td>0</td>\n",
       "      <td>0</td>\n",
       "      <td>0</td>\n",
       "      <td>True</td>\n",
       "      <td>Caller 2403</td>\n",
       "      <td>Opened by  397</td>\n",
       "      <td>29/2/2016 04:40</td>\n",
       "      <td>...</td>\n",
       "      <td>False</td>\n",
       "      <td>Do Not Notify</td>\n",
       "      <td>?</td>\n",
       "      <td>?</td>\n",
       "      <td>?</td>\n",
       "      <td>?</td>\n",
       "      <td>code 5</td>\n",
       "      <td>Resolved by 81</td>\n",
       "      <td>1/3/2016 09:52</td>\n",
       "      <td>6/3/2016 10:00</td>\n",
       "    </tr>\n",
       "  </tbody>\n",
       "</table>\n",
       "<p>5 rows × 36 columns</p>\n",
       "</div>"
      ],
      "text/plain": [
       "       number incident_state  active  reassignment_count  reopen_count  \\\n",
       "0  INC0000045            New    True                   0             0   \n",
       "1  INC0000045       Resolved    True                   0             0   \n",
       "2  INC0000045       Resolved    True                   0             0   \n",
       "3  INC0000045         Closed   False                   0             0   \n",
       "4  INC0000047            New    True                   0             0   \n",
       "\n",
       "   sys_mod_count  made_sla    caller_id       opened_by        opened_at  ...  \\\n",
       "0              0      True  Caller 2403    Opened by  8  29/2/2016 01:16  ...   \n",
       "1              2      True  Caller 2403    Opened by  8  29/2/2016 01:16  ...   \n",
       "2              3      True  Caller 2403    Opened by  8  29/2/2016 01:16  ...   \n",
       "3              4      True  Caller 2403    Opened by  8  29/2/2016 01:16  ...   \n",
       "4              0      True  Caller 2403  Opened by  397  29/2/2016 04:40  ...   \n",
       "\n",
       "  u_priority_confirmation         notify problem_id rfc vendor caused_by  \\\n",
       "0                   False  Do Not Notify          ?   ?      ?         ?   \n",
       "1                   False  Do Not Notify          ?   ?      ?         ?   \n",
       "2                   False  Do Not Notify          ?   ?      ?         ?   \n",
       "3                   False  Do Not Notify          ?   ?      ?         ?   \n",
       "4                   False  Do Not Notify          ?   ?      ?         ?   \n",
       "\n",
       "  closed_code      resolved_by      resolved_at       closed_at  \n",
       "0      code 5  Resolved by 149  29/2/2016 11:29  5/3/2016 12:00  \n",
       "1      code 5  Resolved by 149  29/2/2016 11:29  5/3/2016 12:00  \n",
       "2      code 5  Resolved by 149  29/2/2016 11:29  5/3/2016 12:00  \n",
       "3      code 5  Resolved by 149  29/2/2016 11:29  5/3/2016 12:00  \n",
       "4      code 5   Resolved by 81   1/3/2016 09:52  6/3/2016 10:00  \n",
       "\n",
       "[5 rows x 36 columns]"
      ]
     },
     "execution_count": 3,
     "metadata": {},
     "output_type": "execute_result"
    }
   ],
   "source": [
    "df.head()"
   ]
  },
  {
   "cell_type": "markdown",
   "metadata": {
    "id": "-4wlm_B_KsWZ"
   },
   "source": [
    "### Datos faltantes"
   ]
  },
  {
   "cell_type": "code",
   "execution_count": 4,
   "metadata": {
    "colab": {
     "base_uri": "https://localhost:8080/",
     "height": 423
    },
    "executionInfo": {
     "elapsed": 456,
     "status": "ok",
     "timestamp": 1719522635517,
     "user": {
      "displayName": "Juan F Pérez",
      "userId": "13439628769322192552"
     },
     "user_tz": 300
    },
    "id": "W6MjatOEJ3NE",
    "outputId": "4a1d598d-1fe4-43ff-c711-5cf32607cd46"
   },
   "outputs": [
    {
     "data": {
      "text/html": [
       "<div>\n",
       "<style scoped>\n",
       "    .dataframe tbody tr th:only-of-type {\n",
       "        vertical-align: middle;\n",
       "    }\n",
       "\n",
       "    .dataframe tbody tr th {\n",
       "        vertical-align: top;\n",
       "    }\n",
       "\n",
       "    .dataframe thead th {\n",
       "        text-align: right;\n",
       "    }\n",
       "</style>\n",
       "<table border=\"1\" class=\"dataframe\">\n",
       "  <thead>\n",
       "    <tr style=\"text-align: right;\">\n",
       "      <th></th>\n",
       "      <th>number</th>\n",
       "      <th>incident_state</th>\n",
       "      <th>active</th>\n",
       "      <th>reassignment_count</th>\n",
       "      <th>reopen_count</th>\n",
       "      <th>sys_mod_count</th>\n",
       "      <th>made_sla</th>\n",
       "      <th>caller_id</th>\n",
       "      <th>opened_by</th>\n",
       "      <th>opened_at</th>\n",
       "      <th>...</th>\n",
       "      <th>u_priority_confirmation</th>\n",
       "      <th>notify</th>\n",
       "      <th>problem_id</th>\n",
       "      <th>rfc</th>\n",
       "      <th>vendor</th>\n",
       "      <th>caused_by</th>\n",
       "      <th>closed_code</th>\n",
       "      <th>resolved_by</th>\n",
       "      <th>resolved_at</th>\n",
       "      <th>closed_at</th>\n",
       "    </tr>\n",
       "  </thead>\n",
       "  <tbody>\n",
       "    <tr>\n",
       "      <th>0</th>\n",
       "      <td>False</td>\n",
       "      <td>False</td>\n",
       "      <td>False</td>\n",
       "      <td>False</td>\n",
       "      <td>False</td>\n",
       "      <td>False</td>\n",
       "      <td>False</td>\n",
       "      <td>False</td>\n",
       "      <td>False</td>\n",
       "      <td>False</td>\n",
       "      <td>...</td>\n",
       "      <td>False</td>\n",
       "      <td>False</td>\n",
       "      <td>False</td>\n",
       "      <td>False</td>\n",
       "      <td>False</td>\n",
       "      <td>False</td>\n",
       "      <td>False</td>\n",
       "      <td>False</td>\n",
       "      <td>False</td>\n",
       "      <td>False</td>\n",
       "    </tr>\n",
       "    <tr>\n",
       "      <th>1</th>\n",
       "      <td>False</td>\n",
       "      <td>False</td>\n",
       "      <td>False</td>\n",
       "      <td>False</td>\n",
       "      <td>False</td>\n",
       "      <td>False</td>\n",
       "      <td>False</td>\n",
       "      <td>False</td>\n",
       "      <td>False</td>\n",
       "      <td>False</td>\n",
       "      <td>...</td>\n",
       "      <td>False</td>\n",
       "      <td>False</td>\n",
       "      <td>False</td>\n",
       "      <td>False</td>\n",
       "      <td>False</td>\n",
       "      <td>False</td>\n",
       "      <td>False</td>\n",
       "      <td>False</td>\n",
       "      <td>False</td>\n",
       "      <td>False</td>\n",
       "    </tr>\n",
       "    <tr>\n",
       "      <th>2</th>\n",
       "      <td>False</td>\n",
       "      <td>False</td>\n",
       "      <td>False</td>\n",
       "      <td>False</td>\n",
       "      <td>False</td>\n",
       "      <td>False</td>\n",
       "      <td>False</td>\n",
       "      <td>False</td>\n",
       "      <td>False</td>\n",
       "      <td>False</td>\n",
       "      <td>...</td>\n",
       "      <td>False</td>\n",
       "      <td>False</td>\n",
       "      <td>False</td>\n",
       "      <td>False</td>\n",
       "      <td>False</td>\n",
       "      <td>False</td>\n",
       "      <td>False</td>\n",
       "      <td>False</td>\n",
       "      <td>False</td>\n",
       "      <td>False</td>\n",
       "    </tr>\n",
       "    <tr>\n",
       "      <th>3</th>\n",
       "      <td>False</td>\n",
       "      <td>False</td>\n",
       "      <td>False</td>\n",
       "      <td>False</td>\n",
       "      <td>False</td>\n",
       "      <td>False</td>\n",
       "      <td>False</td>\n",
       "      <td>False</td>\n",
       "      <td>False</td>\n",
       "      <td>False</td>\n",
       "      <td>...</td>\n",
       "      <td>False</td>\n",
       "      <td>False</td>\n",
       "      <td>False</td>\n",
       "      <td>False</td>\n",
       "      <td>False</td>\n",
       "      <td>False</td>\n",
       "      <td>False</td>\n",
       "      <td>False</td>\n",
       "      <td>False</td>\n",
       "      <td>False</td>\n",
       "    </tr>\n",
       "    <tr>\n",
       "      <th>4</th>\n",
       "      <td>False</td>\n",
       "      <td>False</td>\n",
       "      <td>False</td>\n",
       "      <td>False</td>\n",
       "      <td>False</td>\n",
       "      <td>False</td>\n",
       "      <td>False</td>\n",
       "      <td>False</td>\n",
       "      <td>False</td>\n",
       "      <td>False</td>\n",
       "      <td>...</td>\n",
       "      <td>False</td>\n",
       "      <td>False</td>\n",
       "      <td>False</td>\n",
       "      <td>False</td>\n",
       "      <td>False</td>\n",
       "      <td>False</td>\n",
       "      <td>False</td>\n",
       "      <td>False</td>\n",
       "      <td>False</td>\n",
       "      <td>False</td>\n",
       "    </tr>\n",
       "    <tr>\n",
       "      <th>...</th>\n",
       "      <td>...</td>\n",
       "      <td>...</td>\n",
       "      <td>...</td>\n",
       "      <td>...</td>\n",
       "      <td>...</td>\n",
       "      <td>...</td>\n",
       "      <td>...</td>\n",
       "      <td>...</td>\n",
       "      <td>...</td>\n",
       "      <td>...</td>\n",
       "      <td>...</td>\n",
       "      <td>...</td>\n",
       "      <td>...</td>\n",
       "      <td>...</td>\n",
       "      <td>...</td>\n",
       "      <td>...</td>\n",
       "      <td>...</td>\n",
       "      <td>...</td>\n",
       "      <td>...</td>\n",
       "      <td>...</td>\n",
       "      <td>...</td>\n",
       "    </tr>\n",
       "    <tr>\n",
       "      <th>141707</th>\n",
       "      <td>False</td>\n",
       "      <td>False</td>\n",
       "      <td>False</td>\n",
       "      <td>False</td>\n",
       "      <td>False</td>\n",
       "      <td>False</td>\n",
       "      <td>False</td>\n",
       "      <td>False</td>\n",
       "      <td>False</td>\n",
       "      <td>False</td>\n",
       "      <td>...</td>\n",
       "      <td>False</td>\n",
       "      <td>False</td>\n",
       "      <td>False</td>\n",
       "      <td>False</td>\n",
       "      <td>False</td>\n",
       "      <td>False</td>\n",
       "      <td>False</td>\n",
       "      <td>False</td>\n",
       "      <td>False</td>\n",
       "      <td>False</td>\n",
       "    </tr>\n",
       "    <tr>\n",
       "      <th>141708</th>\n",
       "      <td>False</td>\n",
       "      <td>False</td>\n",
       "      <td>False</td>\n",
       "      <td>False</td>\n",
       "      <td>False</td>\n",
       "      <td>False</td>\n",
       "      <td>False</td>\n",
       "      <td>False</td>\n",
       "      <td>False</td>\n",
       "      <td>False</td>\n",
       "      <td>...</td>\n",
       "      <td>False</td>\n",
       "      <td>False</td>\n",
       "      <td>False</td>\n",
       "      <td>False</td>\n",
       "      <td>False</td>\n",
       "      <td>False</td>\n",
       "      <td>False</td>\n",
       "      <td>False</td>\n",
       "      <td>False</td>\n",
       "      <td>False</td>\n",
       "    </tr>\n",
       "    <tr>\n",
       "      <th>141709</th>\n",
       "      <td>False</td>\n",
       "      <td>False</td>\n",
       "      <td>False</td>\n",
       "      <td>False</td>\n",
       "      <td>False</td>\n",
       "      <td>False</td>\n",
       "      <td>False</td>\n",
       "      <td>False</td>\n",
       "      <td>False</td>\n",
       "      <td>False</td>\n",
       "      <td>...</td>\n",
       "      <td>False</td>\n",
       "      <td>False</td>\n",
       "      <td>False</td>\n",
       "      <td>False</td>\n",
       "      <td>False</td>\n",
       "      <td>False</td>\n",
       "      <td>False</td>\n",
       "      <td>False</td>\n",
       "      <td>False</td>\n",
       "      <td>False</td>\n",
       "    </tr>\n",
       "    <tr>\n",
       "      <th>141710</th>\n",
       "      <td>False</td>\n",
       "      <td>False</td>\n",
       "      <td>False</td>\n",
       "      <td>False</td>\n",
       "      <td>False</td>\n",
       "      <td>False</td>\n",
       "      <td>False</td>\n",
       "      <td>False</td>\n",
       "      <td>False</td>\n",
       "      <td>False</td>\n",
       "      <td>...</td>\n",
       "      <td>False</td>\n",
       "      <td>False</td>\n",
       "      <td>False</td>\n",
       "      <td>False</td>\n",
       "      <td>False</td>\n",
       "      <td>False</td>\n",
       "      <td>False</td>\n",
       "      <td>False</td>\n",
       "      <td>False</td>\n",
       "      <td>False</td>\n",
       "    </tr>\n",
       "    <tr>\n",
       "      <th>141711</th>\n",
       "      <td>False</td>\n",
       "      <td>False</td>\n",
       "      <td>False</td>\n",
       "      <td>False</td>\n",
       "      <td>False</td>\n",
       "      <td>False</td>\n",
       "      <td>False</td>\n",
       "      <td>False</td>\n",
       "      <td>False</td>\n",
       "      <td>False</td>\n",
       "      <td>...</td>\n",
       "      <td>False</td>\n",
       "      <td>False</td>\n",
       "      <td>False</td>\n",
       "      <td>False</td>\n",
       "      <td>False</td>\n",
       "      <td>False</td>\n",
       "      <td>False</td>\n",
       "      <td>False</td>\n",
       "      <td>False</td>\n",
       "      <td>False</td>\n",
       "    </tr>\n",
       "  </tbody>\n",
       "</table>\n",
       "<p>141712 rows × 36 columns</p>\n",
       "</div>"
      ],
      "text/plain": [
       "        number  incident_state  active  reassignment_count  reopen_count  \\\n",
       "0        False           False   False               False         False   \n",
       "1        False           False   False               False         False   \n",
       "2        False           False   False               False         False   \n",
       "3        False           False   False               False         False   \n",
       "4        False           False   False               False         False   \n",
       "...        ...             ...     ...                 ...           ...   \n",
       "141707   False           False   False               False         False   \n",
       "141708   False           False   False               False         False   \n",
       "141709   False           False   False               False         False   \n",
       "141710   False           False   False               False         False   \n",
       "141711   False           False   False               False         False   \n",
       "\n",
       "        sys_mod_count  made_sla  caller_id  opened_by  opened_at  ...  \\\n",
       "0               False     False      False      False      False  ...   \n",
       "1               False     False      False      False      False  ...   \n",
       "2               False     False      False      False      False  ...   \n",
       "3               False     False      False      False      False  ...   \n",
       "4               False     False      False      False      False  ...   \n",
       "...               ...       ...        ...        ...        ...  ...   \n",
       "141707          False     False      False      False      False  ...   \n",
       "141708          False     False      False      False      False  ...   \n",
       "141709          False     False      False      False      False  ...   \n",
       "141710          False     False      False      False      False  ...   \n",
       "141711          False     False      False      False      False  ...   \n",
       "\n",
       "        u_priority_confirmation  notify  problem_id    rfc  vendor  caused_by  \\\n",
       "0                         False   False       False  False   False      False   \n",
       "1                         False   False       False  False   False      False   \n",
       "2                         False   False       False  False   False      False   \n",
       "3                         False   False       False  False   False      False   \n",
       "4                         False   False       False  False   False      False   \n",
       "...                         ...     ...         ...    ...     ...        ...   \n",
       "141707                    False   False       False  False   False      False   \n",
       "141708                    False   False       False  False   False      False   \n",
       "141709                    False   False       False  False   False      False   \n",
       "141710                    False   False       False  False   False      False   \n",
       "141711                    False   False       False  False   False      False   \n",
       "\n",
       "        closed_code  resolved_by  resolved_at  closed_at  \n",
       "0             False        False        False      False  \n",
       "1             False        False        False      False  \n",
       "2             False        False        False      False  \n",
       "3             False        False        False      False  \n",
       "4             False        False        False      False  \n",
       "...             ...          ...          ...        ...  \n",
       "141707        False        False        False      False  \n",
       "141708        False        False        False      False  \n",
       "141709        False        False        False      False  \n",
       "141710        False        False        False      False  \n",
       "141711        False        False        False      False  \n",
       "\n",
       "[141712 rows x 36 columns]"
      ]
     },
     "execution_count": 4,
     "metadata": {},
     "output_type": "execute_result"
    }
   ],
   "source": [
    "df.isna()"
   ]
  },
  {
   "cell_type": "code",
   "execution_count": null,
   "metadata": {
    "colab": {
     "base_uri": "https://localhost:8080/"
    },
    "executionInfo": {
     "elapsed": 487,
     "status": "ok",
     "timestamp": 1719522639481,
     "user": {
      "displayName": "Juan F Pérez",
      "userId": "13439628769322192552"
     },
     "user_tz": 300
    },
    "id": "SsetqShYJ24f",
    "outputId": "36195e2d-f2a6-4e35-e97b-18b65551616d"
   },
   "outputs": [
    {
     "data": {
      "text/plain": [
       "number                     0\n",
       "incident_state             0\n",
       "active                     0\n",
       "reassignment_count         0\n",
       "reopen_count               0\n",
       "sys_mod_count              0\n",
       "made_sla                   0\n",
       "caller_id                  0\n",
       "opened_by                  0\n",
       "opened_at                  0\n",
       "sys_created_by             0\n",
       "sys_created_at             0\n",
       "sys_updated_by             0\n",
       "sys_updated_at             0\n",
       "contact_type               0\n",
       "location                   0\n",
       "category                   0\n",
       "subcategory                0\n",
       "u_symptom                  0\n",
       "cmdb_ci                    0\n",
       "impact                     0\n",
       "urgency                    0\n",
       "priority                   0\n",
       "assignment_group           0\n",
       "assigned_to                0\n",
       "knowledge                  0\n",
       "u_priority_confirmation    0\n",
       "notify                     0\n",
       "problem_id                 0\n",
       "rfc                        0\n",
       "vendor                     0\n",
       "caused_by                  0\n",
       "closed_code                0\n",
       "resolved_by                0\n",
       "resolved_at                0\n",
       "closed_at                  0\n",
       "dtype: int64"
      ]
     },
     "execution_count": 5,
     "metadata": {},
     "output_type": "execute_result"
    }
   ],
   "source": [
    "df.isna().sum()"
   ]
  },
  {
   "cell_type": "code",
   "execution_count": 6,
   "metadata": {
    "colab": {
     "base_uri": "https://localhost:8080/"
    },
    "executionInfo": {
     "elapsed": 23,
     "status": "ok",
     "timestamp": 1719519699447,
     "user": {
      "displayName": "Juan F Pérez",
      "userId": "13439628769322192552"
     },
     "user_tz": 300
    },
    "id": "_quGY8eaPLs9",
    "outputId": "12919af0-f18f-4fdf-9477-75e904c7fc87"
   },
   "outputs": [
    {
     "data": {
      "text/plain": [
       "Pregnant             768\n",
       "Glucose              763\n",
       "Diastolic_BP         733\n",
       "Skin_Fold            541\n",
       "Serum_Insulin        394\n",
       "BMI                  757\n",
       "Diabetes_Pedigree    768\n",
       "Age                  768\n",
       "Class                768\n",
       "dtype: int64"
      ]
     },
     "execution_count": 6,
     "metadata": {},
     "output_type": "execute_result"
    }
   ],
   "source": [
    "df.notna().sum()"
   ]
  },
  {
   "cell_type": "code",
   "execution_count": 7,
   "metadata": {
    "colab": {
     "base_uri": "https://localhost:8080/"
    },
    "executionInfo": {
     "elapsed": 436,
     "status": "ok",
     "timestamp": 1719522819707,
     "user": {
      "displayName": "Juan F Pérez",
      "userId": "13439628769322192552"
     },
     "user_tz": 300
    },
    "id": "j-3bKTmOK4TV",
    "outputId": "688fdc16-36f3-4501-8088-477e9f92f305"
   },
   "outputs": [
    {
     "data": {
      "text/plain": [
       "Pregnant               0\n",
       "Glucose                5\n",
       "Diastolic_BP          35\n",
       "Skin_Fold            227\n",
       "Serum_Insulin        374\n",
       "BMI                   11\n",
       "Diabetes_Pedigree      0\n",
       "Age                    0\n",
       "Class                  0\n",
       "dtype: int64"
      ]
     },
     "execution_count": 7,
     "metadata": {},
     "output_type": "execute_result"
    }
   ],
   "source": [
    "df.isna().sum(axis=0)"
   ]
  },
  {
   "cell_type": "code",
   "execution_count": 8,
   "metadata": {
    "colab": {
     "base_uri": "https://localhost:8080/"
    },
    "executionInfo": {
     "elapsed": 377,
     "status": "ok",
     "timestamp": 1719522917057,
     "user": {
      "displayName": "Juan F Pérez",
      "userId": "13439628769322192552"
     },
     "user_tz": 300
    },
    "id": "YONm-Ya-LiKK",
    "outputId": "7c1b41e1-0131-49df-b7df-85400f4cfb79"
   },
   "outputs": [
    {
     "data": {
      "text/plain": [
       "(768, 9)"
      ]
     },
     "execution_count": 8,
     "metadata": {},
     "output_type": "execute_result"
    }
   ],
   "source": [
    "df.shape"
   ]
  },
  {
   "cell_type": "code",
   "execution_count": 9,
   "metadata": {
    "colab": {
     "base_uri": "https://localhost:8080/"
    },
    "executionInfo": {
     "elapsed": 387,
     "status": "ok",
     "timestamp": 1719522974584,
     "user": {
      "displayName": "Juan F Pérez",
      "userId": "13439628769322192552"
     },
     "user_tz": 300
    },
    "id": "fkMm6-B-LlWM",
    "outputId": "171547c2-6130-4910-f8e4-604d29fe96e9"
   },
   "outputs": [
    {
     "data": {
      "text/plain": [
       "Pregnant              0.000000\n",
       "Glucose               0.651042\n",
       "Diastolic_BP          4.557292\n",
       "Skin_Fold            29.557292\n",
       "Serum_Insulin        48.697917\n",
       "BMI                   1.432292\n",
       "Diabetes_Pedigree     0.000000\n",
       "Age                   0.000000\n",
       "Class                 0.000000\n",
       "dtype: float64"
      ]
     },
     "execution_count": 9,
     "metadata": {},
     "output_type": "execute_result"
    }
   ],
   "source": [
    "df.isna().sum(axis=0)/df.shape[0]*100"
   ]
  },
  {
   "cell_type": "code",
   "execution_count": 10,
   "metadata": {
    "colab": {
     "base_uri": "https://localhost:8080/"
    },
    "executionInfo": {
     "elapsed": 17,
     "status": "ok",
     "timestamp": 1719519699448,
     "user": {
      "displayName": "Juan F Pérez",
      "userId": "13439628769322192552"
     },
     "user_tz": 300
    },
    "id": "K_WCjUtuPRaH",
    "outputId": "d2e9d905-c0c3-4641-e6af-282d056b96cc"
   },
   "outputs": [
    {
     "data": {
      "text/plain": [
       "Pregnant             100.000000\n",
       "Glucose               99.348958\n",
       "Diastolic_BP          95.442708\n",
       "Skin_Fold             70.442708\n",
       "Serum_Insulin         51.302083\n",
       "BMI                   98.567708\n",
       "Diabetes_Pedigree    100.000000\n",
       "Age                  100.000000\n",
       "Class                100.000000\n",
       "dtype: float64"
      ]
     },
     "execution_count": 10,
     "metadata": {},
     "output_type": "execute_result"
    }
   ],
   "source": [
    "df.notna().sum(axis=0)/df.shape[0]*100"
   ]
  },
  {
   "cell_type": "code",
   "execution_count": 11,
   "metadata": {
    "colab": {
     "base_uri": "https://localhost:8080/",
     "height": 423
    },
    "executionInfo": {
     "elapsed": 1741,
     "status": "ok",
     "timestamp": 1719523073126,
     "user": {
      "displayName": "Juan F Pérez",
      "userId": "13439628769322192552"
     },
     "user_tz": 300
    },
    "id": "egSeDBzEMbn9",
    "outputId": "cc37ec88-5126-4937-d0de-abc47123fffd"
   },
   "outputs": [
    {
     "data": {
      "text/html": [
       "<div>\n",
       "<style scoped>\n",
       "    .dataframe tbody tr th:only-of-type {\n",
       "        vertical-align: middle;\n",
       "    }\n",
       "\n",
       "    .dataframe tbody tr th {\n",
       "        vertical-align: top;\n",
       "    }\n",
       "\n",
       "    .dataframe thead th {\n",
       "        text-align: right;\n",
       "    }\n",
       "</style>\n",
       "<table border=\"1\" class=\"dataframe\">\n",
       "  <thead>\n",
       "    <tr style=\"text-align: right;\">\n",
       "      <th></th>\n",
       "      <th>Pregnant</th>\n",
       "      <th>Glucose</th>\n",
       "      <th>Diastolic_BP</th>\n",
       "      <th>Skin_Fold</th>\n",
       "      <th>Serum_Insulin</th>\n",
       "      <th>BMI</th>\n",
       "      <th>Diabetes_Pedigree</th>\n",
       "      <th>Age</th>\n",
       "      <th>Class</th>\n",
       "    </tr>\n",
       "  </thead>\n",
       "  <tbody>\n",
       "    <tr>\n",
       "      <th>3</th>\n",
       "      <td>1</td>\n",
       "      <td>89.0</td>\n",
       "      <td>66.0</td>\n",
       "      <td>23.0</td>\n",
       "      <td>94.0</td>\n",
       "      <td>28.1</td>\n",
       "      <td>0.167</td>\n",
       "      <td>21</td>\n",
       "      <td>0</td>\n",
       "    </tr>\n",
       "    <tr>\n",
       "      <th>4</th>\n",
       "      <td>0</td>\n",
       "      <td>137.0</td>\n",
       "      <td>40.0</td>\n",
       "      <td>35.0</td>\n",
       "      <td>168.0</td>\n",
       "      <td>43.1</td>\n",
       "      <td>2.288</td>\n",
       "      <td>33</td>\n",
       "      <td>1</td>\n",
       "    </tr>\n",
       "    <tr>\n",
       "      <th>6</th>\n",
       "      <td>3</td>\n",
       "      <td>78.0</td>\n",
       "      <td>50.0</td>\n",
       "      <td>32.0</td>\n",
       "      <td>88.0</td>\n",
       "      <td>31.0</td>\n",
       "      <td>0.248</td>\n",
       "      <td>26</td>\n",
       "      <td>1</td>\n",
       "    </tr>\n",
       "    <tr>\n",
       "      <th>8</th>\n",
       "      <td>2</td>\n",
       "      <td>197.0</td>\n",
       "      <td>70.0</td>\n",
       "      <td>45.0</td>\n",
       "      <td>543.0</td>\n",
       "      <td>30.5</td>\n",
       "      <td>0.158</td>\n",
       "      <td>53</td>\n",
       "      <td>1</td>\n",
       "    </tr>\n",
       "    <tr>\n",
       "      <th>13</th>\n",
       "      <td>1</td>\n",
       "      <td>189.0</td>\n",
       "      <td>60.0</td>\n",
       "      <td>23.0</td>\n",
       "      <td>846.0</td>\n",
       "      <td>30.1</td>\n",
       "      <td>0.398</td>\n",
       "      <td>59</td>\n",
       "      <td>1</td>\n",
       "    </tr>\n",
       "    <tr>\n",
       "      <th>...</th>\n",
       "      <td>...</td>\n",
       "      <td>...</td>\n",
       "      <td>...</td>\n",
       "      <td>...</td>\n",
       "      <td>...</td>\n",
       "      <td>...</td>\n",
       "      <td>...</td>\n",
       "      <td>...</td>\n",
       "      <td>...</td>\n",
       "    </tr>\n",
       "    <tr>\n",
       "      <th>753</th>\n",
       "      <td>0</td>\n",
       "      <td>181.0</td>\n",
       "      <td>88.0</td>\n",
       "      <td>44.0</td>\n",
       "      <td>510.0</td>\n",
       "      <td>43.3</td>\n",
       "      <td>0.222</td>\n",
       "      <td>26</td>\n",
       "      <td>1</td>\n",
       "    </tr>\n",
       "    <tr>\n",
       "      <th>755</th>\n",
       "      <td>1</td>\n",
       "      <td>128.0</td>\n",
       "      <td>88.0</td>\n",
       "      <td>39.0</td>\n",
       "      <td>110.0</td>\n",
       "      <td>36.5</td>\n",
       "      <td>1.057</td>\n",
       "      <td>37</td>\n",
       "      <td>1</td>\n",
       "    </tr>\n",
       "    <tr>\n",
       "      <th>760</th>\n",
       "      <td>2</td>\n",
       "      <td>88.0</td>\n",
       "      <td>58.0</td>\n",
       "      <td>26.0</td>\n",
       "      <td>16.0</td>\n",
       "      <td>28.4</td>\n",
       "      <td>0.766</td>\n",
       "      <td>22</td>\n",
       "      <td>0</td>\n",
       "    </tr>\n",
       "    <tr>\n",
       "      <th>763</th>\n",
       "      <td>10</td>\n",
       "      <td>101.0</td>\n",
       "      <td>76.0</td>\n",
       "      <td>48.0</td>\n",
       "      <td>180.0</td>\n",
       "      <td>32.9</td>\n",
       "      <td>0.171</td>\n",
       "      <td>63</td>\n",
       "      <td>0</td>\n",
       "    </tr>\n",
       "    <tr>\n",
       "      <th>765</th>\n",
       "      <td>5</td>\n",
       "      <td>121.0</td>\n",
       "      <td>72.0</td>\n",
       "      <td>23.0</td>\n",
       "      <td>112.0</td>\n",
       "      <td>26.2</td>\n",
       "      <td>0.245</td>\n",
       "      <td>30</td>\n",
       "      <td>0</td>\n",
       "    </tr>\n",
       "  </tbody>\n",
       "</table>\n",
       "<p>392 rows × 9 columns</p>\n",
       "</div>"
      ],
      "text/plain": [
       "     Pregnant  Glucose  Diastolic_BP  Skin_Fold  Serum_Insulin   BMI  \\\n",
       "3           1     89.0          66.0       23.0           94.0  28.1   \n",
       "4           0    137.0          40.0       35.0          168.0  43.1   \n",
       "6           3     78.0          50.0       32.0           88.0  31.0   \n",
       "8           2    197.0          70.0       45.0          543.0  30.5   \n",
       "13          1    189.0          60.0       23.0          846.0  30.1   \n",
       "..        ...      ...           ...        ...            ...   ...   \n",
       "753         0    181.0          88.0       44.0          510.0  43.3   \n",
       "755         1    128.0          88.0       39.0          110.0  36.5   \n",
       "760         2     88.0          58.0       26.0           16.0  28.4   \n",
       "763        10    101.0          76.0       48.0          180.0  32.9   \n",
       "765         5    121.0          72.0       23.0          112.0  26.2   \n",
       "\n",
       "     Diabetes_Pedigree  Age  Class  \n",
       "3                0.167   21      0  \n",
       "4                2.288   33      1  \n",
       "6                0.248   26      1  \n",
       "8                0.158   53      1  \n",
       "13               0.398   59      1  \n",
       "..                 ...  ...    ...  \n",
       "753              0.222   26      1  \n",
       "755              1.057   37      1  \n",
       "760              0.766   22      0  \n",
       "763              0.171   63      0  \n",
       "765              0.245   30      0  \n",
       "\n",
       "[392 rows x 9 columns]"
      ]
     },
     "execution_count": 11,
     "metadata": {},
     "output_type": "execute_result"
    }
   ],
   "source": [
    "df.dropna()"
   ]
  },
  {
   "cell_type": "code",
   "execution_count": 12,
   "metadata": {
    "colab": {
     "base_uri": "https://localhost:8080/"
    },
    "executionInfo": {
     "elapsed": 396,
     "status": "ok",
     "timestamp": 1719523158920,
     "user": {
      "displayName": "Juan F Pérez",
      "userId": "13439628769322192552"
     },
     "user_tz": 300
    },
    "id": "JxrU6MlfMiGf",
    "outputId": "96a67594-2bf6-4be4-d53e-d26e4429f78e"
   },
   "outputs": [
    {
     "data": {
      "text/plain": [
       "(392, 9)"
      ]
     },
     "execution_count": 12,
     "metadata": {},
     "output_type": "execute_result"
    }
   ],
   "source": [
    "df.dropna().shape"
   ]
  },
  {
   "cell_type": "code",
   "execution_count": 13,
   "metadata": {
    "colab": {
     "base_uri": "https://localhost:8080/"
    },
    "executionInfo": {
     "elapsed": 493,
     "status": "ok",
     "timestamp": 1719523202798,
     "user": {
      "displayName": "Juan F Pérez",
      "userId": "13439628769322192552"
     },
     "user_tz": 300
    },
    "id": "R_qPKu1aNMVL",
    "outputId": "ba458a05-e5ea-4fa7-bf34-d5d101fb3b05"
   },
   "outputs": [
    {
     "data": {
      "text/plain": [
       "(768, 9)"
      ]
     },
     "execution_count": 13,
     "metadata": {},
     "output_type": "execute_result"
    }
   ],
   "source": [
    "df.dropna(how=\"all\").shape # any vs all"
   ]
  },
  {
   "cell_type": "code",
   "execution_count": 14,
   "metadata": {
    "colab": {
     "base_uri": "https://localhost:8080/"
    },
    "executionInfo": {
     "elapsed": 790,
     "status": "ok",
     "timestamp": 1719523429561,
     "user": {
      "displayName": "Juan F Pérez",
      "userId": "13439628769322192552"
     },
     "user_tz": 300
    },
    "id": "aZi1pPRsNUQ-",
    "outputId": "1728a7f1-9994-4bd5-cd4b-8465fa2ad4b0"
   },
   "outputs": [
    {
     "data": {
      "text/plain": [
       "(392, 9)"
      ]
     },
     "execution_count": 14,
     "metadata": {},
     "output_type": "execute_result"
    }
   ],
   "source": [
    "df.dropna(thresh=9).shape # número de no NAs necesarios"
   ]
  },
  {
   "cell_type": "code",
   "execution_count": 15,
   "metadata": {
    "colab": {
     "base_uri": "https://localhost:8080/",
     "height": 423
    },
    "executionInfo": {
     "elapsed": 474,
     "status": "ok",
     "timestamp": 1719519699917,
     "user": {
      "displayName": "Juan F Pérez",
      "userId": "13439628769322192552"
     },
     "user_tz": 300
    },
    "id": "L9eAxXIFO7fb",
    "outputId": "98805652-73cb-4e65-f567-dbde4be6aeaa"
   },
   "outputs": [
    {
     "data": {
      "text/html": [
       "<div>\n",
       "<style scoped>\n",
       "    .dataframe tbody tr th:only-of-type {\n",
       "        vertical-align: middle;\n",
       "    }\n",
       "\n",
       "    .dataframe tbody tr th {\n",
       "        vertical-align: top;\n",
       "    }\n",
       "\n",
       "    .dataframe thead th {\n",
       "        text-align: right;\n",
       "    }\n",
       "</style>\n",
       "<table border=\"1\" class=\"dataframe\">\n",
       "  <thead>\n",
       "    <tr style=\"text-align: right;\">\n",
       "      <th></th>\n",
       "      <th>Pregnant</th>\n",
       "      <th>Diabetes_Pedigree</th>\n",
       "      <th>Age</th>\n",
       "      <th>Class</th>\n",
       "    </tr>\n",
       "  </thead>\n",
       "  <tbody>\n",
       "    <tr>\n",
       "      <th>0</th>\n",
       "      <td>6</td>\n",
       "      <td>0.627</td>\n",
       "      <td>50</td>\n",
       "      <td>1</td>\n",
       "    </tr>\n",
       "    <tr>\n",
       "      <th>1</th>\n",
       "      <td>1</td>\n",
       "      <td>0.351</td>\n",
       "      <td>31</td>\n",
       "      <td>0</td>\n",
       "    </tr>\n",
       "    <tr>\n",
       "      <th>2</th>\n",
       "      <td>8</td>\n",
       "      <td>0.672</td>\n",
       "      <td>32</td>\n",
       "      <td>1</td>\n",
       "    </tr>\n",
       "    <tr>\n",
       "      <th>3</th>\n",
       "      <td>1</td>\n",
       "      <td>0.167</td>\n",
       "      <td>21</td>\n",
       "      <td>0</td>\n",
       "    </tr>\n",
       "    <tr>\n",
       "      <th>4</th>\n",
       "      <td>0</td>\n",
       "      <td>2.288</td>\n",
       "      <td>33</td>\n",
       "      <td>1</td>\n",
       "    </tr>\n",
       "    <tr>\n",
       "      <th>...</th>\n",
       "      <td>...</td>\n",
       "      <td>...</td>\n",
       "      <td>...</td>\n",
       "      <td>...</td>\n",
       "    </tr>\n",
       "    <tr>\n",
       "      <th>763</th>\n",
       "      <td>10</td>\n",
       "      <td>0.171</td>\n",
       "      <td>63</td>\n",
       "      <td>0</td>\n",
       "    </tr>\n",
       "    <tr>\n",
       "      <th>764</th>\n",
       "      <td>2</td>\n",
       "      <td>0.340</td>\n",
       "      <td>27</td>\n",
       "      <td>0</td>\n",
       "    </tr>\n",
       "    <tr>\n",
       "      <th>765</th>\n",
       "      <td>5</td>\n",
       "      <td>0.245</td>\n",
       "      <td>30</td>\n",
       "      <td>0</td>\n",
       "    </tr>\n",
       "    <tr>\n",
       "      <th>766</th>\n",
       "      <td>1</td>\n",
       "      <td>0.349</td>\n",
       "      <td>47</td>\n",
       "      <td>1</td>\n",
       "    </tr>\n",
       "    <tr>\n",
       "      <th>767</th>\n",
       "      <td>1</td>\n",
       "      <td>0.315</td>\n",
       "      <td>23</td>\n",
       "      <td>0</td>\n",
       "    </tr>\n",
       "  </tbody>\n",
       "</table>\n",
       "<p>768 rows × 4 columns</p>\n",
       "</div>"
      ],
      "text/plain": [
       "     Pregnant  Diabetes_Pedigree  Age  Class\n",
       "0           6              0.627   50      1\n",
       "1           1              0.351   31      0\n",
       "2           8              0.672   32      1\n",
       "3           1              0.167   21      0\n",
       "4           0              2.288   33      1\n",
       "..        ...                ...  ...    ...\n",
       "763        10              0.171   63      0\n",
       "764         2              0.340   27      0\n",
       "765         5              0.245   30      0\n",
       "766         1              0.349   47      1\n",
       "767         1              0.315   23      0\n",
       "\n",
       "[768 rows x 4 columns]"
      ]
     },
     "execution_count": 15,
     "metadata": {},
     "output_type": "execute_result"
    }
   ],
   "source": [
    "df.dropna(axis='columns')"
   ]
  },
  {
   "cell_type": "code",
   "execution_count": 16,
   "metadata": {
    "colab": {
     "base_uri": "https://localhost:8080/",
     "height": 423
    },
    "executionInfo": {
     "elapsed": 15,
     "status": "ok",
     "timestamp": 1719519699917,
     "user": {
      "displayName": "Juan F Pérez",
      "userId": "13439628769322192552"
     },
     "user_tz": 300
    },
    "id": "guYFxQrUPzzR",
    "outputId": "88204015-d2d4-4e1a-e0c3-cb28e56d612f"
   },
   "outputs": [
    {
     "data": {
      "text/html": [
       "<div>\n",
       "<style scoped>\n",
       "    .dataframe tbody tr th:only-of-type {\n",
       "        vertical-align: middle;\n",
       "    }\n",
       "\n",
       "    .dataframe tbody tr th {\n",
       "        vertical-align: top;\n",
       "    }\n",
       "\n",
       "    .dataframe thead th {\n",
       "        text-align: right;\n",
       "    }\n",
       "</style>\n",
       "<table border=\"1\" class=\"dataframe\">\n",
       "  <thead>\n",
       "    <tr style=\"text-align: right;\">\n",
       "      <th></th>\n",
       "      <th>Pregnant</th>\n",
       "      <th>Glucose</th>\n",
       "      <th>Diastolic_BP</th>\n",
       "      <th>Skin_Fold</th>\n",
       "      <th>Serum_Insulin</th>\n",
       "      <th>BMI</th>\n",
       "      <th>Diabetes_Pedigree</th>\n",
       "      <th>Age</th>\n",
       "      <th>Class</th>\n",
       "    </tr>\n",
       "  </thead>\n",
       "  <tbody>\n",
       "    <tr>\n",
       "      <th>0</th>\n",
       "      <td>False</td>\n",
       "      <td>False</td>\n",
       "      <td>False</td>\n",
       "      <td>False</td>\n",
       "      <td>True</td>\n",
       "      <td>False</td>\n",
       "      <td>False</td>\n",
       "      <td>False</td>\n",
       "      <td>False</td>\n",
       "    </tr>\n",
       "    <tr>\n",
       "      <th>1</th>\n",
       "      <td>False</td>\n",
       "      <td>False</td>\n",
       "      <td>False</td>\n",
       "      <td>False</td>\n",
       "      <td>True</td>\n",
       "      <td>False</td>\n",
       "      <td>False</td>\n",
       "      <td>False</td>\n",
       "      <td>False</td>\n",
       "    </tr>\n",
       "    <tr>\n",
       "      <th>2</th>\n",
       "      <td>False</td>\n",
       "      <td>False</td>\n",
       "      <td>False</td>\n",
       "      <td>True</td>\n",
       "      <td>True</td>\n",
       "      <td>False</td>\n",
       "      <td>False</td>\n",
       "      <td>False</td>\n",
       "      <td>False</td>\n",
       "    </tr>\n",
       "    <tr>\n",
       "      <th>3</th>\n",
       "      <td>False</td>\n",
       "      <td>False</td>\n",
       "      <td>False</td>\n",
       "      <td>False</td>\n",
       "      <td>False</td>\n",
       "      <td>False</td>\n",
       "      <td>False</td>\n",
       "      <td>False</td>\n",
       "      <td>False</td>\n",
       "    </tr>\n",
       "    <tr>\n",
       "      <th>4</th>\n",
       "      <td>False</td>\n",
       "      <td>False</td>\n",
       "      <td>False</td>\n",
       "      <td>False</td>\n",
       "      <td>False</td>\n",
       "      <td>False</td>\n",
       "      <td>False</td>\n",
       "      <td>False</td>\n",
       "      <td>False</td>\n",
       "    </tr>\n",
       "    <tr>\n",
       "      <th>...</th>\n",
       "      <td>...</td>\n",
       "      <td>...</td>\n",
       "      <td>...</td>\n",
       "      <td>...</td>\n",
       "      <td>...</td>\n",
       "      <td>...</td>\n",
       "      <td>...</td>\n",
       "      <td>...</td>\n",
       "      <td>...</td>\n",
       "    </tr>\n",
       "    <tr>\n",
       "      <th>763</th>\n",
       "      <td>False</td>\n",
       "      <td>False</td>\n",
       "      <td>False</td>\n",
       "      <td>False</td>\n",
       "      <td>False</td>\n",
       "      <td>False</td>\n",
       "      <td>False</td>\n",
       "      <td>False</td>\n",
       "      <td>False</td>\n",
       "    </tr>\n",
       "    <tr>\n",
       "      <th>764</th>\n",
       "      <td>False</td>\n",
       "      <td>False</td>\n",
       "      <td>False</td>\n",
       "      <td>False</td>\n",
       "      <td>True</td>\n",
       "      <td>False</td>\n",
       "      <td>False</td>\n",
       "      <td>False</td>\n",
       "      <td>False</td>\n",
       "    </tr>\n",
       "    <tr>\n",
       "      <th>765</th>\n",
       "      <td>False</td>\n",
       "      <td>False</td>\n",
       "      <td>False</td>\n",
       "      <td>False</td>\n",
       "      <td>False</td>\n",
       "      <td>False</td>\n",
       "      <td>False</td>\n",
       "      <td>False</td>\n",
       "      <td>False</td>\n",
       "    </tr>\n",
       "    <tr>\n",
       "      <th>766</th>\n",
       "      <td>False</td>\n",
       "      <td>False</td>\n",
       "      <td>False</td>\n",
       "      <td>True</td>\n",
       "      <td>True</td>\n",
       "      <td>False</td>\n",
       "      <td>False</td>\n",
       "      <td>False</td>\n",
       "      <td>False</td>\n",
       "    </tr>\n",
       "    <tr>\n",
       "      <th>767</th>\n",
       "      <td>False</td>\n",
       "      <td>False</td>\n",
       "      <td>False</td>\n",
       "      <td>False</td>\n",
       "      <td>True</td>\n",
       "      <td>False</td>\n",
       "      <td>False</td>\n",
       "      <td>False</td>\n",
       "      <td>False</td>\n",
       "    </tr>\n",
       "  </tbody>\n",
       "</table>\n",
       "<p>768 rows × 9 columns</p>\n",
       "</div>"
      ],
      "text/plain": [
       "     Pregnant  Glucose  Diastolic_BP  Skin_Fold  Serum_Insulin    BMI  \\\n",
       "0       False    False         False      False           True  False   \n",
       "1       False    False         False      False           True  False   \n",
       "2       False    False         False       True           True  False   \n",
       "3       False    False         False      False          False  False   \n",
       "4       False    False         False      False          False  False   \n",
       "..        ...      ...           ...        ...            ...    ...   \n",
       "763     False    False         False      False          False  False   \n",
       "764     False    False         False      False           True  False   \n",
       "765     False    False         False      False          False  False   \n",
       "766     False    False         False       True           True  False   \n",
       "767     False    False         False      False           True  False   \n",
       "\n",
       "     Diabetes_Pedigree    Age  Class  \n",
       "0                False  False  False  \n",
       "1                False  False  False  \n",
       "2                False  False  False  \n",
       "3                False  False  False  \n",
       "4                False  False  False  \n",
       "..                 ...    ...    ...  \n",
       "763              False  False  False  \n",
       "764              False  False  False  \n",
       "765              False  False  False  \n",
       "766              False  False  False  \n",
       "767              False  False  False  \n",
       "\n",
       "[768 rows x 9 columns]"
      ]
     },
     "execution_count": 16,
     "metadata": {},
     "output_type": "execute_result"
    }
   ],
   "source": [
    "df.isna()"
   ]
  },
  {
   "cell_type": "code",
   "execution_count": 17,
   "metadata": {
    "colab": {
     "base_uri": "https://localhost:8080/",
     "height": 423
    },
    "executionInfo": {
     "elapsed": 451,
     "status": "ok",
     "timestamp": 1719523699000,
     "user": {
      "displayName": "Juan F Pérez",
      "userId": "13439628769322192552"
     },
     "user_tz": 300
    },
    "id": "sjDVJ-iqOYE5",
    "outputId": "ef6e4673-0f42-4893-c659-a87fc0c99c08"
   },
   "outputs": [
    {
     "data": {
      "text/html": [
       "<div>\n",
       "<style scoped>\n",
       "    .dataframe tbody tr th:only-of-type {\n",
       "        vertical-align: middle;\n",
       "    }\n",
       "\n",
       "    .dataframe tbody tr th {\n",
       "        vertical-align: top;\n",
       "    }\n",
       "\n",
       "    .dataframe thead th {\n",
       "        text-align: right;\n",
       "    }\n",
       "</style>\n",
       "<table border=\"1\" class=\"dataframe\">\n",
       "  <thead>\n",
       "    <tr style=\"text-align: right;\">\n",
       "      <th></th>\n",
       "      <th>Pregnant</th>\n",
       "      <th>Glucose</th>\n",
       "      <th>Diastolic_BP</th>\n",
       "      <th>Skin_Fold</th>\n",
       "      <th>Serum_Insulin</th>\n",
       "      <th>BMI</th>\n",
       "      <th>Diabetes_Pedigree</th>\n",
       "      <th>Age</th>\n",
       "      <th>Class</th>\n",
       "    </tr>\n",
       "  </thead>\n",
       "  <tbody>\n",
       "    <tr>\n",
       "      <th>0</th>\n",
       "      <td>6</td>\n",
       "      <td>148.0</td>\n",
       "      <td>72.0</td>\n",
       "      <td>35.0</td>\n",
       "      <td>10000.0</td>\n",
       "      <td>33.6</td>\n",
       "      <td>0.627</td>\n",
       "      <td>50</td>\n",
       "      <td>1</td>\n",
       "    </tr>\n",
       "    <tr>\n",
       "      <th>1</th>\n",
       "      <td>1</td>\n",
       "      <td>85.0</td>\n",
       "      <td>66.0</td>\n",
       "      <td>29.0</td>\n",
       "      <td>10000.0</td>\n",
       "      <td>26.6</td>\n",
       "      <td>0.351</td>\n",
       "      <td>31</td>\n",
       "      <td>0</td>\n",
       "    </tr>\n",
       "    <tr>\n",
       "      <th>2</th>\n",
       "      <td>8</td>\n",
       "      <td>183.0</td>\n",
       "      <td>64.0</td>\n",
       "      <td>10000.0</td>\n",
       "      <td>10000.0</td>\n",
       "      <td>23.3</td>\n",
       "      <td>0.672</td>\n",
       "      <td>32</td>\n",
       "      <td>1</td>\n",
       "    </tr>\n",
       "    <tr>\n",
       "      <th>3</th>\n",
       "      <td>1</td>\n",
       "      <td>89.0</td>\n",
       "      <td>66.0</td>\n",
       "      <td>23.0</td>\n",
       "      <td>94.0</td>\n",
       "      <td>28.1</td>\n",
       "      <td>0.167</td>\n",
       "      <td>21</td>\n",
       "      <td>0</td>\n",
       "    </tr>\n",
       "    <tr>\n",
       "      <th>4</th>\n",
       "      <td>0</td>\n",
       "      <td>137.0</td>\n",
       "      <td>40.0</td>\n",
       "      <td>35.0</td>\n",
       "      <td>168.0</td>\n",
       "      <td>43.1</td>\n",
       "      <td>2.288</td>\n",
       "      <td>33</td>\n",
       "      <td>1</td>\n",
       "    </tr>\n",
       "    <tr>\n",
       "      <th>...</th>\n",
       "      <td>...</td>\n",
       "      <td>...</td>\n",
       "      <td>...</td>\n",
       "      <td>...</td>\n",
       "      <td>...</td>\n",
       "      <td>...</td>\n",
       "      <td>...</td>\n",
       "      <td>...</td>\n",
       "      <td>...</td>\n",
       "    </tr>\n",
       "    <tr>\n",
       "      <th>763</th>\n",
       "      <td>10</td>\n",
       "      <td>101.0</td>\n",
       "      <td>76.0</td>\n",
       "      <td>48.0</td>\n",
       "      <td>180.0</td>\n",
       "      <td>32.9</td>\n",
       "      <td>0.171</td>\n",
       "      <td>63</td>\n",
       "      <td>0</td>\n",
       "    </tr>\n",
       "    <tr>\n",
       "      <th>764</th>\n",
       "      <td>2</td>\n",
       "      <td>122.0</td>\n",
       "      <td>70.0</td>\n",
       "      <td>27.0</td>\n",
       "      <td>10000.0</td>\n",
       "      <td>36.8</td>\n",
       "      <td>0.340</td>\n",
       "      <td>27</td>\n",
       "      <td>0</td>\n",
       "    </tr>\n",
       "    <tr>\n",
       "      <th>765</th>\n",
       "      <td>5</td>\n",
       "      <td>121.0</td>\n",
       "      <td>72.0</td>\n",
       "      <td>23.0</td>\n",
       "      <td>112.0</td>\n",
       "      <td>26.2</td>\n",
       "      <td>0.245</td>\n",
       "      <td>30</td>\n",
       "      <td>0</td>\n",
       "    </tr>\n",
       "    <tr>\n",
       "      <th>766</th>\n",
       "      <td>1</td>\n",
       "      <td>126.0</td>\n",
       "      <td>60.0</td>\n",
       "      <td>10000.0</td>\n",
       "      <td>10000.0</td>\n",
       "      <td>30.1</td>\n",
       "      <td>0.349</td>\n",
       "      <td>47</td>\n",
       "      <td>1</td>\n",
       "    </tr>\n",
       "    <tr>\n",
       "      <th>767</th>\n",
       "      <td>1</td>\n",
       "      <td>93.0</td>\n",
       "      <td>70.0</td>\n",
       "      <td>31.0</td>\n",
       "      <td>10000.0</td>\n",
       "      <td>30.4</td>\n",
       "      <td>0.315</td>\n",
       "      <td>23</td>\n",
       "      <td>0</td>\n",
       "    </tr>\n",
       "  </tbody>\n",
       "</table>\n",
       "<p>768 rows × 9 columns</p>\n",
       "</div>"
      ],
      "text/plain": [
       "     Pregnant  Glucose  Diastolic_BP  Skin_Fold  Serum_Insulin   BMI  \\\n",
       "0           6    148.0          72.0       35.0        10000.0  33.6   \n",
       "1           1     85.0          66.0       29.0        10000.0  26.6   \n",
       "2           8    183.0          64.0    10000.0        10000.0  23.3   \n",
       "3           1     89.0          66.0       23.0           94.0  28.1   \n",
       "4           0    137.0          40.0       35.0          168.0  43.1   \n",
       "..        ...      ...           ...        ...            ...   ...   \n",
       "763        10    101.0          76.0       48.0          180.0  32.9   \n",
       "764         2    122.0          70.0       27.0        10000.0  36.8   \n",
       "765         5    121.0          72.0       23.0          112.0  26.2   \n",
       "766         1    126.0          60.0    10000.0        10000.0  30.1   \n",
       "767         1     93.0          70.0       31.0        10000.0  30.4   \n",
       "\n",
       "     Diabetes_Pedigree  Age  Class  \n",
       "0                0.627   50      1  \n",
       "1                0.351   31      0  \n",
       "2                0.672   32      1  \n",
       "3                0.167   21      0  \n",
       "4                2.288   33      1  \n",
       "..                 ...  ...    ...  \n",
       "763              0.171   63      0  \n",
       "764              0.340   27      0  \n",
       "765              0.245   30      0  \n",
       "766              0.349   47      1  \n",
       "767              0.315   23      0  \n",
       "\n",
       "[768 rows x 9 columns]"
      ]
     },
     "execution_count": 17,
     "metadata": {},
     "output_type": "execute_result"
    }
   ],
   "source": [
    "df.fillna(10000)"
   ]
  },
  {
   "cell_type": "code",
   "execution_count": 18,
   "metadata": {
    "colab": {
     "base_uri": "https://localhost:8080/",
     "height": 423
    },
    "executionInfo": {
     "elapsed": 415,
     "status": "ok",
     "timestamp": 1719523756418,
     "user": {
      "displayName": "Juan F Pérez",
      "userId": "13439628769322192552"
     },
     "user_tz": 300
    },
    "id": "Ro_-3sEQP8-w",
    "outputId": "3055b572-9be4-49dc-ca02-4b3baedfa206"
   },
   "outputs": [
    {
     "data": {
      "text/html": [
       "<div>\n",
       "<style scoped>\n",
       "    .dataframe tbody tr th:only-of-type {\n",
       "        vertical-align: middle;\n",
       "    }\n",
       "\n",
       "    .dataframe tbody tr th {\n",
       "        vertical-align: top;\n",
       "    }\n",
       "\n",
       "    .dataframe thead th {\n",
       "        text-align: right;\n",
       "    }\n",
       "</style>\n",
       "<table border=\"1\" class=\"dataframe\">\n",
       "  <thead>\n",
       "    <tr style=\"text-align: right;\">\n",
       "      <th></th>\n",
       "      <th>Pregnant</th>\n",
       "      <th>Glucose</th>\n",
       "      <th>Diastolic_BP</th>\n",
       "      <th>Skin_Fold</th>\n",
       "      <th>Serum_Insulin</th>\n",
       "      <th>BMI</th>\n",
       "      <th>Diabetes_Pedigree</th>\n",
       "      <th>Age</th>\n",
       "      <th>Class</th>\n",
       "    </tr>\n",
       "  </thead>\n",
       "  <tbody>\n",
       "    <tr>\n",
       "      <th>0</th>\n",
       "      <td>6</td>\n",
       "      <td>148.0</td>\n",
       "      <td>72.0</td>\n",
       "      <td>35.0</td>\n",
       "      <td>0.0</td>\n",
       "      <td>33.6</td>\n",
       "      <td>0.627</td>\n",
       "      <td>50</td>\n",
       "      <td>1</td>\n",
       "    </tr>\n",
       "    <tr>\n",
       "      <th>1</th>\n",
       "      <td>1</td>\n",
       "      <td>85.0</td>\n",
       "      <td>66.0</td>\n",
       "      <td>29.0</td>\n",
       "      <td>0.0</td>\n",
       "      <td>26.6</td>\n",
       "      <td>0.351</td>\n",
       "      <td>31</td>\n",
       "      <td>0</td>\n",
       "    </tr>\n",
       "    <tr>\n",
       "      <th>2</th>\n",
       "      <td>8</td>\n",
       "      <td>183.0</td>\n",
       "      <td>64.0</td>\n",
       "      <td>10000.0</td>\n",
       "      <td>0.0</td>\n",
       "      <td>23.3</td>\n",
       "      <td>0.672</td>\n",
       "      <td>32</td>\n",
       "      <td>1</td>\n",
       "    </tr>\n",
       "    <tr>\n",
       "      <th>3</th>\n",
       "      <td>1</td>\n",
       "      <td>89.0</td>\n",
       "      <td>66.0</td>\n",
       "      <td>23.0</td>\n",
       "      <td>94.0</td>\n",
       "      <td>28.1</td>\n",
       "      <td>0.167</td>\n",
       "      <td>21</td>\n",
       "      <td>0</td>\n",
       "    </tr>\n",
       "    <tr>\n",
       "      <th>4</th>\n",
       "      <td>0</td>\n",
       "      <td>137.0</td>\n",
       "      <td>40.0</td>\n",
       "      <td>35.0</td>\n",
       "      <td>168.0</td>\n",
       "      <td>43.1</td>\n",
       "      <td>2.288</td>\n",
       "      <td>33</td>\n",
       "      <td>1</td>\n",
       "    </tr>\n",
       "    <tr>\n",
       "      <th>...</th>\n",
       "      <td>...</td>\n",
       "      <td>...</td>\n",
       "      <td>...</td>\n",
       "      <td>...</td>\n",
       "      <td>...</td>\n",
       "      <td>...</td>\n",
       "      <td>...</td>\n",
       "      <td>...</td>\n",
       "      <td>...</td>\n",
       "    </tr>\n",
       "    <tr>\n",
       "      <th>763</th>\n",
       "      <td>10</td>\n",
       "      <td>101.0</td>\n",
       "      <td>76.0</td>\n",
       "      <td>48.0</td>\n",
       "      <td>180.0</td>\n",
       "      <td>32.9</td>\n",
       "      <td>0.171</td>\n",
       "      <td>63</td>\n",
       "      <td>0</td>\n",
       "    </tr>\n",
       "    <tr>\n",
       "      <th>764</th>\n",
       "      <td>2</td>\n",
       "      <td>122.0</td>\n",
       "      <td>70.0</td>\n",
       "      <td>27.0</td>\n",
       "      <td>0.0</td>\n",
       "      <td>36.8</td>\n",
       "      <td>0.340</td>\n",
       "      <td>27</td>\n",
       "      <td>0</td>\n",
       "    </tr>\n",
       "    <tr>\n",
       "      <th>765</th>\n",
       "      <td>5</td>\n",
       "      <td>121.0</td>\n",
       "      <td>72.0</td>\n",
       "      <td>23.0</td>\n",
       "      <td>112.0</td>\n",
       "      <td>26.2</td>\n",
       "      <td>0.245</td>\n",
       "      <td>30</td>\n",
       "      <td>0</td>\n",
       "    </tr>\n",
       "    <tr>\n",
       "      <th>766</th>\n",
       "      <td>1</td>\n",
       "      <td>126.0</td>\n",
       "      <td>60.0</td>\n",
       "      <td>10000.0</td>\n",
       "      <td>0.0</td>\n",
       "      <td>30.1</td>\n",
       "      <td>0.349</td>\n",
       "      <td>47</td>\n",
       "      <td>1</td>\n",
       "    </tr>\n",
       "    <tr>\n",
       "      <th>767</th>\n",
       "      <td>1</td>\n",
       "      <td>93.0</td>\n",
       "      <td>70.0</td>\n",
       "      <td>31.0</td>\n",
       "      <td>0.0</td>\n",
       "      <td>30.4</td>\n",
       "      <td>0.315</td>\n",
       "      <td>23</td>\n",
       "      <td>0</td>\n",
       "    </tr>\n",
       "  </tbody>\n",
       "</table>\n",
       "<p>768 rows × 9 columns</p>\n",
       "</div>"
      ],
      "text/plain": [
       "     Pregnant  Glucose  Diastolic_BP  Skin_Fold  Serum_Insulin   BMI  \\\n",
       "0           6    148.0          72.0       35.0            0.0  33.6   \n",
       "1           1     85.0          66.0       29.0            0.0  26.6   \n",
       "2           8    183.0          64.0    10000.0            0.0  23.3   \n",
       "3           1     89.0          66.0       23.0           94.0  28.1   \n",
       "4           0    137.0          40.0       35.0          168.0  43.1   \n",
       "..        ...      ...           ...        ...            ...   ...   \n",
       "763        10    101.0          76.0       48.0          180.0  32.9   \n",
       "764         2    122.0          70.0       27.0            0.0  36.8   \n",
       "765         5    121.0          72.0       23.0          112.0  26.2   \n",
       "766         1    126.0          60.0    10000.0            0.0  30.1   \n",
       "767         1     93.0          70.0       31.0            0.0  30.4   \n",
       "\n",
       "     Diabetes_Pedigree  Age  Class  \n",
       "0                0.627   50      1  \n",
       "1                0.351   31      0  \n",
       "2                0.672   32      1  \n",
       "3                0.167   21      0  \n",
       "4                2.288   33      1  \n",
       "..                 ...  ...    ...  \n",
       "763              0.171   63      0  \n",
       "764              0.340   27      0  \n",
       "765              0.245   30      0  \n",
       "766              0.349   47      1  \n",
       "767              0.315   23      0  \n",
       "\n",
       "[768 rows x 9 columns]"
      ]
     },
     "execution_count": 18,
     "metadata": {},
     "output_type": "execute_result"
    }
   ],
   "source": [
    "df.fillna({'Skin_Fold':10000, 'Serum_Insulin':0})"
   ]
  },
  {
   "cell_type": "code",
   "execution_count": 19,
   "metadata": {
    "colab": {
     "base_uri": "https://localhost:8080/",
     "height": 423
    },
    "executionInfo": {
     "elapsed": 463,
     "status": "ok",
     "timestamp": 1719519700369,
     "user": {
      "displayName": "Juan F Pérez",
      "userId": "13439628769322192552"
     },
     "user_tz": 300
    },
    "id": "CBAArnlfWbHM",
    "outputId": "764e7ea0-feaf-4671-a5f7-dc2b431eeb64"
   },
   "outputs": [
    {
     "data": {
      "text/html": [
       "<div>\n",
       "<style scoped>\n",
       "    .dataframe tbody tr th:only-of-type {\n",
       "        vertical-align: middle;\n",
       "    }\n",
       "\n",
       "    .dataframe tbody tr th {\n",
       "        vertical-align: top;\n",
       "    }\n",
       "\n",
       "    .dataframe thead th {\n",
       "        text-align: right;\n",
       "    }\n",
       "</style>\n",
       "<table border=\"1\" class=\"dataframe\">\n",
       "  <thead>\n",
       "    <tr style=\"text-align: right;\">\n",
       "      <th></th>\n",
       "      <th>Pregnant</th>\n",
       "      <th>Glucose</th>\n",
       "      <th>Diastolic_BP</th>\n",
       "      <th>Skin_Fold</th>\n",
       "      <th>Serum_Insulin</th>\n",
       "      <th>BMI</th>\n",
       "      <th>Diabetes_Pedigree</th>\n",
       "      <th>Age</th>\n",
       "      <th>Class</th>\n",
       "    </tr>\n",
       "  </thead>\n",
       "  <tbody>\n",
       "    <tr>\n",
       "      <th>0</th>\n",
       "      <td>6</td>\n",
       "      <td>148.0</td>\n",
       "      <td>72.0</td>\n",
       "      <td>35.0</td>\n",
       "      <td>NaN</td>\n",
       "      <td>33.6</td>\n",
       "      <td>0.627</td>\n",
       "      <td>50</td>\n",
       "      <td>1</td>\n",
       "    </tr>\n",
       "    <tr>\n",
       "      <th>1</th>\n",
       "      <td>1</td>\n",
       "      <td>85.0</td>\n",
       "      <td>66.0</td>\n",
       "      <td>29.0</td>\n",
       "      <td>NaN</td>\n",
       "      <td>26.6</td>\n",
       "      <td>0.351</td>\n",
       "      <td>31</td>\n",
       "      <td>0</td>\n",
       "    </tr>\n",
       "    <tr>\n",
       "      <th>2</th>\n",
       "      <td>8</td>\n",
       "      <td>183.0</td>\n",
       "      <td>64.0</td>\n",
       "      <td>29.0</td>\n",
       "      <td>NaN</td>\n",
       "      <td>23.3</td>\n",
       "      <td>0.672</td>\n",
       "      <td>32</td>\n",
       "      <td>1</td>\n",
       "    </tr>\n",
       "    <tr>\n",
       "      <th>3</th>\n",
       "      <td>1</td>\n",
       "      <td>89.0</td>\n",
       "      <td>66.0</td>\n",
       "      <td>23.0</td>\n",
       "      <td>94.0</td>\n",
       "      <td>28.1</td>\n",
       "      <td>0.167</td>\n",
       "      <td>21</td>\n",
       "      <td>0</td>\n",
       "    </tr>\n",
       "    <tr>\n",
       "      <th>4</th>\n",
       "      <td>0</td>\n",
       "      <td>137.0</td>\n",
       "      <td>40.0</td>\n",
       "      <td>35.0</td>\n",
       "      <td>168.0</td>\n",
       "      <td>43.1</td>\n",
       "      <td>2.288</td>\n",
       "      <td>33</td>\n",
       "      <td>1</td>\n",
       "    </tr>\n",
       "    <tr>\n",
       "      <th>...</th>\n",
       "      <td>...</td>\n",
       "      <td>...</td>\n",
       "      <td>...</td>\n",
       "      <td>...</td>\n",
       "      <td>...</td>\n",
       "      <td>...</td>\n",
       "      <td>...</td>\n",
       "      <td>...</td>\n",
       "      <td>...</td>\n",
       "    </tr>\n",
       "    <tr>\n",
       "      <th>763</th>\n",
       "      <td>10</td>\n",
       "      <td>101.0</td>\n",
       "      <td>76.0</td>\n",
       "      <td>48.0</td>\n",
       "      <td>180.0</td>\n",
       "      <td>32.9</td>\n",
       "      <td>0.171</td>\n",
       "      <td>63</td>\n",
       "      <td>0</td>\n",
       "    </tr>\n",
       "    <tr>\n",
       "      <th>764</th>\n",
       "      <td>2</td>\n",
       "      <td>122.0</td>\n",
       "      <td>70.0</td>\n",
       "      <td>27.0</td>\n",
       "      <td>180.0</td>\n",
       "      <td>36.8</td>\n",
       "      <td>0.340</td>\n",
       "      <td>27</td>\n",
       "      <td>0</td>\n",
       "    </tr>\n",
       "    <tr>\n",
       "      <th>765</th>\n",
       "      <td>5</td>\n",
       "      <td>121.0</td>\n",
       "      <td>72.0</td>\n",
       "      <td>23.0</td>\n",
       "      <td>112.0</td>\n",
       "      <td>26.2</td>\n",
       "      <td>0.245</td>\n",
       "      <td>30</td>\n",
       "      <td>0</td>\n",
       "    </tr>\n",
       "    <tr>\n",
       "      <th>766</th>\n",
       "      <td>1</td>\n",
       "      <td>126.0</td>\n",
       "      <td>60.0</td>\n",
       "      <td>23.0</td>\n",
       "      <td>112.0</td>\n",
       "      <td>30.1</td>\n",
       "      <td>0.349</td>\n",
       "      <td>47</td>\n",
       "      <td>1</td>\n",
       "    </tr>\n",
       "    <tr>\n",
       "      <th>767</th>\n",
       "      <td>1</td>\n",
       "      <td>93.0</td>\n",
       "      <td>70.0</td>\n",
       "      <td>31.0</td>\n",
       "      <td>112.0</td>\n",
       "      <td>30.4</td>\n",
       "      <td>0.315</td>\n",
       "      <td>23</td>\n",
       "      <td>0</td>\n",
       "    </tr>\n",
       "  </tbody>\n",
       "</table>\n",
       "<p>768 rows × 9 columns</p>\n",
       "</div>"
      ],
      "text/plain": [
       "     Pregnant  Glucose  Diastolic_BP  Skin_Fold  Serum_Insulin   BMI  \\\n",
       "0           6    148.0          72.0       35.0            NaN  33.6   \n",
       "1           1     85.0          66.0       29.0            NaN  26.6   \n",
       "2           8    183.0          64.0       29.0            NaN  23.3   \n",
       "3           1     89.0          66.0       23.0           94.0  28.1   \n",
       "4           0    137.0          40.0       35.0          168.0  43.1   \n",
       "..        ...      ...           ...        ...            ...   ...   \n",
       "763        10    101.0          76.0       48.0          180.0  32.9   \n",
       "764         2    122.0          70.0       27.0          180.0  36.8   \n",
       "765         5    121.0          72.0       23.0          112.0  26.2   \n",
       "766         1    126.0          60.0       23.0          112.0  30.1   \n",
       "767         1     93.0          70.0       31.0          112.0  30.4   \n",
       "\n",
       "     Diabetes_Pedigree  Age  Class  \n",
       "0                0.627   50      1  \n",
       "1                0.351   31      0  \n",
       "2                0.672   32      1  \n",
       "3                0.167   21      0  \n",
       "4                2.288   33      1  \n",
       "..                 ...  ...    ...  \n",
       "763              0.171   63      0  \n",
       "764              0.340   27      0  \n",
       "765              0.245   30      0  \n",
       "766              0.349   47      1  \n",
       "767              0.315   23      0  \n",
       "\n",
       "[768 rows x 9 columns]"
      ]
     },
     "execution_count": 19,
     "metadata": {},
     "output_type": "execute_result"
    }
   ],
   "source": [
    "df.ffill() # forward fill: última obs válida"
   ]
  },
  {
   "cell_type": "code",
   "execution_count": 20,
   "metadata": {
    "colab": {
     "base_uri": "https://localhost:8080/",
     "height": 423
    },
    "executionInfo": {
     "elapsed": 16,
     "status": "ok",
     "timestamp": 1719519700369,
     "user": {
      "displayName": "Juan F Pérez",
      "userId": "13439628769322192552"
     },
     "user_tz": 300
    },
    "id": "hkaL-UpzWrVj",
    "outputId": "d9f2259b-229b-4304-f7f5-15689bf8f5bc"
   },
   "outputs": [
    {
     "data": {
      "text/html": [
       "<div>\n",
       "<style scoped>\n",
       "    .dataframe tbody tr th:only-of-type {\n",
       "        vertical-align: middle;\n",
       "    }\n",
       "\n",
       "    .dataframe tbody tr th {\n",
       "        vertical-align: top;\n",
       "    }\n",
       "\n",
       "    .dataframe thead th {\n",
       "        text-align: right;\n",
       "    }\n",
       "</style>\n",
       "<table border=\"1\" class=\"dataframe\">\n",
       "  <thead>\n",
       "    <tr style=\"text-align: right;\">\n",
       "      <th></th>\n",
       "      <th>Pregnant</th>\n",
       "      <th>Glucose</th>\n",
       "      <th>Diastolic_BP</th>\n",
       "      <th>Skin_Fold</th>\n",
       "      <th>Serum_Insulin</th>\n",
       "      <th>BMI</th>\n",
       "      <th>Diabetes_Pedigree</th>\n",
       "      <th>Age</th>\n",
       "      <th>Class</th>\n",
       "    </tr>\n",
       "  </thead>\n",
       "  <tbody>\n",
       "    <tr>\n",
       "      <th>0</th>\n",
       "      <td>6</td>\n",
       "      <td>148.0</td>\n",
       "      <td>72.0</td>\n",
       "      <td>35.0</td>\n",
       "      <td>94.0</td>\n",
       "      <td>33.6</td>\n",
       "      <td>0.627</td>\n",
       "      <td>50</td>\n",
       "      <td>1</td>\n",
       "    </tr>\n",
       "    <tr>\n",
       "      <th>1</th>\n",
       "      <td>1</td>\n",
       "      <td>85.0</td>\n",
       "      <td>66.0</td>\n",
       "      <td>29.0</td>\n",
       "      <td>94.0</td>\n",
       "      <td>26.6</td>\n",
       "      <td>0.351</td>\n",
       "      <td>31</td>\n",
       "      <td>0</td>\n",
       "    </tr>\n",
       "    <tr>\n",
       "      <th>2</th>\n",
       "      <td>8</td>\n",
       "      <td>183.0</td>\n",
       "      <td>64.0</td>\n",
       "      <td>23.0</td>\n",
       "      <td>94.0</td>\n",
       "      <td>23.3</td>\n",
       "      <td>0.672</td>\n",
       "      <td>32</td>\n",
       "      <td>1</td>\n",
       "    </tr>\n",
       "    <tr>\n",
       "      <th>3</th>\n",
       "      <td>1</td>\n",
       "      <td>89.0</td>\n",
       "      <td>66.0</td>\n",
       "      <td>23.0</td>\n",
       "      <td>94.0</td>\n",
       "      <td>28.1</td>\n",
       "      <td>0.167</td>\n",
       "      <td>21</td>\n",
       "      <td>0</td>\n",
       "    </tr>\n",
       "    <tr>\n",
       "      <th>4</th>\n",
       "      <td>0</td>\n",
       "      <td>137.0</td>\n",
       "      <td>40.0</td>\n",
       "      <td>35.0</td>\n",
       "      <td>168.0</td>\n",
       "      <td>43.1</td>\n",
       "      <td>2.288</td>\n",
       "      <td>33</td>\n",
       "      <td>1</td>\n",
       "    </tr>\n",
       "    <tr>\n",
       "      <th>...</th>\n",
       "      <td>...</td>\n",
       "      <td>...</td>\n",
       "      <td>...</td>\n",
       "      <td>...</td>\n",
       "      <td>...</td>\n",
       "      <td>...</td>\n",
       "      <td>...</td>\n",
       "      <td>...</td>\n",
       "      <td>...</td>\n",
       "    </tr>\n",
       "    <tr>\n",
       "      <th>763</th>\n",
       "      <td>10</td>\n",
       "      <td>101.0</td>\n",
       "      <td>76.0</td>\n",
       "      <td>48.0</td>\n",
       "      <td>180.0</td>\n",
       "      <td>32.9</td>\n",
       "      <td>0.171</td>\n",
       "      <td>63</td>\n",
       "      <td>0</td>\n",
       "    </tr>\n",
       "    <tr>\n",
       "      <th>764</th>\n",
       "      <td>2</td>\n",
       "      <td>122.0</td>\n",
       "      <td>70.0</td>\n",
       "      <td>27.0</td>\n",
       "      <td>112.0</td>\n",
       "      <td>36.8</td>\n",
       "      <td>0.340</td>\n",
       "      <td>27</td>\n",
       "      <td>0</td>\n",
       "    </tr>\n",
       "    <tr>\n",
       "      <th>765</th>\n",
       "      <td>5</td>\n",
       "      <td>121.0</td>\n",
       "      <td>72.0</td>\n",
       "      <td>23.0</td>\n",
       "      <td>112.0</td>\n",
       "      <td>26.2</td>\n",
       "      <td>0.245</td>\n",
       "      <td>30</td>\n",
       "      <td>0</td>\n",
       "    </tr>\n",
       "    <tr>\n",
       "      <th>766</th>\n",
       "      <td>1</td>\n",
       "      <td>126.0</td>\n",
       "      <td>60.0</td>\n",
       "      <td>31.0</td>\n",
       "      <td>NaN</td>\n",
       "      <td>30.1</td>\n",
       "      <td>0.349</td>\n",
       "      <td>47</td>\n",
       "      <td>1</td>\n",
       "    </tr>\n",
       "    <tr>\n",
       "      <th>767</th>\n",
       "      <td>1</td>\n",
       "      <td>93.0</td>\n",
       "      <td>70.0</td>\n",
       "      <td>31.0</td>\n",
       "      <td>NaN</td>\n",
       "      <td>30.4</td>\n",
       "      <td>0.315</td>\n",
       "      <td>23</td>\n",
       "      <td>0</td>\n",
       "    </tr>\n",
       "  </tbody>\n",
       "</table>\n",
       "<p>768 rows × 9 columns</p>\n",
       "</div>"
      ],
      "text/plain": [
       "     Pregnant  Glucose  Diastolic_BP  Skin_Fold  Serum_Insulin   BMI  \\\n",
       "0           6    148.0          72.0       35.0           94.0  33.6   \n",
       "1           1     85.0          66.0       29.0           94.0  26.6   \n",
       "2           8    183.0          64.0       23.0           94.0  23.3   \n",
       "3           1     89.0          66.0       23.0           94.0  28.1   \n",
       "4           0    137.0          40.0       35.0          168.0  43.1   \n",
       "..        ...      ...           ...        ...            ...   ...   \n",
       "763        10    101.0          76.0       48.0          180.0  32.9   \n",
       "764         2    122.0          70.0       27.0          112.0  36.8   \n",
       "765         5    121.0          72.0       23.0          112.0  26.2   \n",
       "766         1    126.0          60.0       31.0            NaN  30.1   \n",
       "767         1     93.0          70.0       31.0            NaN  30.4   \n",
       "\n",
       "     Diabetes_Pedigree  Age  Class  \n",
       "0                0.627   50      1  \n",
       "1                0.351   31      0  \n",
       "2                0.672   32      1  \n",
       "3                0.167   21      0  \n",
       "4                2.288   33      1  \n",
       "..                 ...  ...    ...  \n",
       "763              0.171   63      0  \n",
       "764              0.340   27      0  \n",
       "765              0.245   30      0  \n",
       "766              0.349   47      1  \n",
       "767              0.315   23      0  \n",
       "\n",
       "[768 rows x 9 columns]"
      ]
     },
     "execution_count": 20,
     "metadata": {},
     "output_type": "execute_result"
    }
   ],
   "source": [
    "df.bfill() # backward fill: siguiente obs válida"
   ]
  },
  {
   "cell_type": "code",
   "execution_count": 21,
   "metadata": {
    "colab": {
     "base_uri": "https://localhost:8080/",
     "height": 423
    },
    "executionInfo": {
     "elapsed": 15,
     "status": "ok",
     "timestamp": 1719519700369,
     "user": {
      "displayName": "Juan F Pérez",
      "userId": "13439628769322192552"
     },
     "user_tz": 300
    },
    "id": "-tzNRCnaYOLU",
    "outputId": "8cf87e53-24fc-4697-efee-78de986cc6c1"
   },
   "outputs": [
    {
     "data": {
      "text/html": [
       "<div>\n",
       "<style scoped>\n",
       "    .dataframe tbody tr th:only-of-type {\n",
       "        vertical-align: middle;\n",
       "    }\n",
       "\n",
       "    .dataframe tbody tr th {\n",
       "        vertical-align: top;\n",
       "    }\n",
       "\n",
       "    .dataframe thead th {\n",
       "        text-align: right;\n",
       "    }\n",
       "</style>\n",
       "<table border=\"1\" class=\"dataframe\">\n",
       "  <thead>\n",
       "    <tr style=\"text-align: right;\">\n",
       "      <th></th>\n",
       "      <th>Pregnant</th>\n",
       "      <th>Glucose</th>\n",
       "      <th>Diastolic_BP</th>\n",
       "      <th>Skin_Fold</th>\n",
       "      <th>Serum_Insulin</th>\n",
       "      <th>BMI</th>\n",
       "      <th>Diabetes_Pedigree</th>\n",
       "      <th>Age</th>\n",
       "      <th>Class</th>\n",
       "    </tr>\n",
       "  </thead>\n",
       "  <tbody>\n",
       "    <tr>\n",
       "      <th>0</th>\n",
       "      <td>6</td>\n",
       "      <td>148.0</td>\n",
       "      <td>72.0</td>\n",
       "      <td>35.0</td>\n",
       "      <td>NaN</td>\n",
       "      <td>33.6</td>\n",
       "      <td>0.627</td>\n",
       "      <td>50</td>\n",
       "      <td>1</td>\n",
       "    </tr>\n",
       "    <tr>\n",
       "      <th>1</th>\n",
       "      <td>1</td>\n",
       "      <td>85.0</td>\n",
       "      <td>66.0</td>\n",
       "      <td>29.0</td>\n",
       "      <td>94.0</td>\n",
       "      <td>26.6</td>\n",
       "      <td>0.351</td>\n",
       "      <td>31</td>\n",
       "      <td>0</td>\n",
       "    </tr>\n",
       "    <tr>\n",
       "      <th>2</th>\n",
       "      <td>8</td>\n",
       "      <td>183.0</td>\n",
       "      <td>64.0</td>\n",
       "      <td>23.0</td>\n",
       "      <td>94.0</td>\n",
       "      <td>23.3</td>\n",
       "      <td>0.672</td>\n",
       "      <td>32</td>\n",
       "      <td>1</td>\n",
       "    </tr>\n",
       "    <tr>\n",
       "      <th>3</th>\n",
       "      <td>1</td>\n",
       "      <td>89.0</td>\n",
       "      <td>66.0</td>\n",
       "      <td>23.0</td>\n",
       "      <td>94.0</td>\n",
       "      <td>28.1</td>\n",
       "      <td>0.167</td>\n",
       "      <td>21</td>\n",
       "      <td>0</td>\n",
       "    </tr>\n",
       "    <tr>\n",
       "      <th>4</th>\n",
       "      <td>0</td>\n",
       "      <td>137.0</td>\n",
       "      <td>40.0</td>\n",
       "      <td>35.0</td>\n",
       "      <td>168.0</td>\n",
       "      <td>43.1</td>\n",
       "      <td>2.288</td>\n",
       "      <td>33</td>\n",
       "      <td>1</td>\n",
       "    </tr>\n",
       "    <tr>\n",
       "      <th>...</th>\n",
       "      <td>...</td>\n",
       "      <td>...</td>\n",
       "      <td>...</td>\n",
       "      <td>...</td>\n",
       "      <td>...</td>\n",
       "      <td>...</td>\n",
       "      <td>...</td>\n",
       "      <td>...</td>\n",
       "      <td>...</td>\n",
       "    </tr>\n",
       "    <tr>\n",
       "      <th>763</th>\n",
       "      <td>10</td>\n",
       "      <td>101.0</td>\n",
       "      <td>76.0</td>\n",
       "      <td>48.0</td>\n",
       "      <td>180.0</td>\n",
       "      <td>32.9</td>\n",
       "      <td>0.171</td>\n",
       "      <td>63</td>\n",
       "      <td>0</td>\n",
       "    </tr>\n",
       "    <tr>\n",
       "      <th>764</th>\n",
       "      <td>2</td>\n",
       "      <td>122.0</td>\n",
       "      <td>70.0</td>\n",
       "      <td>27.0</td>\n",
       "      <td>112.0</td>\n",
       "      <td>36.8</td>\n",
       "      <td>0.340</td>\n",
       "      <td>27</td>\n",
       "      <td>0</td>\n",
       "    </tr>\n",
       "    <tr>\n",
       "      <th>765</th>\n",
       "      <td>5</td>\n",
       "      <td>121.0</td>\n",
       "      <td>72.0</td>\n",
       "      <td>23.0</td>\n",
       "      <td>112.0</td>\n",
       "      <td>26.2</td>\n",
       "      <td>0.245</td>\n",
       "      <td>30</td>\n",
       "      <td>0</td>\n",
       "    </tr>\n",
       "    <tr>\n",
       "      <th>766</th>\n",
       "      <td>1</td>\n",
       "      <td>126.0</td>\n",
       "      <td>60.0</td>\n",
       "      <td>31.0</td>\n",
       "      <td>NaN</td>\n",
       "      <td>30.1</td>\n",
       "      <td>0.349</td>\n",
       "      <td>47</td>\n",
       "      <td>1</td>\n",
       "    </tr>\n",
       "    <tr>\n",
       "      <th>767</th>\n",
       "      <td>1</td>\n",
       "      <td>93.0</td>\n",
       "      <td>70.0</td>\n",
       "      <td>31.0</td>\n",
       "      <td>NaN</td>\n",
       "      <td>30.4</td>\n",
       "      <td>0.315</td>\n",
       "      <td>23</td>\n",
       "      <td>0</td>\n",
       "    </tr>\n",
       "  </tbody>\n",
       "</table>\n",
       "<p>768 rows × 9 columns</p>\n",
       "</div>"
      ],
      "text/plain": [
       "     Pregnant  Glucose  Diastolic_BP  Skin_Fold  Serum_Insulin   BMI  \\\n",
       "0           6    148.0          72.0       35.0            NaN  33.6   \n",
       "1           1     85.0          66.0       29.0           94.0  26.6   \n",
       "2           8    183.0          64.0       23.0           94.0  23.3   \n",
       "3           1     89.0          66.0       23.0           94.0  28.1   \n",
       "4           0    137.0          40.0       35.0          168.0  43.1   \n",
       "..        ...      ...           ...        ...            ...   ...   \n",
       "763        10    101.0          76.0       48.0          180.0  32.9   \n",
       "764         2    122.0          70.0       27.0          112.0  36.8   \n",
       "765         5    121.0          72.0       23.0          112.0  26.2   \n",
       "766         1    126.0          60.0       31.0            NaN  30.1   \n",
       "767         1     93.0          70.0       31.0            NaN  30.4   \n",
       "\n",
       "     Diabetes_Pedigree  Age  Class  \n",
       "0                0.627   50      1  \n",
       "1                0.351   31      0  \n",
       "2                0.672   32      1  \n",
       "3                0.167   21      0  \n",
       "4                2.288   33      1  \n",
       "..                 ...  ...    ...  \n",
       "763              0.171   63      0  \n",
       "764              0.340   27      0  \n",
       "765              0.245   30      0  \n",
       "766              0.349   47      1  \n",
       "767              0.315   23      0  \n",
       "\n",
       "[768 rows x 9 columns]"
      ]
     },
     "execution_count": 21,
     "metadata": {},
     "output_type": "execute_result"
    }
   ],
   "source": [
    "df.bfill(limit=2) # backward fill: siguiente obs válida"
   ]
  },
  {
   "cell_type": "code",
   "execution_count": 22,
   "metadata": {
    "colab": {
     "base_uri": "https://localhost:8080/",
     "height": 423
    },
    "executionInfo": {
     "elapsed": 415,
     "status": "ok",
     "timestamp": 1719524437065,
     "user": {
      "displayName": "Juan F Pérez",
      "userId": "13439628769322192552"
     },
     "user_tz": 300
    },
    "id": "b9wNggPCpJus",
    "outputId": "7f35599d-dee0-4872-d17b-55210f7824f3"
   },
   "outputs": [
    {
     "data": {
      "text/html": [
       "<div>\n",
       "<style scoped>\n",
       "    .dataframe tbody tr th:only-of-type {\n",
       "        vertical-align: middle;\n",
       "    }\n",
       "\n",
       "    .dataframe tbody tr th {\n",
       "        vertical-align: top;\n",
       "    }\n",
       "\n",
       "    .dataframe thead th {\n",
       "        text-align: right;\n",
       "    }\n",
       "</style>\n",
       "<table border=\"1\" class=\"dataframe\">\n",
       "  <thead>\n",
       "    <tr style=\"text-align: right;\">\n",
       "      <th></th>\n",
       "      <th>Pregnant</th>\n",
       "      <th>Glucose</th>\n",
       "      <th>Diastolic_BP</th>\n",
       "      <th>Skin_Fold</th>\n",
       "      <th>Serum_Insulin</th>\n",
       "      <th>BMI</th>\n",
       "      <th>Diabetes_Pedigree</th>\n",
       "      <th>Age</th>\n",
       "      <th>Class</th>\n",
       "    </tr>\n",
       "  </thead>\n",
       "  <tbody>\n",
       "    <tr>\n",
       "      <th>0</th>\n",
       "      <td>6</td>\n",
       "      <td>148.0</td>\n",
       "      <td>72.0</td>\n",
       "      <td>35.0</td>\n",
       "      <td>NaN</td>\n",
       "      <td>33.6</td>\n",
       "      <td>0.627</td>\n",
       "      <td>50</td>\n",
       "      <td>1</td>\n",
       "    </tr>\n",
       "    <tr>\n",
       "      <th>1</th>\n",
       "      <td>1</td>\n",
       "      <td>85.0</td>\n",
       "      <td>66.0</td>\n",
       "      <td>29.0</td>\n",
       "      <td>NaN</td>\n",
       "      <td>26.6</td>\n",
       "      <td>0.351</td>\n",
       "      <td>31</td>\n",
       "      <td>0</td>\n",
       "    </tr>\n",
       "    <tr>\n",
       "      <th>2</th>\n",
       "      <td>8</td>\n",
       "      <td>183.0</td>\n",
       "      <td>64.0</td>\n",
       "      <td>NaN</td>\n",
       "      <td>NaN</td>\n",
       "      <td>23.3</td>\n",
       "      <td>0.672</td>\n",
       "      <td>32</td>\n",
       "      <td>1</td>\n",
       "    </tr>\n",
       "    <tr>\n",
       "      <th>3</th>\n",
       "      <td>1</td>\n",
       "      <td>89.0</td>\n",
       "      <td>66.0</td>\n",
       "      <td>23.0</td>\n",
       "      <td>94.0</td>\n",
       "      <td>28.1</td>\n",
       "      <td>0.167</td>\n",
       "      <td>21</td>\n",
       "      <td>0</td>\n",
       "    </tr>\n",
       "    <tr>\n",
       "      <th>4</th>\n",
       "      <td>0</td>\n",
       "      <td>137.0</td>\n",
       "      <td>40.0</td>\n",
       "      <td>35.0</td>\n",
       "      <td>168.0</td>\n",
       "      <td>43.1</td>\n",
       "      <td>2.288</td>\n",
       "      <td>33</td>\n",
       "      <td>1</td>\n",
       "    </tr>\n",
       "    <tr>\n",
       "      <th>...</th>\n",
       "      <td>...</td>\n",
       "      <td>...</td>\n",
       "      <td>...</td>\n",
       "      <td>...</td>\n",
       "      <td>...</td>\n",
       "      <td>...</td>\n",
       "      <td>...</td>\n",
       "      <td>...</td>\n",
       "      <td>...</td>\n",
       "    </tr>\n",
       "    <tr>\n",
       "      <th>763</th>\n",
       "      <td>10</td>\n",
       "      <td>101.0</td>\n",
       "      <td>76.0</td>\n",
       "      <td>48.0</td>\n",
       "      <td>180.0</td>\n",
       "      <td>32.9</td>\n",
       "      <td>0.171</td>\n",
       "      <td>63</td>\n",
       "      <td>0</td>\n",
       "    </tr>\n",
       "    <tr>\n",
       "      <th>764</th>\n",
       "      <td>2</td>\n",
       "      <td>122.0</td>\n",
       "      <td>70.0</td>\n",
       "      <td>27.0</td>\n",
       "      <td>NaN</td>\n",
       "      <td>36.8</td>\n",
       "      <td>0.340</td>\n",
       "      <td>27</td>\n",
       "      <td>0</td>\n",
       "    </tr>\n",
       "    <tr>\n",
       "      <th>765</th>\n",
       "      <td>5</td>\n",
       "      <td>121.0</td>\n",
       "      <td>72.0</td>\n",
       "      <td>23.0</td>\n",
       "      <td>112.0</td>\n",
       "      <td>26.2</td>\n",
       "      <td>0.245</td>\n",
       "      <td>30</td>\n",
       "      <td>0</td>\n",
       "    </tr>\n",
       "    <tr>\n",
       "      <th>766</th>\n",
       "      <td>1</td>\n",
       "      <td>126.0</td>\n",
       "      <td>60.0</td>\n",
       "      <td>NaN</td>\n",
       "      <td>NaN</td>\n",
       "      <td>30.1</td>\n",
       "      <td>0.349</td>\n",
       "      <td>47</td>\n",
       "      <td>1</td>\n",
       "    </tr>\n",
       "    <tr>\n",
       "      <th>767</th>\n",
       "      <td>1</td>\n",
       "      <td>93.0</td>\n",
       "      <td>70.0</td>\n",
       "      <td>31.0</td>\n",
       "      <td>NaN</td>\n",
       "      <td>30.4</td>\n",
       "      <td>0.315</td>\n",
       "      <td>23</td>\n",
       "      <td>0</td>\n",
       "    </tr>\n",
       "  </tbody>\n",
       "</table>\n",
       "<p>768 rows × 9 columns</p>\n",
       "</div>"
      ],
      "text/plain": [
       "     Pregnant  Glucose  Diastolic_BP  Skin_Fold  Serum_Insulin   BMI  \\\n",
       "0           6    148.0          72.0       35.0            NaN  33.6   \n",
       "1           1     85.0          66.0       29.0            NaN  26.6   \n",
       "2           8    183.0          64.0        NaN            NaN  23.3   \n",
       "3           1     89.0          66.0       23.0           94.0  28.1   \n",
       "4           0    137.0          40.0       35.0          168.0  43.1   \n",
       "..        ...      ...           ...        ...            ...   ...   \n",
       "763        10    101.0          76.0       48.0          180.0  32.9   \n",
       "764         2    122.0          70.0       27.0            NaN  36.8   \n",
       "765         5    121.0          72.0       23.0          112.0  26.2   \n",
       "766         1    126.0          60.0        NaN            NaN  30.1   \n",
       "767         1     93.0          70.0       31.0            NaN  30.4   \n",
       "\n",
       "     Diabetes_Pedigree  Age  Class  \n",
       "0                0.627   50      1  \n",
       "1                0.351   31      0  \n",
       "2                0.672   32      1  \n",
       "3                0.167   21      0  \n",
       "4                2.288   33      1  \n",
       "..                 ...  ...    ...  \n",
       "763              0.171   63      0  \n",
       "764              0.340   27      0  \n",
       "765              0.245   30      0  \n",
       "766              0.349   47      1  \n",
       "767              0.315   23      0  \n",
       "\n",
       "[768 rows x 9 columns]"
      ]
     },
     "execution_count": 22,
     "metadata": {},
     "output_type": "execute_result"
    }
   ],
   "source": [
    "df"
   ]
  },
  {
   "cell_type": "code",
   "execution_count": 23,
   "metadata": {
    "colab": {
     "base_uri": "https://localhost:8080/",
     "height": 423
    },
    "executionInfo": {
     "elapsed": 14,
     "status": "ok",
     "timestamp": 1719519700369,
     "user": {
      "displayName": "Juan F Pérez",
      "userId": "13439628769322192552"
     },
     "user_tz": 300
    },
    "id": "2V2WZ_j2XEhG",
    "outputId": "d57adc4b-566d-41c2-92aa-32e8721132f1"
   },
   "outputs": [
    {
     "data": {
      "text/html": [
       "<div>\n",
       "<style scoped>\n",
       "    .dataframe tbody tr th:only-of-type {\n",
       "        vertical-align: middle;\n",
       "    }\n",
       "\n",
       "    .dataframe tbody tr th {\n",
       "        vertical-align: top;\n",
       "    }\n",
       "\n",
       "    .dataframe thead th {\n",
       "        text-align: right;\n",
       "    }\n",
       "</style>\n",
       "<table border=\"1\" class=\"dataframe\">\n",
       "  <thead>\n",
       "    <tr style=\"text-align: right;\">\n",
       "      <th></th>\n",
       "      <th>Pregnant</th>\n",
       "      <th>Glucose</th>\n",
       "      <th>Diastolic_BP</th>\n",
       "      <th>Skin_Fold</th>\n",
       "      <th>Serum_Insulin</th>\n",
       "      <th>BMI</th>\n",
       "      <th>Diabetes_Pedigree</th>\n",
       "      <th>Age</th>\n",
       "      <th>Class</th>\n",
       "    </tr>\n",
       "  </thead>\n",
       "  <tbody>\n",
       "    <tr>\n",
       "      <th>0</th>\n",
       "      <td>6</td>\n",
       "      <td>148.0</td>\n",
       "      <td>72.0</td>\n",
       "      <td>35.0</td>\n",
       "      <td>NaN</td>\n",
       "      <td>33.6</td>\n",
       "      <td>0.627</td>\n",
       "      <td>50</td>\n",
       "      <td>1</td>\n",
       "    </tr>\n",
       "    <tr>\n",
       "      <th>1</th>\n",
       "      <td>1</td>\n",
       "      <td>85.0</td>\n",
       "      <td>66.0</td>\n",
       "      <td>29.0</td>\n",
       "      <td>NaN</td>\n",
       "      <td>26.6</td>\n",
       "      <td>0.351</td>\n",
       "      <td>31</td>\n",
       "      <td>0</td>\n",
       "    </tr>\n",
       "    <tr>\n",
       "      <th>2</th>\n",
       "      <td>8</td>\n",
       "      <td>183.0</td>\n",
       "      <td>64.0</td>\n",
       "      <td>26.0</td>\n",
       "      <td>NaN</td>\n",
       "      <td>23.3</td>\n",
       "      <td>0.672</td>\n",
       "      <td>32</td>\n",
       "      <td>1</td>\n",
       "    </tr>\n",
       "    <tr>\n",
       "      <th>3</th>\n",
       "      <td>1</td>\n",
       "      <td>89.0</td>\n",
       "      <td>66.0</td>\n",
       "      <td>23.0</td>\n",
       "      <td>94.0</td>\n",
       "      <td>28.1</td>\n",
       "      <td>0.167</td>\n",
       "      <td>21</td>\n",
       "      <td>0</td>\n",
       "    </tr>\n",
       "    <tr>\n",
       "      <th>4</th>\n",
       "      <td>0</td>\n",
       "      <td>137.0</td>\n",
       "      <td>40.0</td>\n",
       "      <td>35.0</td>\n",
       "      <td>168.0</td>\n",
       "      <td>43.1</td>\n",
       "      <td>2.288</td>\n",
       "      <td>33</td>\n",
       "      <td>1</td>\n",
       "    </tr>\n",
       "    <tr>\n",
       "      <th>...</th>\n",
       "      <td>...</td>\n",
       "      <td>...</td>\n",
       "      <td>...</td>\n",
       "      <td>...</td>\n",
       "      <td>...</td>\n",
       "      <td>...</td>\n",
       "      <td>...</td>\n",
       "      <td>...</td>\n",
       "      <td>...</td>\n",
       "    </tr>\n",
       "    <tr>\n",
       "      <th>763</th>\n",
       "      <td>10</td>\n",
       "      <td>101.0</td>\n",
       "      <td>76.0</td>\n",
       "      <td>48.0</td>\n",
       "      <td>180.0</td>\n",
       "      <td>32.9</td>\n",
       "      <td>0.171</td>\n",
       "      <td>63</td>\n",
       "      <td>0</td>\n",
       "    </tr>\n",
       "    <tr>\n",
       "      <th>764</th>\n",
       "      <td>2</td>\n",
       "      <td>122.0</td>\n",
       "      <td>70.0</td>\n",
       "      <td>27.0</td>\n",
       "      <td>146.0</td>\n",
       "      <td>36.8</td>\n",
       "      <td>0.340</td>\n",
       "      <td>27</td>\n",
       "      <td>0</td>\n",
       "    </tr>\n",
       "    <tr>\n",
       "      <th>765</th>\n",
       "      <td>5</td>\n",
       "      <td>121.0</td>\n",
       "      <td>72.0</td>\n",
       "      <td>23.0</td>\n",
       "      <td>112.0</td>\n",
       "      <td>26.2</td>\n",
       "      <td>0.245</td>\n",
       "      <td>30</td>\n",
       "      <td>0</td>\n",
       "    </tr>\n",
       "    <tr>\n",
       "      <th>766</th>\n",
       "      <td>1</td>\n",
       "      <td>126.0</td>\n",
       "      <td>60.0</td>\n",
       "      <td>27.0</td>\n",
       "      <td>112.0</td>\n",
       "      <td>30.1</td>\n",
       "      <td>0.349</td>\n",
       "      <td>47</td>\n",
       "      <td>1</td>\n",
       "    </tr>\n",
       "    <tr>\n",
       "      <th>767</th>\n",
       "      <td>1</td>\n",
       "      <td>93.0</td>\n",
       "      <td>70.0</td>\n",
       "      <td>31.0</td>\n",
       "      <td>112.0</td>\n",
       "      <td>30.4</td>\n",
       "      <td>0.315</td>\n",
       "      <td>23</td>\n",
       "      <td>0</td>\n",
       "    </tr>\n",
       "  </tbody>\n",
       "</table>\n",
       "<p>768 rows × 9 columns</p>\n",
       "</div>"
      ],
      "text/plain": [
       "     Pregnant  Glucose  Diastolic_BP  Skin_Fold  Serum_Insulin   BMI  \\\n",
       "0           6    148.0          72.0       35.0            NaN  33.6   \n",
       "1           1     85.0          66.0       29.0            NaN  26.6   \n",
       "2           8    183.0          64.0       26.0            NaN  23.3   \n",
       "3           1     89.0          66.0       23.0           94.0  28.1   \n",
       "4           0    137.0          40.0       35.0          168.0  43.1   \n",
       "..        ...      ...           ...        ...            ...   ...   \n",
       "763        10    101.0          76.0       48.0          180.0  32.9   \n",
       "764         2    122.0          70.0       27.0          146.0  36.8   \n",
       "765         5    121.0          72.0       23.0          112.0  26.2   \n",
       "766         1    126.0          60.0       27.0          112.0  30.1   \n",
       "767         1     93.0          70.0       31.0          112.0  30.4   \n",
       "\n",
       "     Diabetes_Pedigree  Age  Class  \n",
       "0                0.627   50      1  \n",
       "1                0.351   31      0  \n",
       "2                0.672   32      1  \n",
       "3                0.167   21      0  \n",
       "4                2.288   33      1  \n",
       "..                 ...  ...    ...  \n",
       "763              0.171   63      0  \n",
       "764              0.340   27      0  \n",
       "765              0.245   30      0  \n",
       "766              0.349   47      1  \n",
       "767              0.315   23      0  \n",
       "\n",
       "[768 rows x 9 columns]"
      ]
     },
     "execution_count": 23,
     "metadata": {},
     "output_type": "execute_result"
    }
   ],
   "source": [
    "df.interpolate()"
   ]
  },
  {
   "cell_type": "markdown",
   "metadata": {
    "id": "x_7fWF3PYANV"
   },
   "source": []
  },
  {
   "cell_type": "markdown",
   "metadata": {
    "id": "vRrMUJNjXRKi"
   },
   "source": [
    "https://pandas.pydata.org/docs/reference/api/pandas.DataFrame.interpolate.html"
   ]
  },
  {
   "cell_type": "code",
   "execution_count": 24,
   "metadata": {
    "colab": {
     "base_uri": "https://localhost:8080/"
    },
    "executionInfo": {
     "elapsed": 13,
     "status": "ok",
     "timestamp": 1719519700369,
     "user": {
      "displayName": "Juan F Pérez",
      "userId": "13439628769322192552"
     },
     "user_tz": 300
    },
    "id": "wzLwEajYK9Fm",
    "outputId": "515595a2-f512-4805-bad7-e7118e62764f"
   },
   "outputs": [
    {
     "data": {
      "text/plain": [
       "Pregnant               3.845052\n",
       "Glucose              121.686763\n",
       "Diastolic_BP          72.405184\n",
       "Skin_Fold             29.153420\n",
       "Serum_Insulin        155.548223\n",
       "BMI                   32.457464\n",
       "Diabetes_Pedigree      0.471876\n",
       "Age                   33.240885\n",
       "Class                  0.348958\n",
       "dtype: float64"
      ]
     },
     "execution_count": 24,
     "metadata": {},
     "output_type": "execute_result"
    }
   ],
   "source": [
    "df.mean()"
   ]
  },
  {
   "cell_type": "code",
   "execution_count": 25,
   "metadata": {
    "colab": {
     "base_uri": "https://localhost:8080/"
    },
    "executionInfo": {
     "elapsed": 430,
     "status": "ok",
     "timestamp": 1719519700790,
     "user": {
      "displayName": "Juan F Pérez",
      "userId": "13439628769322192552"
     },
     "user_tz": 300
    },
    "id": "3x8ZevZoMIIZ",
    "outputId": "5836eaf9-43fb-4d5f-889e-ab7e7db144e4"
   },
   "outputs": [
    {
     "data": {
      "text/plain": [
       "0      43.278375\n",
       "1      29.868875\n",
       "2      44.567429\n",
       "3      35.807444\n",
       "4      51.043111\n",
       "         ...    \n",
       "763    56.785667\n",
       "764    35.642500\n",
       "765    43.271667\n",
       "766    37.921286\n",
       "767    31.089375\n",
       "Length: 768, dtype: float64"
      ]
     },
     "execution_count": 25,
     "metadata": {},
     "output_type": "execute_result"
    }
   ],
   "source": [
    "df.mean(axis='columns')"
   ]
  },
  {
   "cell_type": "code",
   "execution_count": 26,
   "metadata": {
    "colab": {
     "base_uri": "https://localhost:8080/"
    },
    "executionInfo": {
     "elapsed": 942,
     "status": "ok",
     "timestamp": 1719524678409,
     "user": {
      "displayName": "Juan F Pérez",
      "userId": "13439628769322192552"
     },
     "user_tz": 300
    },
    "id": "kGtI6uOXgRfn",
    "outputId": "e8c7d7ee-76b1-4fda-be5d-e4bbc5ca7a42"
   },
   "outputs": [
    {
     "data": {
      "text/plain": [
       "Pregnant              3.845052\n",
       "Glucose                    NaN\n",
       "Diastolic_BP               NaN\n",
       "Skin_Fold                  NaN\n",
       "Serum_Insulin              NaN\n",
       "BMI                        NaN\n",
       "Diabetes_Pedigree     0.471876\n",
       "Age                  33.240885\n",
       "Class                 0.348958\n",
       "dtype: float64"
      ]
     },
     "execution_count": 26,
     "metadata": {},
     "output_type": "execute_result"
    }
   ],
   "source": [
    "df.mean(skipna=False)"
   ]
  },
  {
   "cell_type": "code",
   "execution_count": 27,
   "metadata": {
    "colab": {
     "base_uri": "https://localhost:8080/"
    },
    "executionInfo": {
     "elapsed": 33,
     "status": "ok",
     "timestamp": 1719519700790,
     "user": {
      "displayName": "Juan F Pérez",
      "userId": "13439628769322192552"
     },
     "user_tz": 300
    },
    "id": "99dCowYzgp4V",
    "outputId": "1fca7d6e-6796-4d2b-96d9-e2663d713e64"
   },
   "outputs": [
    {
     "data": {
      "text/plain": [
       "Pregnant             768\n",
       "Glucose              763\n",
       "Diastolic_BP         733\n",
       "Skin_Fold            541\n",
       "Serum_Insulin        394\n",
       "BMI                  757\n",
       "Diabetes_Pedigree    768\n",
       "Age                  768\n",
       "Class                768\n",
       "dtype: int64"
      ]
     },
     "execution_count": 27,
     "metadata": {},
     "output_type": "execute_result"
    }
   ],
   "source": [
    "df.count()"
   ]
  },
  {
   "cell_type": "markdown",
   "metadata": {
    "id": "5ia4OGANhet5"
   },
   "source": [
    "### Operaciones de resumen"
   ]
  },
  {
   "cell_type": "code",
   "execution_count": 28,
   "metadata": {
    "colab": {
     "base_uri": "https://localhost:8080/"
    },
    "executionInfo": {
     "elapsed": 31,
     "status": "ok",
     "timestamp": 1719519700790,
     "user": {
      "displayName": "Juan F Pérez",
      "userId": "13439628769322192552"
     },
     "user_tz": 300
    },
    "id": "iCUIsFM2hEC_",
    "outputId": "77e305cf-39f6-46e4-9e12-6b54c9618976"
   },
   "outputs": [
    {
     "data": {
      "text/plain": [
       "Pregnant              0.000\n",
       "Glucose              44.000\n",
       "Diastolic_BP         24.000\n",
       "Skin_Fold             7.000\n",
       "Serum_Insulin        14.000\n",
       "BMI                  18.200\n",
       "Diabetes_Pedigree     0.078\n",
       "Age                  21.000\n",
       "Class                 0.000\n",
       "dtype: float64"
      ]
     },
     "execution_count": 28,
     "metadata": {},
     "output_type": "execute_result"
    }
   ],
   "source": [
    "df.min()"
   ]
  },
  {
   "cell_type": "code",
   "execution_count": 29,
   "metadata": {
    "colab": {
     "base_uri": "https://localhost:8080/"
    },
    "executionInfo": {
     "elapsed": 30,
     "status": "ok",
     "timestamp": 1719519700790,
     "user": {
      "displayName": "Juan F Pérez",
      "userId": "13439628769322192552"
     },
     "user_tz": 300
    },
    "id": "oy9WnZO6ho3l",
    "outputId": "03127a03-c9c1-4e40-de7a-c6184505b27b"
   },
   "outputs": [
    {
     "data": {
      "text/plain": [
       "Pregnant              17.00\n",
       "Glucose              199.00\n",
       "Diastolic_BP         122.00\n",
       "Skin_Fold             99.00\n",
       "Serum_Insulin        846.00\n",
       "BMI                   67.10\n",
       "Diabetes_Pedigree      2.42\n",
       "Age                   81.00\n",
       "Class                  1.00\n",
       "dtype: float64"
      ]
     },
     "execution_count": 29,
     "metadata": {},
     "output_type": "execute_result"
    }
   ],
   "source": [
    "df.max()"
   ]
  },
  {
   "cell_type": "code",
   "execution_count": 30,
   "metadata": {
    "colab": {
     "base_uri": "https://localhost:8080/"
    },
    "executionInfo": {
     "elapsed": 29,
     "status": "ok",
     "timestamp": 1719519700791,
     "user": {
      "displayName": "Juan F Pérez",
      "userId": "13439628769322192552"
     },
     "user_tz": 300
    },
    "id": "AG9dlKw4hqyN",
    "outputId": "e24a0cb7-08b7-4b78-a86d-0af79af3d99b"
   },
   "outputs": [
    {
     "data": {
      "text/plain": [
       "np.float64(199.0)"
      ]
     },
     "execution_count": 30,
     "metadata": {},
     "output_type": "execute_result"
    }
   ],
   "source": [
    "df['Glucose'].max()"
   ]
  },
  {
   "cell_type": "code",
   "execution_count": 31,
   "metadata": {
    "colab": {
     "base_uri": "https://localhost:8080/"
    },
    "executionInfo": {
     "elapsed": 27,
     "status": "ok",
     "timestamp": 1719519700791,
     "user": {
      "displayName": "Juan F Pérez",
      "userId": "13439628769322192552"
     },
     "user_tz": 300
    },
    "id": "tkjRVyn5h6aJ",
    "outputId": "c935c6e9-f325-4041-afdb-333879cfda57"
   },
   "outputs": [
    {
     "data": {
      "text/plain": [
       "np.int64(661)"
      ]
     },
     "execution_count": 31,
     "metadata": {},
     "output_type": "execute_result"
    }
   ],
   "source": [
    "df['Glucose'].argmax() # lo podemos usar con iloc"
   ]
  },
  {
   "cell_type": "code",
   "execution_count": 32,
   "metadata": {
    "colab": {
     "base_uri": "https://localhost:8080/"
    },
    "executionInfo": {
     "elapsed": 24,
     "status": "ok",
     "timestamp": 1719519700791,
     "user": {
      "displayName": "Juan F Pérez",
      "userId": "13439628769322192552"
     },
     "user_tz": 300
    },
    "id": "D-Ls1l90h9I_",
    "outputId": "9faef1c3-16d0-4c83-986f-2f80f739a46f"
   },
   "outputs": [
    {
     "data": {
      "text/plain": [
       "661"
      ]
     },
     "execution_count": 32,
     "metadata": {},
     "output_type": "execute_result"
    }
   ],
   "source": [
    "df['Glucose'].idxmax() # lo podemos usar con loc"
   ]
  },
  {
   "cell_type": "code",
   "execution_count": 33,
   "metadata": {
    "colab": {
     "base_uri": "https://localhost:8080/"
    },
    "executionInfo": {
     "elapsed": 22,
     "status": "ok",
     "timestamp": 1719519700791,
     "user": {
      "displayName": "Juan F Pérez",
      "userId": "13439628769322192552"
     },
     "user_tz": 300
    },
    "id": "z5_peg-riBLz",
    "outputId": "20b315f3-6c39-4fe8-e9d3-d05144f033ee"
   },
   "outputs": [
    {
     "data": {
      "text/plain": [
       "Pregnant               3.845052\n",
       "Glucose              121.686763\n",
       "Diastolic_BP          72.405184\n",
       "Skin_Fold             29.153420\n",
       "Serum_Insulin        155.548223\n",
       "BMI                   32.457464\n",
       "Diabetes_Pedigree      0.471876\n",
       "Age                   33.240885\n",
       "Class                  0.348958\n",
       "dtype: float64"
      ]
     },
     "execution_count": 33,
     "metadata": {},
     "output_type": "execute_result"
    }
   ],
   "source": [
    "df.mean()"
   ]
  },
  {
   "cell_type": "code",
   "execution_count": 34,
   "metadata": {
    "colab": {
     "base_uri": "https://localhost:8080/"
    },
    "executionInfo": {
     "elapsed": 19,
     "status": "ok",
     "timestamp": 1719519700791,
     "user": {
      "displayName": "Juan F Pérez",
      "userId": "13439628769322192552"
     },
     "user_tz": 300
    },
    "id": "8oYYRvIRiLuj",
    "outputId": "ded7db56-6b32-44c4-d81b-f9cbeda1b934"
   },
   "outputs": [
    {
     "data": {
      "text/plain": [
       "Pregnant               3.0000\n",
       "Glucose              117.0000\n",
       "Diastolic_BP          72.0000\n",
       "Skin_Fold             29.0000\n",
       "Serum_Insulin        125.0000\n",
       "BMI                   32.3000\n",
       "Diabetes_Pedigree      0.3725\n",
       "Age                   29.0000\n",
       "Class                  0.0000\n",
       "dtype: float64"
      ]
     },
     "execution_count": 34,
     "metadata": {},
     "output_type": "execute_result"
    }
   ],
   "source": [
    "df.median()"
   ]
  },
  {
   "cell_type": "code",
   "execution_count": 35,
   "metadata": {
    "colab": {
     "base_uri": "https://localhost:8080/"
    },
    "executionInfo": {
     "elapsed": 17,
     "status": "ok",
     "timestamp": 1719519700791,
     "user": {
      "displayName": "Juan F Pérez",
      "userId": "13439628769322192552"
     },
     "user_tz": 300
    },
    "id": "T4BfLI66iPTE",
    "outputId": "7256e82b-46ac-4a14-bf19-2fede41dbcf0"
   },
   "outputs": [
    {
     "name": "stderr",
     "output_type": "stream",
     "text": [
      "c:\\Users\\WINDOWS 11\\AppData\\Local\\Programs\\Python\\Python312\\Lib\\site-packages\\numpy\\_core\\_methods.py:55: RuntimeWarning: overflow encountered in reduce\n",
      "  return umr_prod(a, axis, dtype, out, keepdims, initial, where)\n"
     ]
    },
    {
     "data": {
      "text/plain": [
       "Pregnant              0.000000e+00\n",
       "Glucose                        inf\n",
       "Diastolic_BP                   inf\n",
       "Skin_Fold                      inf\n",
       "Serum_Insulin                  inf\n",
       "BMI                            inf\n",
       "Diabetes_Pedigree    6.660005e-321\n",
       "Age                   0.000000e+00\n",
       "Class                 0.000000e+00\n",
       "dtype: float64"
      ]
     },
     "execution_count": 35,
     "metadata": {},
     "output_type": "execute_result"
    }
   ],
   "source": [
    "df.prod()"
   ]
  },
  {
   "cell_type": "code",
   "execution_count": 36,
   "metadata": {
    "colab": {
     "base_uri": "https://localhost:8080/"
    },
    "executionInfo": {
     "elapsed": 15,
     "status": "ok",
     "timestamp": 1719519700791,
     "user": {
      "displayName": "Juan F Pérez",
      "userId": "13439628769322192552"
     },
     "user_tz": 300
    },
    "id": "0Z8JWqZSiT2B",
    "outputId": "bc9e033e-5bd8-4795-f780-8321fc85a887"
   },
   "outputs": [
    {
     "data": {
      "text/plain": [
       "Pregnant                11.354056\n",
       "Glucose                932.425376\n",
       "Diastolic_BP           153.317842\n",
       "Skin_Fold              109.767160\n",
       "Serum_Insulin        14107.703775\n",
       "BMI                     47.955463\n",
       "Diabetes_Pedigree        0.109779\n",
       "Age                    138.303046\n",
       "Class                    0.227483\n",
       "dtype: float64"
      ]
     },
     "execution_count": 36,
     "metadata": {},
     "output_type": "execute_result"
    }
   ],
   "source": [
    "df.var()"
   ]
  },
  {
   "cell_type": "code",
   "execution_count": 37,
   "metadata": {
    "colab": {
     "base_uri": "https://localhost:8080/"
    },
    "executionInfo": {
     "elapsed": 13,
     "status": "ok",
     "timestamp": 1719519700791,
     "user": {
      "displayName": "Juan F Pérez",
      "userId": "13439628769322192552"
     },
     "user_tz": 300
    },
    "id": "Vq-bOuv3in3Y",
    "outputId": "6b15f471-75ee-44ff-e1a8-192bb486ce8a"
   },
   "outputs": [
    {
     "data": {
      "text/plain": [
       "Pregnant               3.369578\n",
       "Glucose               30.535641\n",
       "Diastolic_BP          12.382158\n",
       "Skin_Fold             10.476982\n",
       "Serum_Insulin        118.775855\n",
       "BMI                    6.924988\n",
       "Diabetes_Pedigree      0.331329\n",
       "Age                   11.760232\n",
       "Class                  0.476951\n",
       "dtype: float64"
      ]
     },
     "execution_count": 37,
     "metadata": {},
     "output_type": "execute_result"
    }
   ],
   "source": [
    "df.std()"
   ]
  },
  {
   "cell_type": "code",
   "execution_count": 38,
   "metadata": {
    "colab": {
     "base_uri": "https://localhost:8080/"
    },
    "executionInfo": {
     "elapsed": 11,
     "status": "ok",
     "timestamp": 1719519700791,
     "user": {
      "displayName": "Juan F Pérez",
      "userId": "13439628769322192552"
     },
     "user_tz": 300
    },
    "id": "YPgSUqNYiqAj",
    "outputId": "ae0c002c-0f1c-4e97-ac3b-07f113e22c23"
   },
   "outputs": [
    {
     "data": {
      "text/plain": [
       "Pregnant             0.901674\n",
       "Glucose              0.530989\n",
       "Diastolic_BP         0.134153\n",
       "Skin_Fold            0.690619\n",
       "Serum_Insulin        2.166464\n",
       "BMI                  0.593970\n",
       "Diabetes_Pedigree    1.919911\n",
       "Age                  1.129597\n",
       "Class                0.635017\n",
       "dtype: float64"
      ]
     },
     "execution_count": 38,
     "metadata": {},
     "output_type": "execute_result"
    }
   ],
   "source": [
    "df.skew()"
   ]
  },
  {
   "cell_type": "code",
   "execution_count": 39,
   "metadata": {
    "colab": {
     "base_uri": "https://localhost:8080/"
    },
    "executionInfo": {
     "elapsed": 10,
     "status": "ok",
     "timestamp": 1719519700792,
     "user": {
      "displayName": "Juan F Pérez",
      "userId": "13439628769322192552"
     },
     "user_tz": 300
    },
    "id": "YHTjDOZPis12",
    "outputId": "adfe3580-83af-473c-e67f-452e4f551271"
   },
   "outputs": [
    {
     "data": {
      "text/plain": [
       "Pregnant             0.159220\n",
       "Glucose             -0.277040\n",
       "Diastolic_BP         0.911158\n",
       "Skin_Fold            2.935491\n",
       "Serum_Insulin        6.370522\n",
       "BMI                  0.863379\n",
       "Diabetes_Pedigree    5.594954\n",
       "Age                  0.643159\n",
       "Class               -1.600930\n",
       "dtype: float64"
      ]
     },
     "execution_count": 39,
     "metadata": {},
     "output_type": "execute_result"
    }
   ],
   "source": [
    "df.kurt()"
   ]
  },
  {
   "cell_type": "code",
   "execution_count": 40,
   "metadata": {
    "colab": {
     "base_uri": "https://localhost:8080/",
     "height": 423
    },
    "executionInfo": {
     "elapsed": 415,
     "status": "ok",
     "timestamp": 1719519701199,
     "user": {
      "displayName": "Juan F Pérez",
      "userId": "13439628769322192552"
     },
     "user_tz": 300
    },
    "id": "G47VoprZiu02",
    "outputId": "38c4342c-ed2e-44b7-8c3b-47d566749dcc"
   },
   "outputs": [
    {
     "data": {
      "text/html": [
       "<div>\n",
       "<style scoped>\n",
       "    .dataframe tbody tr th:only-of-type {\n",
       "        vertical-align: middle;\n",
       "    }\n",
       "\n",
       "    .dataframe tbody tr th {\n",
       "        vertical-align: top;\n",
       "    }\n",
       "\n",
       "    .dataframe thead th {\n",
       "        text-align: right;\n",
       "    }\n",
       "</style>\n",
       "<table border=\"1\" class=\"dataframe\">\n",
       "  <thead>\n",
       "    <tr style=\"text-align: right;\">\n",
       "      <th></th>\n",
       "      <th>Pregnant</th>\n",
       "      <th>Glucose</th>\n",
       "      <th>Diastolic_BP</th>\n",
       "      <th>Skin_Fold</th>\n",
       "      <th>Serum_Insulin</th>\n",
       "      <th>BMI</th>\n",
       "      <th>Diabetes_Pedigree</th>\n",
       "      <th>Age</th>\n",
       "      <th>Class</th>\n",
       "    </tr>\n",
       "  </thead>\n",
       "  <tbody>\n",
       "    <tr>\n",
       "      <th>0</th>\n",
       "      <td>6</td>\n",
       "      <td>148.0</td>\n",
       "      <td>72.0</td>\n",
       "      <td>35.0</td>\n",
       "      <td>NaN</td>\n",
       "      <td>33.6</td>\n",
       "      <td>0.627</td>\n",
       "      <td>50</td>\n",
       "      <td>1</td>\n",
       "    </tr>\n",
       "    <tr>\n",
       "      <th>1</th>\n",
       "      <td>7</td>\n",
       "      <td>233.0</td>\n",
       "      <td>138.0</td>\n",
       "      <td>64.0</td>\n",
       "      <td>NaN</td>\n",
       "      <td>60.2</td>\n",
       "      <td>0.978</td>\n",
       "      <td>81</td>\n",
       "      <td>1</td>\n",
       "    </tr>\n",
       "    <tr>\n",
       "      <th>2</th>\n",
       "      <td>15</td>\n",
       "      <td>416.0</td>\n",
       "      <td>202.0</td>\n",
       "      <td>NaN</td>\n",
       "      <td>NaN</td>\n",
       "      <td>83.5</td>\n",
       "      <td>1.650</td>\n",
       "      <td>113</td>\n",
       "      <td>2</td>\n",
       "    </tr>\n",
       "    <tr>\n",
       "      <th>3</th>\n",
       "      <td>16</td>\n",
       "      <td>505.0</td>\n",
       "      <td>268.0</td>\n",
       "      <td>87.0</td>\n",
       "      <td>94.0</td>\n",
       "      <td>111.6</td>\n",
       "      <td>1.817</td>\n",
       "      <td>134</td>\n",
       "      <td>2</td>\n",
       "    </tr>\n",
       "    <tr>\n",
       "      <th>4</th>\n",
       "      <td>16</td>\n",
       "      <td>642.0</td>\n",
       "      <td>308.0</td>\n",
       "      <td>122.0</td>\n",
       "      <td>262.0</td>\n",
       "      <td>154.7</td>\n",
       "      <td>4.105</td>\n",
       "      <td>167</td>\n",
       "      <td>3</td>\n",
       "    </tr>\n",
       "    <tr>\n",
       "      <th>...</th>\n",
       "      <td>...</td>\n",
       "      <td>...</td>\n",
       "      <td>...</td>\n",
       "      <td>...</td>\n",
       "      <td>...</td>\n",
       "      <td>...</td>\n",
       "      <td>...</td>\n",
       "      <td>...</td>\n",
       "      <td>...</td>\n",
       "    </tr>\n",
       "    <tr>\n",
       "      <th>763</th>\n",
       "      <td>2944</td>\n",
       "      <td>92385.0</td>\n",
       "      <td>52801.0</td>\n",
       "      <td>15691.0</td>\n",
       "      <td>61174.0</td>\n",
       "      <td>24446.8</td>\n",
       "      <td>361.152</td>\n",
       "      <td>25402</td>\n",
       "      <td>267</td>\n",
       "    </tr>\n",
       "    <tr>\n",
       "      <th>764</th>\n",
       "      <td>2946</td>\n",
       "      <td>92507.0</td>\n",
       "      <td>52871.0</td>\n",
       "      <td>15718.0</td>\n",
       "      <td>NaN</td>\n",
       "      <td>24483.6</td>\n",
       "      <td>361.492</td>\n",
       "      <td>25429</td>\n",
       "      <td>267</td>\n",
       "    </tr>\n",
       "    <tr>\n",
       "      <th>765</th>\n",
       "      <td>2951</td>\n",
       "      <td>92628.0</td>\n",
       "      <td>52943.0</td>\n",
       "      <td>15741.0</td>\n",
       "      <td>61286.0</td>\n",
       "      <td>24509.8</td>\n",
       "      <td>361.737</td>\n",
       "      <td>25459</td>\n",
       "      <td>267</td>\n",
       "    </tr>\n",
       "    <tr>\n",
       "      <th>766</th>\n",
       "      <td>2952</td>\n",
       "      <td>92754.0</td>\n",
       "      <td>53003.0</td>\n",
       "      <td>NaN</td>\n",
       "      <td>NaN</td>\n",
       "      <td>24539.9</td>\n",
       "      <td>362.086</td>\n",
       "      <td>25506</td>\n",
       "      <td>268</td>\n",
       "    </tr>\n",
       "    <tr>\n",
       "      <th>767</th>\n",
       "      <td>2953</td>\n",
       "      <td>92847.0</td>\n",
       "      <td>53073.0</td>\n",
       "      <td>15772.0</td>\n",
       "      <td>NaN</td>\n",
       "      <td>24570.3</td>\n",
       "      <td>362.401</td>\n",
       "      <td>25529</td>\n",
       "      <td>268</td>\n",
       "    </tr>\n",
       "  </tbody>\n",
       "</table>\n",
       "<p>768 rows × 9 columns</p>\n",
       "</div>"
      ],
      "text/plain": [
       "     Pregnant  Glucose  Diastolic_BP  Skin_Fold  Serum_Insulin      BMI  \\\n",
       "0           6    148.0          72.0       35.0            NaN     33.6   \n",
       "1           7    233.0         138.0       64.0            NaN     60.2   \n",
       "2          15    416.0         202.0        NaN            NaN     83.5   \n",
       "3          16    505.0         268.0       87.0           94.0    111.6   \n",
       "4          16    642.0         308.0      122.0          262.0    154.7   \n",
       "..        ...      ...           ...        ...            ...      ...   \n",
       "763      2944  92385.0       52801.0    15691.0        61174.0  24446.8   \n",
       "764      2946  92507.0       52871.0    15718.0            NaN  24483.6   \n",
       "765      2951  92628.0       52943.0    15741.0        61286.0  24509.8   \n",
       "766      2952  92754.0       53003.0        NaN            NaN  24539.9   \n",
       "767      2953  92847.0       53073.0    15772.0            NaN  24570.3   \n",
       "\n",
       "     Diabetes_Pedigree    Age  Class  \n",
       "0                0.627     50      1  \n",
       "1                0.978     81      1  \n",
       "2                1.650    113      2  \n",
       "3                1.817    134      2  \n",
       "4                4.105    167      3  \n",
       "..                 ...    ...    ...  \n",
       "763            361.152  25402    267  \n",
       "764            361.492  25429    267  \n",
       "765            361.737  25459    267  \n",
       "766            362.086  25506    268  \n",
       "767            362.401  25529    268  \n",
       "\n",
       "[768 rows x 9 columns]"
      ]
     },
     "execution_count": 40,
     "metadata": {},
     "output_type": "execute_result"
    }
   ],
   "source": [
    "df.cumsum()"
   ]
  },
  {
   "cell_type": "code",
   "execution_count": 41,
   "metadata": {
    "colab": {
     "base_uri": "https://localhost:8080/",
     "height": 423
    },
    "executionInfo": {
     "elapsed": 414,
     "status": "ok",
     "timestamp": 1719519701199,
     "user": {
      "displayName": "Juan F Pérez",
      "userId": "13439628769322192552"
     },
     "user_tz": 300
    },
    "id": "E6RqN5zJi1fM",
    "outputId": "accfa6be-5722-44cf-fd51-6604ed3bd191"
   },
   "outputs": [
    {
     "data": {
      "text/html": [
       "<div>\n",
       "<style scoped>\n",
       "    .dataframe tbody tr th:only-of-type {\n",
       "        vertical-align: middle;\n",
       "    }\n",
       "\n",
       "    .dataframe tbody tr th {\n",
       "        vertical-align: top;\n",
       "    }\n",
       "\n",
       "    .dataframe thead th {\n",
       "        text-align: right;\n",
       "    }\n",
       "</style>\n",
       "<table border=\"1\" class=\"dataframe\">\n",
       "  <thead>\n",
       "    <tr style=\"text-align: right;\">\n",
       "      <th></th>\n",
       "      <th>Pregnant</th>\n",
       "      <th>Glucose</th>\n",
       "      <th>Diastolic_BP</th>\n",
       "      <th>Skin_Fold</th>\n",
       "      <th>Serum_Insulin</th>\n",
       "      <th>BMI</th>\n",
       "      <th>Diabetes_Pedigree</th>\n",
       "      <th>Age</th>\n",
       "      <th>Class</th>\n",
       "    </tr>\n",
       "  </thead>\n",
       "  <tbody>\n",
       "    <tr>\n",
       "      <th>0</th>\n",
       "      <td>6</td>\n",
       "      <td>148.0</td>\n",
       "      <td>72.0</td>\n",
       "      <td>35.0</td>\n",
       "      <td>NaN</td>\n",
       "      <td>33.6</td>\n",
       "      <td>0.627</td>\n",
       "      <td>50</td>\n",
       "      <td>1</td>\n",
       "    </tr>\n",
       "    <tr>\n",
       "      <th>1</th>\n",
       "      <td>1</td>\n",
       "      <td>85.0</td>\n",
       "      <td>66.0</td>\n",
       "      <td>29.0</td>\n",
       "      <td>NaN</td>\n",
       "      <td>26.6</td>\n",
       "      <td>0.351</td>\n",
       "      <td>31</td>\n",
       "      <td>0</td>\n",
       "    </tr>\n",
       "    <tr>\n",
       "      <th>2</th>\n",
       "      <td>1</td>\n",
       "      <td>85.0</td>\n",
       "      <td>64.0</td>\n",
       "      <td>NaN</td>\n",
       "      <td>NaN</td>\n",
       "      <td>23.3</td>\n",
       "      <td>0.351</td>\n",
       "      <td>31</td>\n",
       "      <td>0</td>\n",
       "    </tr>\n",
       "    <tr>\n",
       "      <th>3</th>\n",
       "      <td>1</td>\n",
       "      <td>85.0</td>\n",
       "      <td>64.0</td>\n",
       "      <td>23.0</td>\n",
       "      <td>94.0</td>\n",
       "      <td>23.3</td>\n",
       "      <td>0.167</td>\n",
       "      <td>21</td>\n",
       "      <td>0</td>\n",
       "    </tr>\n",
       "    <tr>\n",
       "      <th>4</th>\n",
       "      <td>0</td>\n",
       "      <td>85.0</td>\n",
       "      <td>40.0</td>\n",
       "      <td>23.0</td>\n",
       "      <td>94.0</td>\n",
       "      <td>23.3</td>\n",
       "      <td>0.167</td>\n",
       "      <td>21</td>\n",
       "      <td>0</td>\n",
       "    </tr>\n",
       "    <tr>\n",
       "      <th>...</th>\n",
       "      <td>...</td>\n",
       "      <td>...</td>\n",
       "      <td>...</td>\n",
       "      <td>...</td>\n",
       "      <td>...</td>\n",
       "      <td>...</td>\n",
       "      <td>...</td>\n",
       "      <td>...</td>\n",
       "      <td>...</td>\n",
       "    </tr>\n",
       "    <tr>\n",
       "      <th>763</th>\n",
       "      <td>0</td>\n",
       "      <td>44.0</td>\n",
       "      <td>24.0</td>\n",
       "      <td>7.0</td>\n",
       "      <td>14.0</td>\n",
       "      <td>18.2</td>\n",
       "      <td>0.078</td>\n",
       "      <td>21</td>\n",
       "      <td>0</td>\n",
       "    </tr>\n",
       "    <tr>\n",
       "      <th>764</th>\n",
       "      <td>0</td>\n",
       "      <td>44.0</td>\n",
       "      <td>24.0</td>\n",
       "      <td>7.0</td>\n",
       "      <td>NaN</td>\n",
       "      <td>18.2</td>\n",
       "      <td>0.078</td>\n",
       "      <td>21</td>\n",
       "      <td>0</td>\n",
       "    </tr>\n",
       "    <tr>\n",
       "      <th>765</th>\n",
       "      <td>0</td>\n",
       "      <td>44.0</td>\n",
       "      <td>24.0</td>\n",
       "      <td>7.0</td>\n",
       "      <td>14.0</td>\n",
       "      <td>18.2</td>\n",
       "      <td>0.078</td>\n",
       "      <td>21</td>\n",
       "      <td>0</td>\n",
       "    </tr>\n",
       "    <tr>\n",
       "      <th>766</th>\n",
       "      <td>0</td>\n",
       "      <td>44.0</td>\n",
       "      <td>24.0</td>\n",
       "      <td>NaN</td>\n",
       "      <td>NaN</td>\n",
       "      <td>18.2</td>\n",
       "      <td>0.078</td>\n",
       "      <td>21</td>\n",
       "      <td>0</td>\n",
       "    </tr>\n",
       "    <tr>\n",
       "      <th>767</th>\n",
       "      <td>0</td>\n",
       "      <td>44.0</td>\n",
       "      <td>24.0</td>\n",
       "      <td>7.0</td>\n",
       "      <td>NaN</td>\n",
       "      <td>18.2</td>\n",
       "      <td>0.078</td>\n",
       "      <td>21</td>\n",
       "      <td>0</td>\n",
       "    </tr>\n",
       "  </tbody>\n",
       "</table>\n",
       "<p>768 rows × 9 columns</p>\n",
       "</div>"
      ],
      "text/plain": [
       "     Pregnant  Glucose  Diastolic_BP  Skin_Fold  Serum_Insulin   BMI  \\\n",
       "0           6    148.0          72.0       35.0            NaN  33.6   \n",
       "1           1     85.0          66.0       29.0            NaN  26.6   \n",
       "2           1     85.0          64.0        NaN            NaN  23.3   \n",
       "3           1     85.0          64.0       23.0           94.0  23.3   \n",
       "4           0     85.0          40.0       23.0           94.0  23.3   \n",
       "..        ...      ...           ...        ...            ...   ...   \n",
       "763         0     44.0          24.0        7.0           14.0  18.2   \n",
       "764         0     44.0          24.0        7.0            NaN  18.2   \n",
       "765         0     44.0          24.0        7.0           14.0  18.2   \n",
       "766         0     44.0          24.0        NaN            NaN  18.2   \n",
       "767         0     44.0          24.0        7.0            NaN  18.2   \n",
       "\n",
       "     Diabetes_Pedigree  Age  Class  \n",
       "0                0.627   50      1  \n",
       "1                0.351   31      0  \n",
       "2                0.351   31      0  \n",
       "3                0.167   21      0  \n",
       "4                0.167   21      0  \n",
       "..                 ...  ...    ...  \n",
       "763              0.078   21      0  \n",
       "764              0.078   21      0  \n",
       "765              0.078   21      0  \n",
       "766              0.078   21      0  \n",
       "767              0.078   21      0  \n",
       "\n",
       "[768 rows x 9 columns]"
      ]
     },
     "execution_count": 41,
     "metadata": {},
     "output_type": "execute_result"
    }
   ],
   "source": [
    "df.cummin()"
   ]
  },
  {
   "cell_type": "code",
   "execution_count": 42,
   "metadata": {
    "colab": {
     "base_uri": "https://localhost:8080/",
     "height": 423
    },
    "executionInfo": {
     "elapsed": 11,
     "status": "ok",
     "timestamp": 1719519701200,
     "user": {
      "displayName": "Juan F Pérez",
      "userId": "13439628769322192552"
     },
     "user_tz": 300
    },
    "id": "uOu9AedDi4AY",
    "outputId": "8a344f13-c50b-4dfb-f947-9fd091895d7c"
   },
   "outputs": [
    {
     "data": {
      "text/html": [
       "<div>\n",
       "<style scoped>\n",
       "    .dataframe tbody tr th:only-of-type {\n",
       "        vertical-align: middle;\n",
       "    }\n",
       "\n",
       "    .dataframe tbody tr th {\n",
       "        vertical-align: top;\n",
       "    }\n",
       "\n",
       "    .dataframe thead th {\n",
       "        text-align: right;\n",
       "    }\n",
       "</style>\n",
       "<table border=\"1\" class=\"dataframe\">\n",
       "  <thead>\n",
       "    <tr style=\"text-align: right;\">\n",
       "      <th></th>\n",
       "      <th>Pregnant</th>\n",
       "      <th>Glucose</th>\n",
       "      <th>Diastolic_BP</th>\n",
       "      <th>Skin_Fold</th>\n",
       "      <th>Serum_Insulin</th>\n",
       "      <th>BMI</th>\n",
       "      <th>Diabetes_Pedigree</th>\n",
       "      <th>Age</th>\n",
       "      <th>Class</th>\n",
       "    </tr>\n",
       "  </thead>\n",
       "  <tbody>\n",
       "    <tr>\n",
       "      <th>0</th>\n",
       "      <td>6</td>\n",
       "      <td>148.0</td>\n",
       "      <td>72.0</td>\n",
       "      <td>35.0</td>\n",
       "      <td>NaN</td>\n",
       "      <td>33.6</td>\n",
       "      <td>0.627</td>\n",
       "      <td>50</td>\n",
       "      <td>1</td>\n",
       "    </tr>\n",
       "    <tr>\n",
       "      <th>1</th>\n",
       "      <td>6</td>\n",
       "      <td>148.0</td>\n",
       "      <td>72.0</td>\n",
       "      <td>35.0</td>\n",
       "      <td>NaN</td>\n",
       "      <td>33.6</td>\n",
       "      <td>0.627</td>\n",
       "      <td>50</td>\n",
       "      <td>1</td>\n",
       "    </tr>\n",
       "    <tr>\n",
       "      <th>2</th>\n",
       "      <td>8</td>\n",
       "      <td>183.0</td>\n",
       "      <td>72.0</td>\n",
       "      <td>NaN</td>\n",
       "      <td>NaN</td>\n",
       "      <td>33.6</td>\n",
       "      <td>0.672</td>\n",
       "      <td>50</td>\n",
       "      <td>1</td>\n",
       "    </tr>\n",
       "    <tr>\n",
       "      <th>3</th>\n",
       "      <td>8</td>\n",
       "      <td>183.0</td>\n",
       "      <td>72.0</td>\n",
       "      <td>35.0</td>\n",
       "      <td>94.0</td>\n",
       "      <td>33.6</td>\n",
       "      <td>0.672</td>\n",
       "      <td>50</td>\n",
       "      <td>1</td>\n",
       "    </tr>\n",
       "    <tr>\n",
       "      <th>4</th>\n",
       "      <td>8</td>\n",
       "      <td>183.0</td>\n",
       "      <td>72.0</td>\n",
       "      <td>35.0</td>\n",
       "      <td>168.0</td>\n",
       "      <td>43.1</td>\n",
       "      <td>2.288</td>\n",
       "      <td>50</td>\n",
       "      <td>1</td>\n",
       "    </tr>\n",
       "    <tr>\n",
       "      <th>...</th>\n",
       "      <td>...</td>\n",
       "      <td>...</td>\n",
       "      <td>...</td>\n",
       "      <td>...</td>\n",
       "      <td>...</td>\n",
       "      <td>...</td>\n",
       "      <td>...</td>\n",
       "      <td>...</td>\n",
       "      <td>...</td>\n",
       "    </tr>\n",
       "    <tr>\n",
       "      <th>763</th>\n",
       "      <td>17</td>\n",
       "      <td>199.0</td>\n",
       "      <td>122.0</td>\n",
       "      <td>99.0</td>\n",
       "      <td>846.0</td>\n",
       "      <td>67.1</td>\n",
       "      <td>2.420</td>\n",
       "      <td>81</td>\n",
       "      <td>1</td>\n",
       "    </tr>\n",
       "    <tr>\n",
       "      <th>764</th>\n",
       "      <td>17</td>\n",
       "      <td>199.0</td>\n",
       "      <td>122.0</td>\n",
       "      <td>99.0</td>\n",
       "      <td>NaN</td>\n",
       "      <td>67.1</td>\n",
       "      <td>2.420</td>\n",
       "      <td>81</td>\n",
       "      <td>1</td>\n",
       "    </tr>\n",
       "    <tr>\n",
       "      <th>765</th>\n",
       "      <td>17</td>\n",
       "      <td>199.0</td>\n",
       "      <td>122.0</td>\n",
       "      <td>99.0</td>\n",
       "      <td>846.0</td>\n",
       "      <td>67.1</td>\n",
       "      <td>2.420</td>\n",
       "      <td>81</td>\n",
       "      <td>1</td>\n",
       "    </tr>\n",
       "    <tr>\n",
       "      <th>766</th>\n",
       "      <td>17</td>\n",
       "      <td>199.0</td>\n",
       "      <td>122.0</td>\n",
       "      <td>NaN</td>\n",
       "      <td>NaN</td>\n",
       "      <td>67.1</td>\n",
       "      <td>2.420</td>\n",
       "      <td>81</td>\n",
       "      <td>1</td>\n",
       "    </tr>\n",
       "    <tr>\n",
       "      <th>767</th>\n",
       "      <td>17</td>\n",
       "      <td>199.0</td>\n",
       "      <td>122.0</td>\n",
       "      <td>99.0</td>\n",
       "      <td>NaN</td>\n",
       "      <td>67.1</td>\n",
       "      <td>2.420</td>\n",
       "      <td>81</td>\n",
       "      <td>1</td>\n",
       "    </tr>\n",
       "  </tbody>\n",
       "</table>\n",
       "<p>768 rows × 9 columns</p>\n",
       "</div>"
      ],
      "text/plain": [
       "     Pregnant  Glucose  Diastolic_BP  Skin_Fold  Serum_Insulin   BMI  \\\n",
       "0           6    148.0          72.0       35.0            NaN  33.6   \n",
       "1           6    148.0          72.0       35.0            NaN  33.6   \n",
       "2           8    183.0          72.0        NaN            NaN  33.6   \n",
       "3           8    183.0          72.0       35.0           94.0  33.6   \n",
       "4           8    183.0          72.0       35.0          168.0  43.1   \n",
       "..        ...      ...           ...        ...            ...   ...   \n",
       "763        17    199.0         122.0       99.0          846.0  67.1   \n",
       "764        17    199.0         122.0       99.0            NaN  67.1   \n",
       "765        17    199.0         122.0       99.0          846.0  67.1   \n",
       "766        17    199.0         122.0        NaN            NaN  67.1   \n",
       "767        17    199.0         122.0       99.0            NaN  67.1   \n",
       "\n",
       "     Diabetes_Pedigree  Age  Class  \n",
       "0                0.627   50      1  \n",
       "1                0.627   50      1  \n",
       "2                0.672   50      1  \n",
       "3                0.672   50      1  \n",
       "4                2.288   50      1  \n",
       "..                 ...  ...    ...  \n",
       "763              2.420   81      1  \n",
       "764              2.420   81      1  \n",
       "765              2.420   81      1  \n",
       "766              2.420   81      1  \n",
       "767              2.420   81      1  \n",
       "\n",
       "[768 rows x 9 columns]"
      ]
     },
     "execution_count": 42,
     "metadata": {},
     "output_type": "execute_result"
    }
   ],
   "source": [
    "df.cummax()"
   ]
  },
  {
   "cell_type": "code",
   "execution_count": 43,
   "metadata": {
    "colab": {
     "base_uri": "https://localhost:8080/",
     "height": 423
    },
    "executionInfo": {
     "elapsed": 829,
     "status": "ok",
     "timestamp": 1719525440756,
     "user": {
      "displayName": "Juan F Pérez",
      "userId": "13439628769322192552"
     },
     "user_tz": 300
    },
    "id": "I0ruqOyEs-lf",
    "outputId": "f8b6b913-fc85-481e-e6ed-c9750824c86d"
   },
   "outputs": [
    {
     "data": {
      "text/html": [
       "<div>\n",
       "<style scoped>\n",
       "    .dataframe tbody tr th:only-of-type {\n",
       "        vertical-align: middle;\n",
       "    }\n",
       "\n",
       "    .dataframe tbody tr th {\n",
       "        vertical-align: top;\n",
       "    }\n",
       "\n",
       "    .dataframe thead th {\n",
       "        text-align: right;\n",
       "    }\n",
       "</style>\n",
       "<table border=\"1\" class=\"dataframe\">\n",
       "  <thead>\n",
       "    <tr style=\"text-align: right;\">\n",
       "      <th></th>\n",
       "      <th>Pregnant</th>\n",
       "      <th>Glucose</th>\n",
       "      <th>Diastolic_BP</th>\n",
       "      <th>Skin_Fold</th>\n",
       "      <th>Serum_Insulin</th>\n",
       "      <th>BMI</th>\n",
       "      <th>Diabetes_Pedigree</th>\n",
       "      <th>Age</th>\n",
       "      <th>Class</th>\n",
       "    </tr>\n",
       "  </thead>\n",
       "  <tbody>\n",
       "    <tr>\n",
       "      <th>0</th>\n",
       "      <td>6</td>\n",
       "      <td>148.0</td>\n",
       "      <td>72.0</td>\n",
       "      <td>35.0</td>\n",
       "      <td>NaN</td>\n",
       "      <td>33.6</td>\n",
       "      <td>0.627</td>\n",
       "      <td>50</td>\n",
       "      <td>1</td>\n",
       "    </tr>\n",
       "    <tr>\n",
       "      <th>1</th>\n",
       "      <td>1</td>\n",
       "      <td>85.0</td>\n",
       "      <td>66.0</td>\n",
       "      <td>29.0</td>\n",
       "      <td>NaN</td>\n",
       "      <td>26.6</td>\n",
       "      <td>0.351</td>\n",
       "      <td>31</td>\n",
       "      <td>0</td>\n",
       "    </tr>\n",
       "    <tr>\n",
       "      <th>2</th>\n",
       "      <td>8</td>\n",
       "      <td>183.0</td>\n",
       "      <td>64.0</td>\n",
       "      <td>NaN</td>\n",
       "      <td>NaN</td>\n",
       "      <td>23.3</td>\n",
       "      <td>0.672</td>\n",
       "      <td>32</td>\n",
       "      <td>1</td>\n",
       "    </tr>\n",
       "    <tr>\n",
       "      <th>3</th>\n",
       "      <td>1</td>\n",
       "      <td>89.0</td>\n",
       "      <td>66.0</td>\n",
       "      <td>23.0</td>\n",
       "      <td>94.0</td>\n",
       "      <td>28.1</td>\n",
       "      <td>0.167</td>\n",
       "      <td>21</td>\n",
       "      <td>0</td>\n",
       "    </tr>\n",
       "    <tr>\n",
       "      <th>4</th>\n",
       "      <td>0</td>\n",
       "      <td>137.0</td>\n",
       "      <td>40.0</td>\n",
       "      <td>35.0</td>\n",
       "      <td>168.0</td>\n",
       "      <td>43.1</td>\n",
       "      <td>2.288</td>\n",
       "      <td>33</td>\n",
       "      <td>1</td>\n",
       "    </tr>\n",
       "    <tr>\n",
       "      <th>...</th>\n",
       "      <td>...</td>\n",
       "      <td>...</td>\n",
       "      <td>...</td>\n",
       "      <td>...</td>\n",
       "      <td>...</td>\n",
       "      <td>...</td>\n",
       "      <td>...</td>\n",
       "      <td>...</td>\n",
       "      <td>...</td>\n",
       "    </tr>\n",
       "    <tr>\n",
       "      <th>763</th>\n",
       "      <td>10</td>\n",
       "      <td>101.0</td>\n",
       "      <td>76.0</td>\n",
       "      <td>48.0</td>\n",
       "      <td>180.0</td>\n",
       "      <td>32.9</td>\n",
       "      <td>0.171</td>\n",
       "      <td>63</td>\n",
       "      <td>0</td>\n",
       "    </tr>\n",
       "    <tr>\n",
       "      <th>764</th>\n",
       "      <td>2</td>\n",
       "      <td>122.0</td>\n",
       "      <td>70.0</td>\n",
       "      <td>27.0</td>\n",
       "      <td>NaN</td>\n",
       "      <td>36.8</td>\n",
       "      <td>0.340</td>\n",
       "      <td>27</td>\n",
       "      <td>0</td>\n",
       "    </tr>\n",
       "    <tr>\n",
       "      <th>765</th>\n",
       "      <td>5</td>\n",
       "      <td>121.0</td>\n",
       "      <td>72.0</td>\n",
       "      <td>23.0</td>\n",
       "      <td>112.0</td>\n",
       "      <td>26.2</td>\n",
       "      <td>0.245</td>\n",
       "      <td>30</td>\n",
       "      <td>0</td>\n",
       "    </tr>\n",
       "    <tr>\n",
       "      <th>766</th>\n",
       "      <td>1</td>\n",
       "      <td>126.0</td>\n",
       "      <td>60.0</td>\n",
       "      <td>NaN</td>\n",
       "      <td>NaN</td>\n",
       "      <td>30.1</td>\n",
       "      <td>0.349</td>\n",
       "      <td>47</td>\n",
       "      <td>1</td>\n",
       "    </tr>\n",
       "    <tr>\n",
       "      <th>767</th>\n",
       "      <td>1</td>\n",
       "      <td>93.0</td>\n",
       "      <td>70.0</td>\n",
       "      <td>31.0</td>\n",
       "      <td>NaN</td>\n",
       "      <td>30.4</td>\n",
       "      <td>0.315</td>\n",
       "      <td>23</td>\n",
       "      <td>0</td>\n",
       "    </tr>\n",
       "  </tbody>\n",
       "</table>\n",
       "<p>768 rows × 9 columns</p>\n",
       "</div>"
      ],
      "text/plain": [
       "     Pregnant  Glucose  Diastolic_BP  Skin_Fold  Serum_Insulin   BMI  \\\n",
       "0           6    148.0          72.0       35.0            NaN  33.6   \n",
       "1           1     85.0          66.0       29.0            NaN  26.6   \n",
       "2           8    183.0          64.0        NaN            NaN  23.3   \n",
       "3           1     89.0          66.0       23.0           94.0  28.1   \n",
       "4           0    137.0          40.0       35.0          168.0  43.1   \n",
       "..        ...      ...           ...        ...            ...   ...   \n",
       "763        10    101.0          76.0       48.0          180.0  32.9   \n",
       "764         2    122.0          70.0       27.0            NaN  36.8   \n",
       "765         5    121.0          72.0       23.0          112.0  26.2   \n",
       "766         1    126.0          60.0        NaN            NaN  30.1   \n",
       "767         1     93.0          70.0       31.0            NaN  30.4   \n",
       "\n",
       "     Diabetes_Pedigree  Age  Class  \n",
       "0                0.627   50      1  \n",
       "1                0.351   31      0  \n",
       "2                0.672   32      1  \n",
       "3                0.167   21      0  \n",
       "4                2.288   33      1  \n",
       "..                 ...  ...    ...  \n",
       "763              0.171   63      0  \n",
       "764              0.340   27      0  \n",
       "765              0.245   30      0  \n",
       "766              0.349   47      1  \n",
       "767              0.315   23      0  \n",
       "\n",
       "[768 rows x 9 columns]"
      ]
     },
     "execution_count": 43,
     "metadata": {},
     "output_type": "execute_result"
    }
   ],
   "source": [
    "df"
   ]
  },
  {
   "cell_type": "code",
   "execution_count": 44,
   "metadata": {
    "colab": {
     "base_uri": "https://localhost:8080/",
     "height": 423
    },
    "executionInfo": {
     "elapsed": 10,
     "status": "ok",
     "timestamp": 1719519701200,
     "user": {
      "displayName": "Juan F Pérez",
      "userId": "13439628769322192552"
     },
     "user_tz": 300
    },
    "id": "7Gsmlicni57q",
    "outputId": "33ab8c2b-14bc-4aec-eeeb-e4e1bde39069"
   },
   "outputs": [
    {
     "data": {
      "text/html": [
       "<div>\n",
       "<style scoped>\n",
       "    .dataframe tbody tr th:only-of-type {\n",
       "        vertical-align: middle;\n",
       "    }\n",
       "\n",
       "    .dataframe tbody tr th {\n",
       "        vertical-align: top;\n",
       "    }\n",
       "\n",
       "    .dataframe thead th {\n",
       "        text-align: right;\n",
       "    }\n",
       "</style>\n",
       "<table border=\"1\" class=\"dataframe\">\n",
       "  <thead>\n",
       "    <tr style=\"text-align: right;\">\n",
       "      <th></th>\n",
       "      <th>Pregnant</th>\n",
       "      <th>Glucose</th>\n",
       "      <th>Diastolic_BP</th>\n",
       "      <th>Skin_Fold</th>\n",
       "      <th>Serum_Insulin</th>\n",
       "      <th>BMI</th>\n",
       "      <th>Diabetes_Pedigree</th>\n",
       "      <th>Age</th>\n",
       "      <th>Class</th>\n",
       "    </tr>\n",
       "  </thead>\n",
       "  <tbody>\n",
       "    <tr>\n",
       "      <th>0</th>\n",
       "      <td>NaN</td>\n",
       "      <td>NaN</td>\n",
       "      <td>NaN</td>\n",
       "      <td>NaN</td>\n",
       "      <td>NaN</td>\n",
       "      <td>NaN</td>\n",
       "      <td>NaN</td>\n",
       "      <td>NaN</td>\n",
       "      <td>NaN</td>\n",
       "    </tr>\n",
       "    <tr>\n",
       "      <th>1</th>\n",
       "      <td>-5.0</td>\n",
       "      <td>-63.0</td>\n",
       "      <td>-6.0</td>\n",
       "      <td>-6.0</td>\n",
       "      <td>NaN</td>\n",
       "      <td>-7.0</td>\n",
       "      <td>-0.276</td>\n",
       "      <td>-19.0</td>\n",
       "      <td>-1.0</td>\n",
       "    </tr>\n",
       "    <tr>\n",
       "      <th>2</th>\n",
       "      <td>7.0</td>\n",
       "      <td>98.0</td>\n",
       "      <td>-2.0</td>\n",
       "      <td>NaN</td>\n",
       "      <td>NaN</td>\n",
       "      <td>-3.3</td>\n",
       "      <td>0.321</td>\n",
       "      <td>1.0</td>\n",
       "      <td>1.0</td>\n",
       "    </tr>\n",
       "    <tr>\n",
       "      <th>3</th>\n",
       "      <td>-7.0</td>\n",
       "      <td>-94.0</td>\n",
       "      <td>2.0</td>\n",
       "      <td>NaN</td>\n",
       "      <td>NaN</td>\n",
       "      <td>4.8</td>\n",
       "      <td>-0.505</td>\n",
       "      <td>-11.0</td>\n",
       "      <td>-1.0</td>\n",
       "    </tr>\n",
       "    <tr>\n",
       "      <th>4</th>\n",
       "      <td>-1.0</td>\n",
       "      <td>48.0</td>\n",
       "      <td>-26.0</td>\n",
       "      <td>12.0</td>\n",
       "      <td>74.0</td>\n",
       "      <td>15.0</td>\n",
       "      <td>2.121</td>\n",
       "      <td>12.0</td>\n",
       "      <td>1.0</td>\n",
       "    </tr>\n",
       "    <tr>\n",
       "      <th>...</th>\n",
       "      <td>...</td>\n",
       "      <td>...</td>\n",
       "      <td>...</td>\n",
       "      <td>...</td>\n",
       "      <td>...</td>\n",
       "      <td>...</td>\n",
       "      <td>...</td>\n",
       "      <td>...</td>\n",
       "      <td>...</td>\n",
       "    </tr>\n",
       "    <tr>\n",
       "      <th>763</th>\n",
       "      <td>1.0</td>\n",
       "      <td>12.0</td>\n",
       "      <td>14.0</td>\n",
       "      <td>NaN</td>\n",
       "      <td>NaN</td>\n",
       "      <td>10.4</td>\n",
       "      <td>0.029</td>\n",
       "      <td>30.0</td>\n",
       "      <td>0.0</td>\n",
       "    </tr>\n",
       "    <tr>\n",
       "      <th>764</th>\n",
       "      <td>-8.0</td>\n",
       "      <td>21.0</td>\n",
       "      <td>-6.0</td>\n",
       "      <td>-21.0</td>\n",
       "      <td>NaN</td>\n",
       "      <td>3.9</td>\n",
       "      <td>0.169</td>\n",
       "      <td>-36.0</td>\n",
       "      <td>0.0</td>\n",
       "    </tr>\n",
       "    <tr>\n",
       "      <th>765</th>\n",
       "      <td>3.0</td>\n",
       "      <td>-1.0</td>\n",
       "      <td>2.0</td>\n",
       "      <td>-4.0</td>\n",
       "      <td>NaN</td>\n",
       "      <td>-10.6</td>\n",
       "      <td>-0.095</td>\n",
       "      <td>3.0</td>\n",
       "      <td>0.0</td>\n",
       "    </tr>\n",
       "    <tr>\n",
       "      <th>766</th>\n",
       "      <td>-4.0</td>\n",
       "      <td>5.0</td>\n",
       "      <td>-12.0</td>\n",
       "      <td>NaN</td>\n",
       "      <td>NaN</td>\n",
       "      <td>3.9</td>\n",
       "      <td>0.104</td>\n",
       "      <td>17.0</td>\n",
       "      <td>1.0</td>\n",
       "    </tr>\n",
       "    <tr>\n",
       "      <th>767</th>\n",
       "      <td>0.0</td>\n",
       "      <td>-33.0</td>\n",
       "      <td>10.0</td>\n",
       "      <td>NaN</td>\n",
       "      <td>NaN</td>\n",
       "      <td>0.3</td>\n",
       "      <td>-0.034</td>\n",
       "      <td>-24.0</td>\n",
       "      <td>-1.0</td>\n",
       "    </tr>\n",
       "  </tbody>\n",
       "</table>\n",
       "<p>768 rows × 9 columns</p>\n",
       "</div>"
      ],
      "text/plain": [
       "     Pregnant  Glucose  Diastolic_BP  Skin_Fold  Serum_Insulin   BMI  \\\n",
       "0         NaN      NaN           NaN        NaN            NaN   NaN   \n",
       "1        -5.0    -63.0          -6.0       -6.0            NaN  -7.0   \n",
       "2         7.0     98.0          -2.0        NaN            NaN  -3.3   \n",
       "3        -7.0    -94.0           2.0        NaN            NaN   4.8   \n",
       "4        -1.0     48.0         -26.0       12.0           74.0  15.0   \n",
       "..        ...      ...           ...        ...            ...   ...   \n",
       "763       1.0     12.0          14.0        NaN            NaN  10.4   \n",
       "764      -8.0     21.0          -6.0      -21.0            NaN   3.9   \n",
       "765       3.0     -1.0           2.0       -4.0            NaN -10.6   \n",
       "766      -4.0      5.0         -12.0        NaN            NaN   3.9   \n",
       "767       0.0    -33.0          10.0        NaN            NaN   0.3   \n",
       "\n",
       "     Diabetes_Pedigree   Age  Class  \n",
       "0                  NaN   NaN    NaN  \n",
       "1               -0.276 -19.0   -1.0  \n",
       "2                0.321   1.0    1.0  \n",
       "3               -0.505 -11.0   -1.0  \n",
       "4                2.121  12.0    1.0  \n",
       "..                 ...   ...    ...  \n",
       "763              0.029  30.0    0.0  \n",
       "764              0.169 -36.0    0.0  \n",
       "765             -0.095   3.0    0.0  \n",
       "766              0.104  17.0    1.0  \n",
       "767             -0.034 -24.0   -1.0  \n",
       "\n",
       "[768 rows x 9 columns]"
      ]
     },
     "execution_count": 44,
     "metadata": {},
     "output_type": "execute_result"
    }
   ],
   "source": [
    "df.diff()"
   ]
  },
  {
   "cell_type": "code",
   "execution_count": 45,
   "metadata": {
    "colab": {
     "base_uri": "https://localhost:8080/",
     "height": 331
    },
    "executionInfo": {
     "elapsed": 9,
     "status": "ok",
     "timestamp": 1719519701200,
     "user": {
      "displayName": "Juan F Pérez",
      "userId": "13439628769322192552"
     },
     "user_tz": 300
    },
    "id": "8M2IpoBUi9xT",
    "outputId": "8dbe12e2-e490-4492-c901-2bdca0ea8130"
   },
   "outputs": [
    {
     "data": {
      "text/html": [
       "<div>\n",
       "<style scoped>\n",
       "    .dataframe tbody tr th:only-of-type {\n",
       "        vertical-align: middle;\n",
       "    }\n",
       "\n",
       "    .dataframe tbody tr th {\n",
       "        vertical-align: top;\n",
       "    }\n",
       "\n",
       "    .dataframe thead th {\n",
       "        text-align: right;\n",
       "    }\n",
       "</style>\n",
       "<table border=\"1\" class=\"dataframe\">\n",
       "  <thead>\n",
       "    <tr style=\"text-align: right;\">\n",
       "      <th></th>\n",
       "      <th>Pregnant</th>\n",
       "      <th>Glucose</th>\n",
       "      <th>Diastolic_BP</th>\n",
       "      <th>Skin_Fold</th>\n",
       "      <th>Serum_Insulin</th>\n",
       "      <th>BMI</th>\n",
       "      <th>Diabetes_Pedigree</th>\n",
       "      <th>Age</th>\n",
       "      <th>Class</th>\n",
       "    </tr>\n",
       "  </thead>\n",
       "  <tbody>\n",
       "    <tr>\n",
       "      <th>Pregnant</th>\n",
       "      <td>1.000000</td>\n",
       "      <td>0.128135</td>\n",
       "      <td>0.214178</td>\n",
       "      <td>0.100239</td>\n",
       "      <td>0.082171</td>\n",
       "      <td>0.021719</td>\n",
       "      <td>-0.033523</td>\n",
       "      <td>0.544341</td>\n",
       "      <td>0.221898</td>\n",
       "    </tr>\n",
       "    <tr>\n",
       "      <th>Glucose</th>\n",
       "      <td>0.128135</td>\n",
       "      <td>1.000000</td>\n",
       "      <td>0.223192</td>\n",
       "      <td>0.228043</td>\n",
       "      <td>0.581186</td>\n",
       "      <td>0.232771</td>\n",
       "      <td>0.137246</td>\n",
       "      <td>0.267136</td>\n",
       "      <td>0.494650</td>\n",
       "    </tr>\n",
       "    <tr>\n",
       "      <th>Diastolic_BP</th>\n",
       "      <td>0.214178</td>\n",
       "      <td>0.223192</td>\n",
       "      <td>1.000000</td>\n",
       "      <td>0.226839</td>\n",
       "      <td>0.098272</td>\n",
       "      <td>0.289230</td>\n",
       "      <td>-0.002805</td>\n",
       "      <td>0.330107</td>\n",
       "      <td>0.170589</td>\n",
       "    </tr>\n",
       "    <tr>\n",
       "      <th>Skin_Fold</th>\n",
       "      <td>0.100239</td>\n",
       "      <td>0.228043</td>\n",
       "      <td>0.226839</td>\n",
       "      <td>1.000000</td>\n",
       "      <td>0.184888</td>\n",
       "      <td>0.648214</td>\n",
       "      <td>0.115016</td>\n",
       "      <td>0.166816</td>\n",
       "      <td>0.259491</td>\n",
       "    </tr>\n",
       "    <tr>\n",
       "      <th>Serum_Insulin</th>\n",
       "      <td>0.082171</td>\n",
       "      <td>0.581186</td>\n",
       "      <td>0.098272</td>\n",
       "      <td>0.184888</td>\n",
       "      <td>1.000000</td>\n",
       "      <td>0.228050</td>\n",
       "      <td>0.130395</td>\n",
       "      <td>0.220261</td>\n",
       "      <td>0.303454</td>\n",
       "    </tr>\n",
       "    <tr>\n",
       "      <th>BMI</th>\n",
       "      <td>0.021719</td>\n",
       "      <td>0.232771</td>\n",
       "      <td>0.289230</td>\n",
       "      <td>0.648214</td>\n",
       "      <td>0.228050</td>\n",
       "      <td>1.000000</td>\n",
       "      <td>0.155382</td>\n",
       "      <td>0.025841</td>\n",
       "      <td>0.313680</td>\n",
       "    </tr>\n",
       "    <tr>\n",
       "      <th>Diabetes_Pedigree</th>\n",
       "      <td>-0.033523</td>\n",
       "      <td>0.137246</td>\n",
       "      <td>-0.002805</td>\n",
       "      <td>0.115016</td>\n",
       "      <td>0.130395</td>\n",
       "      <td>0.155382</td>\n",
       "      <td>1.000000</td>\n",
       "      <td>0.033561</td>\n",
       "      <td>0.173844</td>\n",
       "    </tr>\n",
       "    <tr>\n",
       "      <th>Age</th>\n",
       "      <td>0.544341</td>\n",
       "      <td>0.267136</td>\n",
       "      <td>0.330107</td>\n",
       "      <td>0.166816</td>\n",
       "      <td>0.220261</td>\n",
       "      <td>0.025841</td>\n",
       "      <td>0.033561</td>\n",
       "      <td>1.000000</td>\n",
       "      <td>0.238356</td>\n",
       "    </tr>\n",
       "    <tr>\n",
       "      <th>Class</th>\n",
       "      <td>0.221898</td>\n",
       "      <td>0.494650</td>\n",
       "      <td>0.170589</td>\n",
       "      <td>0.259491</td>\n",
       "      <td>0.303454</td>\n",
       "      <td>0.313680</td>\n",
       "      <td>0.173844</td>\n",
       "      <td>0.238356</td>\n",
       "      <td>1.000000</td>\n",
       "    </tr>\n",
       "  </tbody>\n",
       "</table>\n",
       "</div>"
      ],
      "text/plain": [
       "                   Pregnant   Glucose  Diastolic_BP  Skin_Fold  Serum_Insulin  \\\n",
       "Pregnant           1.000000  0.128135      0.214178   0.100239       0.082171   \n",
       "Glucose            0.128135  1.000000      0.223192   0.228043       0.581186   \n",
       "Diastolic_BP       0.214178  0.223192      1.000000   0.226839       0.098272   \n",
       "Skin_Fold          0.100239  0.228043      0.226839   1.000000       0.184888   \n",
       "Serum_Insulin      0.082171  0.581186      0.098272   0.184888       1.000000   \n",
       "BMI                0.021719  0.232771      0.289230   0.648214       0.228050   \n",
       "Diabetes_Pedigree -0.033523  0.137246     -0.002805   0.115016       0.130395   \n",
       "Age                0.544341  0.267136      0.330107   0.166816       0.220261   \n",
       "Class              0.221898  0.494650      0.170589   0.259491       0.303454   \n",
       "\n",
       "                        BMI  Diabetes_Pedigree       Age     Class  \n",
       "Pregnant           0.021719          -0.033523  0.544341  0.221898  \n",
       "Glucose            0.232771           0.137246  0.267136  0.494650  \n",
       "Diastolic_BP       0.289230          -0.002805  0.330107  0.170589  \n",
       "Skin_Fold          0.648214           0.115016  0.166816  0.259491  \n",
       "Serum_Insulin      0.228050           0.130395  0.220261  0.303454  \n",
       "BMI                1.000000           0.155382  0.025841  0.313680  \n",
       "Diabetes_Pedigree  0.155382           1.000000  0.033561  0.173844  \n",
       "Age                0.025841           0.033561  1.000000  0.238356  \n",
       "Class              0.313680           0.173844  0.238356  1.000000  "
      ]
     },
     "execution_count": 45,
     "metadata": {},
     "output_type": "execute_result"
    }
   ],
   "source": [
    "df.corr()"
   ]
  },
  {
   "cell_type": "code",
   "execution_count": 46,
   "metadata": {
    "colab": {
     "base_uri": "https://localhost:8080/",
     "height": 331
    },
    "executionInfo": {
     "elapsed": 28,
     "status": "ok",
     "timestamp": 1719519701819,
     "user": {
      "displayName": "Juan F Pérez",
      "userId": "13439628769322192552"
     },
     "user_tz": 300
    },
    "id": "pdI4YbUEjKji",
    "outputId": "8bfadb19-f958-4986-f966-2b2ad1080b00"
   },
   "outputs": [
    {
     "data": {
      "text/html": [
       "<div>\n",
       "<style scoped>\n",
       "    .dataframe tbody tr th:only-of-type {\n",
       "        vertical-align: middle;\n",
       "    }\n",
       "\n",
       "    .dataframe tbody tr th {\n",
       "        vertical-align: top;\n",
       "    }\n",
       "\n",
       "    .dataframe thead th {\n",
       "        text-align: right;\n",
       "    }\n",
       "</style>\n",
       "<table border=\"1\" class=\"dataframe\">\n",
       "  <thead>\n",
       "    <tr style=\"text-align: right;\">\n",
       "      <th></th>\n",
       "      <th>Pregnant</th>\n",
       "      <th>Glucose</th>\n",
       "      <th>Diastolic_BP</th>\n",
       "      <th>Skin_Fold</th>\n",
       "      <th>Serum_Insulin</th>\n",
       "      <th>BMI</th>\n",
       "      <th>Diabetes_Pedigree</th>\n",
       "      <th>Age</th>\n",
       "      <th>Class</th>\n",
       "    </tr>\n",
       "  </thead>\n",
       "  <tbody>\n",
       "    <tr>\n",
       "      <th>Pregnant</th>\n",
       "      <td>11.354056</td>\n",
       "      <td>13.204205</td>\n",
       "      <td>8.905669</td>\n",
       "      <td>3.491672</td>\n",
       "      <td>31.325829</td>\n",
       "      <td>0.506853</td>\n",
       "      <td>-0.037426</td>\n",
       "      <td>21.570620</td>\n",
       "      <td>0.356618</td>\n",
       "    </tr>\n",
       "    <tr>\n",
       "      <th>Glucose</th>\n",
       "      <td>13.204205</td>\n",
       "      <td>932.425376</td>\n",
       "      <td>84.811985</td>\n",
       "      <td>74.025750</td>\n",
       "      <td>2127.014566</td>\n",
       "      <td>49.355133</td>\n",
       "      <td>1.391220</td>\n",
       "      <td>96.027349</td>\n",
       "      <td>7.202521</td>\n",
       "    </tr>\n",
       "    <tr>\n",
       "      <th>Diastolic_BP</th>\n",
       "      <td>8.905669</td>\n",
       "      <td>84.811985</td>\n",
       "      <td>153.317842</td>\n",
       "      <td>29.240422</td>\n",
       "      <td>145.553584</td>\n",
       "      <td>24.644988</td>\n",
       "      <td>-0.011605</td>\n",
       "      <td>48.383369</td>\n",
       "      <td>1.003953</td>\n",
       "    </tr>\n",
       "    <tr>\n",
       "      <th>Skin_Fold</th>\n",
       "      <td>3.491672</td>\n",
       "      <td>74.025750</td>\n",
       "      <td>29.240422</td>\n",
       "      <td>109.767160</td>\n",
       "      <td>230.676780</td>\n",
       "      <td>46.725661</td>\n",
       "      <td>0.417708</td>\n",
       "      <td>18.777162</td>\n",
       "      <td>1.282193</td>\n",
       "    </tr>\n",
       "    <tr>\n",
       "      <th>Serum_Insulin</th>\n",
       "      <td>31.325829</td>\n",
       "      <td>2127.014566</td>\n",
       "      <td>145.553584</td>\n",
       "      <td>230.676780</td>\n",
       "      <td>14107.703775</td>\n",
       "      <td>190.422831</td>\n",
       "      <td>5.422691</td>\n",
       "      <td>266.821935</td>\n",
       "      <td>16.968781</td>\n",
       "    </tr>\n",
       "    <tr>\n",
       "      <th>BMI</th>\n",
       "      <td>0.506853</td>\n",
       "      <td>49.355133</td>\n",
       "      <td>24.644988</td>\n",
       "      <td>46.725661</td>\n",
       "      <td>190.422831</td>\n",
       "      <td>47.955463</td>\n",
       "      <td>0.354519</td>\n",
       "      <td>2.093334</td>\n",
       "      <td>1.037718</td>\n",
       "    </tr>\n",
       "    <tr>\n",
       "      <th>Diabetes_Pedigree</th>\n",
       "      <td>-0.037426</td>\n",
       "      <td>1.391220</td>\n",
       "      <td>-0.011605</td>\n",
       "      <td>0.417708</td>\n",
       "      <td>5.422691</td>\n",
       "      <td>0.354519</td>\n",
       "      <td>0.109779</td>\n",
       "      <td>0.130772</td>\n",
       "      <td>0.027472</td>\n",
       "    </tr>\n",
       "    <tr>\n",
       "      <th>Age</th>\n",
       "      <td>21.570620</td>\n",
       "      <td>96.027349</td>\n",
       "      <td>48.383369</td>\n",
       "      <td>18.777162</td>\n",
       "      <td>266.821935</td>\n",
       "      <td>2.093334</td>\n",
       "      <td>0.130772</td>\n",
       "      <td>138.303046</td>\n",
       "      <td>1.336953</td>\n",
       "    </tr>\n",
       "    <tr>\n",
       "      <th>Class</th>\n",
       "      <td>0.356618</td>\n",
       "      <td>7.202521</td>\n",
       "      <td>1.003953</td>\n",
       "      <td>1.282193</td>\n",
       "      <td>16.968781</td>\n",
       "      <td>1.037718</td>\n",
       "      <td>0.027472</td>\n",
       "      <td>1.336953</td>\n",
       "      <td>0.227483</td>\n",
       "    </tr>\n",
       "  </tbody>\n",
       "</table>\n",
       "</div>"
      ],
      "text/plain": [
       "                    Pregnant      Glucose  Diastolic_BP   Skin_Fold  \\\n",
       "Pregnant           11.354056    13.204205      8.905669    3.491672   \n",
       "Glucose            13.204205   932.425376     84.811985   74.025750   \n",
       "Diastolic_BP        8.905669    84.811985    153.317842   29.240422   \n",
       "Skin_Fold           3.491672    74.025750     29.240422  109.767160   \n",
       "Serum_Insulin      31.325829  2127.014566    145.553584  230.676780   \n",
       "BMI                 0.506853    49.355133     24.644988   46.725661   \n",
       "Diabetes_Pedigree  -0.037426     1.391220     -0.011605    0.417708   \n",
       "Age                21.570620    96.027349     48.383369   18.777162   \n",
       "Class               0.356618     7.202521      1.003953    1.282193   \n",
       "\n",
       "                   Serum_Insulin         BMI  Diabetes_Pedigree         Age  \\\n",
       "Pregnant               31.325829    0.506853          -0.037426   21.570620   \n",
       "Glucose              2127.014566   49.355133           1.391220   96.027349   \n",
       "Diastolic_BP          145.553584   24.644988          -0.011605   48.383369   \n",
       "Skin_Fold             230.676780   46.725661           0.417708   18.777162   \n",
       "Serum_Insulin       14107.703775  190.422831           5.422691  266.821935   \n",
       "BMI                   190.422831   47.955463           0.354519    2.093334   \n",
       "Diabetes_Pedigree       5.422691    0.354519           0.109779    0.130772   \n",
       "Age                   266.821935    2.093334           0.130772  138.303046   \n",
       "Class                  16.968781    1.037718           0.027472    1.336953   \n",
       "\n",
       "                       Class  \n",
       "Pregnant            0.356618  \n",
       "Glucose             7.202521  \n",
       "Diastolic_BP        1.003953  \n",
       "Skin_Fold           1.282193  \n",
       "Serum_Insulin      16.968781  \n",
       "BMI                 1.037718  \n",
       "Diabetes_Pedigree   0.027472  \n",
       "Age                 1.336953  \n",
       "Class               0.227483  "
      ]
     },
     "execution_count": 46,
     "metadata": {},
     "output_type": "execute_result"
    }
   ],
   "source": [
    "df.cov()"
   ]
  },
  {
   "cell_type": "code",
   "execution_count": 47,
   "metadata": {
    "colab": {
     "base_uri": "https://localhost:8080/"
    },
    "executionInfo": {
     "elapsed": 27,
     "status": "ok",
     "timestamp": 1719519701819,
     "user": {
      "displayName": "Juan F Pérez",
      "userId": "13439628769322192552"
     },
     "user_tz": 300
    },
    "id": "BE9mZIc2jNy5",
    "outputId": "6b58ac3f-da88-44e9-b58a-7a1a68caf0fd"
   },
   "outputs": [
    {
     "data": {
      "text/plain": [
       "np.float64(0.2671355547312526)"
      ]
     },
     "execution_count": 47,
     "metadata": {},
     "output_type": "execute_result"
    }
   ],
   "source": [
    "df['Glucose'].corr(df['Age'])"
   ]
  },
  {
   "cell_type": "code",
   "execution_count": 48,
   "metadata": {
    "colab": {
     "base_uri": "https://localhost:8080/"
    },
    "executionInfo": {
     "elapsed": 1142,
     "status": "ok",
     "timestamp": 1719525957613,
     "user": {
      "displayName": "Juan F Pérez",
      "userId": "13439628769322192552"
     },
     "user_tz": 300
    },
    "id": "u7Fhy5BSjcF4",
    "outputId": "2198ea66-d9c1-4a16-98d1-b46d77c83e36"
   },
   "outputs": [
    {
     "data": {
      "text/plain": [
       "Pregnant            -0.033523\n",
       "Glucose              0.137246\n",
       "Diastolic_BP        -0.002805\n",
       "Skin_Fold            0.115016\n",
       "Serum_Insulin        0.130395\n",
       "BMI                  0.155382\n",
       "Diabetes_Pedigree    1.000000\n",
       "Age                  0.033561\n",
       "Class                0.173844\n",
       "dtype: float64"
      ]
     },
     "execution_count": 48,
     "metadata": {},
     "output_type": "execute_result"
    }
   ],
   "source": [
    "df.corrwith(df['Diabetes_Pedigree'])"
   ]
  },
  {
   "cell_type": "markdown",
   "metadata": {
    "id": "7m4xj3gSj5pH"
   },
   "source": [
    "### Valores y conteos"
   ]
  },
  {
   "cell_type": "code",
   "execution_count": 49,
   "metadata": {
    "colab": {
     "base_uri": "https://localhost:8080/"
    },
    "executionInfo": {
     "elapsed": 23,
     "status": "ok",
     "timestamp": 1719519701819,
     "user": {
      "displayName": "Juan F Pérez",
      "userId": "13439628769322192552"
     },
     "user_tz": 300
    },
    "id": "bxM4Rer2j9EG",
    "outputId": "ed00fced-ef6d-42c3-d0f8-c6a0edd92509"
   },
   "outputs": [
    {
     "data": {
      "text/plain": [
       "Pregnant             768\n",
       "Glucose              763\n",
       "Diastolic_BP         733\n",
       "Skin_Fold            541\n",
       "Serum_Insulin        394\n",
       "BMI                  757\n",
       "Diabetes_Pedigree    768\n",
       "Age                  768\n",
       "Class                768\n",
       "dtype: int64"
      ]
     },
     "execution_count": 49,
     "metadata": {},
     "output_type": "execute_result"
    }
   ],
   "source": [
    "df.count()"
   ]
  },
  {
   "cell_type": "code",
   "execution_count": 50,
   "metadata": {
    "colab": {
     "base_uri": "https://localhost:8080/"
    },
    "executionInfo": {
     "elapsed": 19,
     "status": "ok",
     "timestamp": 1719519701819,
     "user": {
      "displayName": "Juan F Pérez",
      "userId": "13439628769322192552"
     },
     "user_tz": 300
    },
    "id": "01wuriAWj_Ji",
    "outputId": "97caf69e-5077-49ad-f6d0-4b9f6f2d4f11"
   },
   "outputs": [
    {
     "data": {
      "text/plain": [
       "array([1, 0])"
      ]
     },
     "execution_count": 50,
     "metadata": {},
     "output_type": "execute_result"
    }
   ],
   "source": [
    "df['Class'].unique() # no disponible para DataFrame"
   ]
  },
  {
   "cell_type": "code",
   "execution_count": 51,
   "metadata": {
    "colab": {
     "base_uri": "https://localhost:8080/"
    },
    "executionInfo": {
     "elapsed": 16,
     "status": "ok",
     "timestamp": 1719519701819,
     "user": {
      "displayName": "Juan F Pérez",
      "userId": "13439628769322192552"
     },
     "user_tz": 300
    },
    "id": "ZKjbzho_kMkd",
    "outputId": "958a2fd7-b6e8-4dbf-cbb1-013fa837c224"
   },
   "outputs": [
    {
     "data": {
      "text/plain": [
       "Pregnant  Glucose  Diastolic_BP  Skin_Fold  Serum_Insulin  BMI   Diabetes_Pedigree  Age  Class\n",
       "0         74.0     52.0          10.0       36.0           27.8  0.269              22   0        1\n",
       "          78.0     88.0          29.0       40.0           36.9  0.434              21   0        1\n",
       "          84.0     64.0          22.0       66.0           35.8  0.545              21   0        1\n",
       "                   82.0          31.0       125.0          38.2  0.233              23   0        1\n",
       "          91.0     68.0          32.0       210.0          39.9  0.381              25   0        1\n",
       "                                                                                                 ..\n",
       "13        152.0    90.0          33.0       29.0           26.8  0.731              43   1        1\n",
       "          153.0    88.0          37.0       140.0          40.6  1.174              39   0        1\n",
       "14        100.0    78.0          25.0       184.0          36.6  0.412              46   1        1\n",
       "15        136.0    70.0          32.0       110.0          37.1  0.153              43   1        1\n",
       "17        163.0    72.0          41.0       114.0          40.9  0.817              47   1        1\n",
       "Name: count, Length: 392, dtype: int64"
      ]
     },
     "execution_count": 51,
     "metadata": {},
     "output_type": "execute_result"
    }
   ],
   "source": [
    "df.value_counts()"
   ]
  },
  {
   "cell_type": "code",
   "execution_count": 52,
   "metadata": {
    "colab": {
     "base_uri": "https://localhost:8080/"
    },
    "executionInfo": {
     "elapsed": 13,
     "status": "ok",
     "timestamp": 1719519701819,
     "user": {
      "displayName": "Juan F Pérez",
      "userId": "13439628769322192552"
     },
     "user_tz": 300
    },
    "id": "_IoL-4_KkTIx",
    "outputId": "ec4aa82e-a12f-4570-b81f-ebec7d372123"
   },
   "outputs": [
    {
     "data": {
      "text/plain": [
       "Class\n",
       "0    500\n",
       "1    268\n",
       "Name: count, dtype: int64"
      ]
     },
     "execution_count": 52,
     "metadata": {},
     "output_type": "execute_result"
    }
   ],
   "source": [
    "df['Class'].value_counts()"
   ]
  },
  {
   "cell_type": "markdown",
   "metadata": {
    "id": "GrymZugVk75M"
   },
   "source": [
    "### Duplicados"
   ]
  },
  {
   "cell_type": "code",
   "execution_count": 53,
   "metadata": {
    "colab": {
     "base_uri": "https://localhost:8080/"
    },
    "executionInfo": {
     "elapsed": 10,
     "status": "ok",
     "timestamp": 1719519701819,
     "user": {
      "displayName": "Juan F Pérez",
      "userId": "13439628769322192552"
     },
     "user_tz": 300
    },
    "id": "WapGvEU_kgNs",
    "outputId": "ae6a75d1-156e-49df-9230-0fcb628a2ae9"
   },
   "outputs": [
    {
     "data": {
      "text/plain": [
       "0      False\n",
       "1      False\n",
       "2      False\n",
       "3      False\n",
       "4      False\n",
       "       ...  \n",
       "763    False\n",
       "764    False\n",
       "765    False\n",
       "766    False\n",
       "767    False\n",
       "Length: 768, dtype: bool"
      ]
     },
     "execution_count": 53,
     "metadata": {},
     "output_type": "execute_result"
    }
   ],
   "source": [
    "df.duplicated()"
   ]
  },
  {
   "cell_type": "code",
   "execution_count": 54,
   "metadata": {
    "colab": {
     "base_uri": "https://localhost:8080/"
    },
    "executionInfo": {
     "elapsed": 8,
     "status": "ok",
     "timestamp": 1719519701819,
     "user": {
      "displayName": "Juan F Pérez",
      "userId": "13439628769322192552"
     },
     "user_tz": 300
    },
    "id": "XIXaOJN_lJ_3",
    "outputId": "841196d8-a87a-420a-f9f3-81069ab613ed"
   },
   "outputs": [
    {
     "data": {
      "text/plain": [
       "(768, 9)"
      ]
     },
     "execution_count": 54,
     "metadata": {},
     "output_type": "execute_result"
    }
   ],
   "source": [
    "df.drop_duplicates().shape"
   ]
  },
  {
   "cell_type": "markdown",
   "metadata": {
    "id": "BJOUc6Frxzsv"
   },
   "source": [
    "### Transformación"
   ]
  },
  {
   "cell_type": "code",
   "execution_count": 55,
   "metadata": {
    "colab": {
     "base_uri": "https://localhost:8080/",
     "height": 206
    },
    "executionInfo": {
     "elapsed": 404,
     "status": "ok",
     "timestamp": 1719519702217,
     "user": {
      "displayName": "Juan F Pérez",
      "userId": "13439628769322192552"
     },
     "user_tz": 300
    },
    "id": "WsG2pviQwxLk",
    "outputId": "c4d7e932-f3d9-4c78-8dec-3c76f92600e1"
   },
   "outputs": [
    {
     "data": {
      "text/html": [
       "<div>\n",
       "<style scoped>\n",
       "    .dataframe tbody tr th:only-of-type {\n",
       "        vertical-align: middle;\n",
       "    }\n",
       "\n",
       "    .dataframe tbody tr th {\n",
       "        vertical-align: top;\n",
       "    }\n",
       "\n",
       "    .dataframe thead th {\n",
       "        text-align: right;\n",
       "    }\n",
       "</style>\n",
       "<table border=\"1\" class=\"dataframe\">\n",
       "  <thead>\n",
       "    <tr style=\"text-align: right;\">\n",
       "      <th></th>\n",
       "      <th>Pregnant</th>\n",
       "      <th>Glucose</th>\n",
       "      <th>Diastolic_BP</th>\n",
       "      <th>Skin_Fold</th>\n",
       "      <th>Serum_Insulin</th>\n",
       "      <th>BMI</th>\n",
       "      <th>Diabetes_Pedigree</th>\n",
       "      <th>Age</th>\n",
       "      <th>Class</th>\n",
       "    </tr>\n",
       "  </thead>\n",
       "  <tbody>\n",
       "    <tr>\n",
       "      <th>0</th>\n",
       "      <td>6</td>\n",
       "      <td>148.0</td>\n",
       "      <td>72.0</td>\n",
       "      <td>35.0</td>\n",
       "      <td>NaN</td>\n",
       "      <td>33.6</td>\n",
       "      <td>0.627</td>\n",
       "      <td>50</td>\n",
       "      <td>1</td>\n",
       "    </tr>\n",
       "    <tr>\n",
       "      <th>1</th>\n",
       "      <td>1</td>\n",
       "      <td>85.0</td>\n",
       "      <td>66.0</td>\n",
       "      <td>29.0</td>\n",
       "      <td>NaN</td>\n",
       "      <td>26.6</td>\n",
       "      <td>0.351</td>\n",
       "      <td>31</td>\n",
       "      <td>0</td>\n",
       "    </tr>\n",
       "    <tr>\n",
       "      <th>2</th>\n",
       "      <td>8</td>\n",
       "      <td>183.0</td>\n",
       "      <td>64.0</td>\n",
       "      <td>NaN</td>\n",
       "      <td>NaN</td>\n",
       "      <td>23.3</td>\n",
       "      <td>0.672</td>\n",
       "      <td>32</td>\n",
       "      <td>1</td>\n",
       "    </tr>\n",
       "    <tr>\n",
       "      <th>3</th>\n",
       "      <td>1</td>\n",
       "      <td>89.0</td>\n",
       "      <td>66.0</td>\n",
       "      <td>23.0</td>\n",
       "      <td>94.0</td>\n",
       "      <td>28.1</td>\n",
       "      <td>0.167</td>\n",
       "      <td>21</td>\n",
       "      <td>0</td>\n",
       "    </tr>\n",
       "    <tr>\n",
       "      <th>4</th>\n",
       "      <td>0</td>\n",
       "      <td>137.0</td>\n",
       "      <td>40.0</td>\n",
       "      <td>35.0</td>\n",
       "      <td>168.0</td>\n",
       "      <td>43.1</td>\n",
       "      <td>2.288</td>\n",
       "      <td>33</td>\n",
       "      <td>1</td>\n",
       "    </tr>\n",
       "  </tbody>\n",
       "</table>\n",
       "</div>"
      ],
      "text/plain": [
       "   Pregnant  Glucose  Diastolic_BP  Skin_Fold  Serum_Insulin   BMI  \\\n",
       "0         6    148.0          72.0       35.0            NaN  33.6   \n",
       "1         1     85.0          66.0       29.0            NaN  26.6   \n",
       "2         8    183.0          64.0        NaN            NaN  23.3   \n",
       "3         1     89.0          66.0       23.0           94.0  28.1   \n",
       "4         0    137.0          40.0       35.0          168.0  43.1   \n",
       "\n",
       "   Diabetes_Pedigree  Age  Class  \n",
       "0              0.627   50      1  \n",
       "1              0.351   31      0  \n",
       "2              0.672   32      1  \n",
       "3              0.167   21      0  \n",
       "4              2.288   33      1  "
      ]
     },
     "execution_count": 55,
     "metadata": {},
     "output_type": "execute_result"
    }
   ],
   "source": [
    "df.head()"
   ]
  },
  {
   "cell_type": "code",
   "execution_count": 56,
   "metadata": {
    "executionInfo": {
     "elapsed": 1187,
     "status": "ok",
     "timestamp": 1719526475836,
     "user": {
      "displayName": "Juan F Pérez",
      "userId": "13439628769322192552"
     },
     "user_tz": 300
    },
    "id": "fjKshLzWmRT0"
   },
   "outputs": [],
   "source": [
    "class_to_label={\n",
    "    0:'N',\n",
    "    1:'S'\n",
    "}"
   ]
  },
  {
   "cell_type": "code",
   "execution_count": 57,
   "metadata": {
    "executionInfo": {
     "elapsed": 434,
     "status": "ok",
     "timestamp": 1719526628927,
     "user": {
      "displayName": "Juan F Pérez",
      "userId": "13439628769322192552"
     },
     "user_tz": 300
    },
    "id": "PBn25bZSxfQg"
   },
   "outputs": [],
   "source": [
    "df2 = df.copy()"
   ]
  },
  {
   "cell_type": "code",
   "execution_count": 58,
   "metadata": {
    "executionInfo": {
     "elapsed": 9,
     "status": "ok",
     "timestamp": 1719526479289,
     "user": {
      "displayName": "Juan F Pérez",
      "userId": "13439628769322192552"
     },
     "user_tz": 300
    },
    "id": "V-9iThpMm61Z"
   },
   "outputs": [],
   "source": [
    "df['class_label'] = df['Class'].map(class_to_label)"
   ]
  },
  {
   "cell_type": "code",
   "execution_count": 59,
   "metadata": {
    "colab": {
     "base_uri": "https://localhost:8080/",
     "height": 206
    },
    "executionInfo": {
     "elapsed": 24,
     "status": "ok",
     "timestamp": 1719526484527,
     "user": {
      "displayName": "Juan F Pérez",
      "userId": "13439628769322192552"
     },
     "user_tz": 300
    },
    "id": "09b9DejMnHPJ",
    "outputId": "ffa24063-6f89-4ebd-82de-b184b76a7033"
   },
   "outputs": [
    {
     "data": {
      "text/html": [
       "<div>\n",
       "<style scoped>\n",
       "    .dataframe tbody tr th:only-of-type {\n",
       "        vertical-align: middle;\n",
       "    }\n",
       "\n",
       "    .dataframe tbody tr th {\n",
       "        vertical-align: top;\n",
       "    }\n",
       "\n",
       "    .dataframe thead th {\n",
       "        text-align: right;\n",
       "    }\n",
       "</style>\n",
       "<table border=\"1\" class=\"dataframe\">\n",
       "  <thead>\n",
       "    <tr style=\"text-align: right;\">\n",
       "      <th></th>\n",
       "      <th>Pregnant</th>\n",
       "      <th>Glucose</th>\n",
       "      <th>Diastolic_BP</th>\n",
       "      <th>Skin_Fold</th>\n",
       "      <th>Serum_Insulin</th>\n",
       "      <th>BMI</th>\n",
       "      <th>Diabetes_Pedigree</th>\n",
       "      <th>Age</th>\n",
       "      <th>Class</th>\n",
       "      <th>class_label</th>\n",
       "    </tr>\n",
       "  </thead>\n",
       "  <tbody>\n",
       "    <tr>\n",
       "      <th>0</th>\n",
       "      <td>6</td>\n",
       "      <td>148.0</td>\n",
       "      <td>72.0</td>\n",
       "      <td>35.0</td>\n",
       "      <td>NaN</td>\n",
       "      <td>33.6</td>\n",
       "      <td>0.627</td>\n",
       "      <td>50</td>\n",
       "      <td>1</td>\n",
       "      <td>S</td>\n",
       "    </tr>\n",
       "    <tr>\n",
       "      <th>1</th>\n",
       "      <td>1</td>\n",
       "      <td>85.0</td>\n",
       "      <td>66.0</td>\n",
       "      <td>29.0</td>\n",
       "      <td>NaN</td>\n",
       "      <td>26.6</td>\n",
       "      <td>0.351</td>\n",
       "      <td>31</td>\n",
       "      <td>0</td>\n",
       "      <td>N</td>\n",
       "    </tr>\n",
       "    <tr>\n",
       "      <th>2</th>\n",
       "      <td>8</td>\n",
       "      <td>183.0</td>\n",
       "      <td>64.0</td>\n",
       "      <td>NaN</td>\n",
       "      <td>NaN</td>\n",
       "      <td>23.3</td>\n",
       "      <td>0.672</td>\n",
       "      <td>32</td>\n",
       "      <td>1</td>\n",
       "      <td>S</td>\n",
       "    </tr>\n",
       "    <tr>\n",
       "      <th>3</th>\n",
       "      <td>1</td>\n",
       "      <td>89.0</td>\n",
       "      <td>66.0</td>\n",
       "      <td>23.0</td>\n",
       "      <td>94.0</td>\n",
       "      <td>28.1</td>\n",
       "      <td>0.167</td>\n",
       "      <td>21</td>\n",
       "      <td>0</td>\n",
       "      <td>N</td>\n",
       "    </tr>\n",
       "    <tr>\n",
       "      <th>4</th>\n",
       "      <td>0</td>\n",
       "      <td>137.0</td>\n",
       "      <td>40.0</td>\n",
       "      <td>35.0</td>\n",
       "      <td>168.0</td>\n",
       "      <td>43.1</td>\n",
       "      <td>2.288</td>\n",
       "      <td>33</td>\n",
       "      <td>1</td>\n",
       "      <td>S</td>\n",
       "    </tr>\n",
       "  </tbody>\n",
       "</table>\n",
       "</div>"
      ],
      "text/plain": [
       "   Pregnant  Glucose  Diastolic_BP  Skin_Fold  Serum_Insulin   BMI  \\\n",
       "0         6    148.0          72.0       35.0            NaN  33.6   \n",
       "1         1     85.0          66.0       29.0            NaN  26.6   \n",
       "2         8    183.0          64.0        NaN            NaN  23.3   \n",
       "3         1     89.0          66.0       23.0           94.0  28.1   \n",
       "4         0    137.0          40.0       35.0          168.0  43.1   \n",
       "\n",
       "   Diabetes_Pedigree  Age  Class class_label  \n",
       "0              0.627   50      1           S  \n",
       "1              0.351   31      0           N  \n",
       "2              0.672   32      1           S  \n",
       "3              0.167   21      0           N  \n",
       "4              2.288   33      1           S  "
      ]
     },
     "execution_count": 59,
     "metadata": {},
     "output_type": "execute_result"
    }
   ],
   "source": [
    "df.head()"
   ]
  },
  {
   "cell_type": "code",
   "execution_count": 60,
   "metadata": {
    "executionInfo": {
     "elapsed": 1579,
     "status": "ok",
     "timestamp": 1719526548053,
     "user": {
      "displayName": "Juan F Pérez",
      "userId": "13439628769322192552"
     },
     "user_tz": 300
    },
    "id": "BAx06zhiw6AB"
   },
   "outputs": [],
   "source": [
    "def class_label(x):\n",
    "  if x==0:\n",
    "    return 'N'\n",
    "  else:\n",
    "    return 'S'"
   ]
  },
  {
   "cell_type": "code",
   "execution_count": 61,
   "metadata": {
    "colab": {
     "base_uri": "https://localhost:8080/"
    },
    "executionInfo": {
     "elapsed": 12,
     "status": "ok",
     "timestamp": 1719526549803,
     "user": {
      "displayName": "Juan F Pérez",
      "userId": "13439628769322192552"
     },
     "user_tz": 300
    },
    "id": "5Qzm_zqFxw-E",
    "outputId": "f6a0081f-80ef-445a-99e8-9ca522e8f4c5"
   },
   "outputs": [
    {
     "data": {
      "text/plain": [
       "0      S\n",
       "1      N\n",
       "2      S\n",
       "3      N\n",
       "4      S\n",
       "      ..\n",
       "763    N\n",
       "764    N\n",
       "765    N\n",
       "766    S\n",
       "767    N\n",
       "Name: Class, Length: 768, dtype: object"
      ]
     },
     "execution_count": 61,
     "metadata": {},
     "output_type": "execute_result"
    }
   ],
   "source": [
    "df['Class'].map(class_label)"
   ]
  },
  {
   "cell_type": "markdown",
   "metadata": {
    "id": "ncG50XN2H_CE"
   },
   "source": [
    "Transformaciones sobre los índices"
   ]
  },
  {
   "cell_type": "code",
   "execution_count": 62,
   "metadata": {
    "executionInfo": {
     "elapsed": 407,
     "status": "ok",
     "timestamp": 1719526677069,
     "user": {
      "displayName": "Juan F Pérez",
      "userId": "13439628769322192552"
     },
     "user_tz": 300
    },
    "id": "1Z5PP8DB_lsh"
   },
   "outputs": [],
   "source": [
    "df2 = pd.DataFrame(np.arange(12).reshape((3, 4)),\n",
    "                    index=[\"Uruguay\", \"Argentina\", \"Brasil\"],\n",
    "                    columns=[\"a\", \"b\", \"c\", \"d\"])"
   ]
  },
  {
   "cell_type": "code",
   "execution_count": 63,
   "metadata": {
    "colab": {
     "base_uri": "https://localhost:8080/",
     "height": 143
    },
    "executionInfo": {
     "elapsed": 599,
     "status": "ok",
     "timestamp": 1719526680795,
     "user": {
      "displayName": "Juan F Pérez",
      "userId": "13439628769322192552"
     },
     "user_tz": 300
    },
    "id": "qt9hGE2eH6ls",
    "outputId": "2c351368-49b6-4d3e-853e-2a46d5bf36be"
   },
   "outputs": [
    {
     "data": {
      "text/html": [
       "<div>\n",
       "<style scoped>\n",
       "    .dataframe tbody tr th:only-of-type {\n",
       "        vertical-align: middle;\n",
       "    }\n",
       "\n",
       "    .dataframe tbody tr th {\n",
       "        vertical-align: top;\n",
       "    }\n",
       "\n",
       "    .dataframe thead th {\n",
       "        text-align: right;\n",
       "    }\n",
       "</style>\n",
       "<table border=\"1\" class=\"dataframe\">\n",
       "  <thead>\n",
       "    <tr style=\"text-align: right;\">\n",
       "      <th></th>\n",
       "      <th>a</th>\n",
       "      <th>b</th>\n",
       "      <th>c</th>\n",
       "      <th>d</th>\n",
       "    </tr>\n",
       "  </thead>\n",
       "  <tbody>\n",
       "    <tr>\n",
       "      <th>Uruguay</th>\n",
       "      <td>0</td>\n",
       "      <td>1</td>\n",
       "      <td>2</td>\n",
       "      <td>3</td>\n",
       "    </tr>\n",
       "    <tr>\n",
       "      <th>Argentina</th>\n",
       "      <td>4</td>\n",
       "      <td>5</td>\n",
       "      <td>6</td>\n",
       "      <td>7</td>\n",
       "    </tr>\n",
       "    <tr>\n",
       "      <th>Brasil</th>\n",
       "      <td>8</td>\n",
       "      <td>9</td>\n",
       "      <td>10</td>\n",
       "      <td>11</td>\n",
       "    </tr>\n",
       "  </tbody>\n",
       "</table>\n",
       "</div>"
      ],
      "text/plain": [
       "           a  b   c   d\n",
       "Uruguay    0  1   2   3\n",
       "Argentina  4  5   6   7\n",
       "Brasil     8  9  10  11"
      ]
     },
     "execution_count": 63,
     "metadata": {},
     "output_type": "execute_result"
    }
   ],
   "source": [
    "df2"
   ]
  },
  {
   "cell_type": "code",
   "execution_count": 64,
   "metadata": {
    "executionInfo": {
     "elapsed": 482,
     "status": "ok",
     "timestamp": 1719526783652,
     "user": {
      "displayName": "Juan F Pérez",
      "userId": "13439628769322192552"
     },
     "user_tz": 300
    },
    "id": "3m68t3W2HPl8"
   },
   "outputs": [],
   "source": [
    "def reduc_mayus(x):\n",
    "  return x[:3].upper()"
   ]
  },
  {
   "cell_type": "code",
   "execution_count": 65,
   "metadata": {
    "colab": {
     "base_uri": "https://localhost:8080/"
    },
    "executionInfo": {
     "elapsed": 13,
     "status": "ok",
     "timestamp": 1719526786163,
     "user": {
      "displayName": "Juan F Pérez",
      "userId": "13439628769322192552"
     },
     "user_tz": 300
    },
    "id": "Ol62rM5GHW1x",
    "outputId": "6660eed1-3c41-4ee0-ae74-2df60a0a6659"
   },
   "outputs": [
    {
     "data": {
      "text/plain": [
       "Index(['URU', 'ARG', 'BRA'], dtype='object')"
      ]
     },
     "execution_count": 65,
     "metadata": {},
     "output_type": "execute_result"
    }
   ],
   "source": [
    "df2.index.map(reduc_mayus)"
   ]
  },
  {
   "cell_type": "code",
   "execution_count": 66,
   "metadata": {
    "colab": {
     "base_uri": "https://localhost:8080/"
    },
    "executionInfo": {
     "elapsed": 13,
     "status": "ok",
     "timestamp": 1719519702218,
     "user": {
      "displayName": "Juan F Pérez",
      "userId": "13439628769322192552"
     },
     "user_tz": 300
    },
    "id": "oVn-dRwNHGCa",
    "outputId": "6a2ec88f-ff7e-4500-a84a-825e72bc9c56"
   },
   "outputs": [
    {
     "data": {
      "text/plain": [
       "Index(['URUGUAY', 'ARGENTINA', 'BRASIL'], dtype='object')"
      ]
     },
     "execution_count": 66,
     "metadata": {},
     "output_type": "execute_result"
    }
   ],
   "source": [
    "df2.index.map(str.upper)"
   ]
  },
  {
   "cell_type": "code",
   "execution_count": 67,
   "metadata": {
    "executionInfo": {
     "elapsed": 419,
     "status": "ok",
     "timestamp": 1719526873890,
     "user": {
      "displayName": "Juan F Pérez",
      "userId": "13439628769322192552"
     },
     "user_tz": 300
    },
    "id": "F2Lgc6GjHvVI"
   },
   "outputs": [],
   "source": [
    "df3 = df2.copy()"
   ]
  },
  {
   "cell_type": "code",
   "execution_count": 68,
   "metadata": {
    "colab": {
     "base_uri": "https://localhost:8080/"
    },
    "executionInfo": {
     "elapsed": 424,
     "status": "ok",
     "timestamp": 1719526878795,
     "user": {
      "displayName": "Juan F Pérez",
      "userId": "13439628769322192552"
     },
     "user_tz": 300
    },
    "id": "1bGXdrJUHxTU",
    "outputId": "b5c9fd98-b7d2-4cee-cf89-560932472a6e"
   },
   "outputs": [
    {
     "data": {
      "text/plain": [
       "Index(['Uruguay', 'Argentina', 'Brasil'], dtype='object')"
      ]
     },
     "execution_count": 68,
     "metadata": {},
     "output_type": "execute_result"
    }
   ],
   "source": [
    "df3.index"
   ]
  },
  {
   "cell_type": "code",
   "execution_count": 69,
   "metadata": {
    "executionInfo": {
     "elapsed": 421,
     "status": "ok",
     "timestamp": 1719526900022,
     "user": {
      "displayName": "Juan F Pérez",
      "userId": "13439628769322192552"
     },
     "user_tz": 300
    },
    "id": "8gYH56MmHzBs"
   },
   "outputs": [],
   "source": [
    "df3.index = df3.index.map(reduc_mayus)"
   ]
  },
  {
   "cell_type": "code",
   "execution_count": 70,
   "metadata": {
    "colab": {
     "base_uri": "https://localhost:8080/",
     "height": 143
    },
    "executionInfo": {
     "elapsed": 540,
     "status": "ok",
     "timestamp": 1719526902780,
     "user": {
      "displayName": "Juan F Pérez",
      "userId": "13439628769322192552"
     },
     "user_tz": 300
    },
    "id": "c6SC4DOlH4NR",
    "outputId": "5aac5fa2-84e8-4ef1-c30d-18aa96424a8c"
   },
   "outputs": [
    {
     "data": {
      "text/html": [
       "<div>\n",
       "<style scoped>\n",
       "    .dataframe tbody tr th:only-of-type {\n",
       "        vertical-align: middle;\n",
       "    }\n",
       "\n",
       "    .dataframe tbody tr th {\n",
       "        vertical-align: top;\n",
       "    }\n",
       "\n",
       "    .dataframe thead th {\n",
       "        text-align: right;\n",
       "    }\n",
       "</style>\n",
       "<table border=\"1\" class=\"dataframe\">\n",
       "  <thead>\n",
       "    <tr style=\"text-align: right;\">\n",
       "      <th></th>\n",
       "      <th>a</th>\n",
       "      <th>b</th>\n",
       "      <th>c</th>\n",
       "      <th>d</th>\n",
       "    </tr>\n",
       "  </thead>\n",
       "  <tbody>\n",
       "    <tr>\n",
       "      <th>URU</th>\n",
       "      <td>0</td>\n",
       "      <td>1</td>\n",
       "      <td>2</td>\n",
       "      <td>3</td>\n",
       "    </tr>\n",
       "    <tr>\n",
       "      <th>ARG</th>\n",
       "      <td>4</td>\n",
       "      <td>5</td>\n",
       "      <td>6</td>\n",
       "      <td>7</td>\n",
       "    </tr>\n",
       "    <tr>\n",
       "      <th>BRA</th>\n",
       "      <td>8</td>\n",
       "      <td>9</td>\n",
       "      <td>10</td>\n",
       "      <td>11</td>\n",
       "    </tr>\n",
       "  </tbody>\n",
       "</table>\n",
       "</div>"
      ],
      "text/plain": [
       "     a  b   c   d\n",
       "URU  0  1   2   3\n",
       "ARG  4  5   6   7\n",
       "BRA  8  9  10  11"
      ]
     },
     "execution_count": 70,
     "metadata": {},
     "output_type": "execute_result"
    }
   ],
   "source": [
    "df3"
   ]
  },
  {
   "cell_type": "code",
   "execution_count": 71,
   "metadata": {
    "colab": {
     "base_uri": "https://localhost:8080/"
    },
    "executionInfo": {
     "elapsed": 39,
     "status": "ok",
     "timestamp": 1719519702692,
     "user": {
      "displayName": "Juan F Pérez",
      "userId": "13439628769322192552"
     },
     "user_tz": 300
    },
    "id": "ZX0lN5F6_Bv9",
    "outputId": "d4ef0422-b58b-4daa-e6f8-262fbbf138d1"
   },
   "outputs": [
    {
     "data": {
      "text/plain": [
       "0       6\n",
       "1       1\n",
       "2       8\n",
       "3       1\n",
       "4      -1\n",
       "       ..\n",
       "763    10\n",
       "764     2\n",
       "765     5\n",
       "766     1\n",
       "767     1\n",
       "Name: Pregnant, Length: 768, dtype: int64"
      ]
     },
     "execution_count": 71,
     "metadata": {},
     "output_type": "execute_result"
    }
   ],
   "source": [
    "df['Pregnant'].replace(0,-1) # también se pueden usar listas o un diccionario"
   ]
  },
  {
   "cell_type": "code",
   "execution_count": 72,
   "metadata": {
    "colab": {
     "base_uri": "https://localhost:8080/"
    },
    "executionInfo": {
     "elapsed": 427,
     "status": "ok",
     "timestamp": 1719527025629,
     "user": {
      "displayName": "Juan F Pérez",
      "userId": "13439628769322192552"
     },
     "user_tz": 300
    },
    "id": "s-gyDSLUy9Nu",
    "outputId": "145dea15-b90d-4a2b-9ebb-2074782b86a0"
   },
   "outputs": [
    {
     "data": {
      "text/plain": [
       "0       6\n",
       "1     -10\n",
       "2       8\n",
       "3     -10\n",
       "4      -1\n",
       "       ..\n",
       "763    10\n",
       "764     2\n",
       "765     5\n",
       "766   -10\n",
       "767   -10\n",
       "Name: Pregnant, Length: 768, dtype: int64"
      ]
     },
     "execution_count": 72,
     "metadata": {},
     "output_type": "execute_result"
    }
   ],
   "source": [
    "df['Pregnant'].replace([0, 1], [-1, -10])"
   ]
  },
  {
   "cell_type": "code",
   "execution_count": 73,
   "metadata": {
    "colab": {
     "base_uri": "https://localhost:8080/"
    },
    "executionInfo": {
     "elapsed": 488,
     "status": "ok",
     "timestamp": 1719527093698,
     "user": {
      "displayName": "Juan F Pérez",
      "userId": "13439628769322192552"
     },
     "user_tz": 300
    },
    "id": "j42_Cdr1zG-Y",
    "outputId": "00b9765b-0866-41c1-ee42-7dcc55946da8"
   },
   "outputs": [
    {
     "data": {
      "text/plain": [
       "0       6\n",
       "1     -10\n",
       "2       8\n",
       "3     -10\n",
       "4      -1\n",
       "       ..\n",
       "763    10\n",
       "764     2\n",
       "765     5\n",
       "766   -10\n",
       "767   -10\n",
       "Name: Pregnant, Length: 768, dtype: int64"
      ]
     },
     "execution_count": 73,
     "metadata": {},
     "output_type": "execute_result"
    }
   ],
   "source": [
    "df['Pregnant'].replace({0:-1, 1:-10})"
   ]
  },
  {
   "cell_type": "markdown",
   "metadata": {
    "id": "oeyyYyB1-bUw"
   },
   "source": [
    "### Duplicados"
   ]
  },
  {
   "cell_type": "code",
   "execution_count": 74,
   "metadata": {
    "colab": {
     "base_uri": "https://localhost:8080/"
    },
    "executionInfo": {
     "elapsed": 36,
     "status": "ok",
     "timestamp": 1719519702692,
     "user": {
      "displayName": "Juan F Pérez",
      "userId": "13439628769322192552"
     },
     "user_tz": 300
    },
    "id": "Llm3lo9f9_JM",
    "outputId": "d7501734-955e-40c9-8d57-31c4d6a689fa"
   },
   "outputs": [
    {
     "data": {
      "text/plain": [
       "0      False\n",
       "1      False\n",
       "2      False\n",
       "3      False\n",
       "4      False\n",
       "       ...  \n",
       "763    False\n",
       "764    False\n",
       "765    False\n",
       "766    False\n",
       "767    False\n",
       "Length: 768, dtype: bool"
      ]
     },
     "execution_count": 74,
     "metadata": {},
     "output_type": "execute_result"
    }
   ],
   "source": [
    "df.duplicated()"
   ]
  },
  {
   "cell_type": "code",
   "execution_count": 75,
   "metadata": {
    "colab": {
     "base_uri": "https://localhost:8080/"
    },
    "executionInfo": {
     "elapsed": 33,
     "status": "ok",
     "timestamp": 1719519702692,
     "user": {
      "displayName": "Juan F Pérez",
      "userId": "13439628769322192552"
     },
     "user_tz": 300
    },
    "id": "Hg5d7uAz-F72",
    "outputId": "92a329d5-565e-4259-e484-50a051f04e06"
   },
   "outputs": [
    {
     "data": {
      "text/plain": [
       "np.int64(0)"
      ]
     },
     "execution_count": 75,
     "metadata": {},
     "output_type": "execute_result"
    }
   ],
   "source": [
    "df.duplicated().sum()"
   ]
  },
  {
   "cell_type": "code",
   "execution_count": 76,
   "metadata": {
    "colab": {
     "base_uri": "https://localhost:8080/"
    },
    "executionInfo": {
     "elapsed": 31,
     "status": "ok",
     "timestamp": 1719519702692,
     "user": {
      "displayName": "Juan F Pérez",
      "userId": "13439628769322192552"
     },
     "user_tz": 300
    },
    "id": "qlztZdYD-JT2",
    "outputId": "5395cc6c-283c-46cf-8b59-84a943f1eb6c"
   },
   "outputs": [
    {
     "data": {
      "text/plain": [
       "np.int64(632)"
      ]
     },
     "execution_count": 76,
     "metadata": {},
     "output_type": "execute_result"
    }
   ],
   "source": [
    "df.duplicated(subset=['Glucose']).sum()"
   ]
  },
  {
   "cell_type": "code",
   "execution_count": 77,
   "metadata": {
    "colab": {
     "base_uri": "https://localhost:8080/"
    },
    "executionInfo": {
     "elapsed": 29,
     "status": "ok",
     "timestamp": 1719519702693,
     "user": {
      "displayName": "Juan F Pérez",
      "userId": "13439628769322192552"
     },
     "user_tz": 300
    },
    "id": "kocLDZS6-S-G",
    "outputId": "ff34c4bd-0a2d-46ac-a111-4487dd38e6d9"
   },
   "outputs": [
    {
     "data": {
      "text/plain": [
       "(768, 10)"
      ]
     },
     "execution_count": 77,
     "metadata": {},
     "output_type": "execute_result"
    }
   ],
   "source": [
    "df.drop_duplicates().shape"
   ]
  },
  {
   "cell_type": "code",
   "execution_count": 78,
   "metadata": {
    "colab": {
     "base_uri": "https://localhost:8080/"
    },
    "executionInfo": {
     "elapsed": 25,
     "status": "ok",
     "timestamp": 1719519702693,
     "user": {
      "displayName": "Juan F Pérez",
      "userId": "13439628769322192552"
     },
     "user_tz": 300
    },
    "id": "pM7wIkAf-V9l",
    "outputId": "3627895d-ea4c-4921-fcd2-4d581d7c25ae"
   },
   "outputs": [
    {
     "data": {
      "text/plain": [
       "(136, 10)"
      ]
     },
     "execution_count": 78,
     "metadata": {},
     "output_type": "execute_result"
    }
   ],
   "source": [
    "df.drop_duplicates(subset=['Glucose']).shape"
   ]
  },
  {
   "cell_type": "markdown",
   "metadata": {
    "id": "0VBmEIbrIFCo"
   },
   "source": [
    "### Discretización"
   ]
  },
  {
   "cell_type": "code",
   "execution_count": 79,
   "metadata": {
    "colab": {
     "base_uri": "https://localhost:8080/",
     "height": 423
    },
    "executionInfo": {
     "elapsed": 23,
     "status": "ok",
     "timestamp": 1719519702693,
     "user": {
      "displayName": "Juan F Pérez",
      "userId": "13439628769322192552"
     },
     "user_tz": 300
    },
    "id": "Pm6qVq0Zx9zv",
    "outputId": "a80127c5-c3e7-4775-87ba-fd35fe9a9954"
   },
   "outputs": [
    {
     "data": {
      "text/html": [
       "<div>\n",
       "<style scoped>\n",
       "    .dataframe tbody tr th:only-of-type {\n",
       "        vertical-align: middle;\n",
       "    }\n",
       "\n",
       "    .dataframe tbody tr th {\n",
       "        vertical-align: top;\n",
       "    }\n",
       "\n",
       "    .dataframe thead th {\n",
       "        text-align: right;\n",
       "    }\n",
       "</style>\n",
       "<table border=\"1\" class=\"dataframe\">\n",
       "  <thead>\n",
       "    <tr style=\"text-align: right;\">\n",
       "      <th></th>\n",
       "      <th>Pregnant</th>\n",
       "      <th>Glucose</th>\n",
       "      <th>Diastolic_BP</th>\n",
       "      <th>Skin_Fold</th>\n",
       "      <th>Serum_Insulin</th>\n",
       "      <th>BMI</th>\n",
       "      <th>Diabetes_Pedigree</th>\n",
       "      <th>Age</th>\n",
       "      <th>Class</th>\n",
       "      <th>class_label</th>\n",
       "    </tr>\n",
       "  </thead>\n",
       "  <tbody>\n",
       "    <tr>\n",
       "      <th>0</th>\n",
       "      <td>6</td>\n",
       "      <td>148.0</td>\n",
       "      <td>72.0</td>\n",
       "      <td>35.0</td>\n",
       "      <td>NaN</td>\n",
       "      <td>33.6</td>\n",
       "      <td>0.627</td>\n",
       "      <td>50</td>\n",
       "      <td>1</td>\n",
       "      <td>S</td>\n",
       "    </tr>\n",
       "    <tr>\n",
       "      <th>1</th>\n",
       "      <td>1</td>\n",
       "      <td>85.0</td>\n",
       "      <td>66.0</td>\n",
       "      <td>29.0</td>\n",
       "      <td>NaN</td>\n",
       "      <td>26.6</td>\n",
       "      <td>0.351</td>\n",
       "      <td>31</td>\n",
       "      <td>0</td>\n",
       "      <td>N</td>\n",
       "    </tr>\n",
       "    <tr>\n",
       "      <th>2</th>\n",
       "      <td>8</td>\n",
       "      <td>183.0</td>\n",
       "      <td>64.0</td>\n",
       "      <td>NaN</td>\n",
       "      <td>NaN</td>\n",
       "      <td>23.3</td>\n",
       "      <td>0.672</td>\n",
       "      <td>32</td>\n",
       "      <td>1</td>\n",
       "      <td>S</td>\n",
       "    </tr>\n",
       "    <tr>\n",
       "      <th>3</th>\n",
       "      <td>1</td>\n",
       "      <td>89.0</td>\n",
       "      <td>66.0</td>\n",
       "      <td>23.0</td>\n",
       "      <td>94.0</td>\n",
       "      <td>28.1</td>\n",
       "      <td>0.167</td>\n",
       "      <td>21</td>\n",
       "      <td>0</td>\n",
       "      <td>N</td>\n",
       "    </tr>\n",
       "    <tr>\n",
       "      <th>4</th>\n",
       "      <td>0</td>\n",
       "      <td>137.0</td>\n",
       "      <td>40.0</td>\n",
       "      <td>35.0</td>\n",
       "      <td>168.0</td>\n",
       "      <td>43.1</td>\n",
       "      <td>2.288</td>\n",
       "      <td>33</td>\n",
       "      <td>1</td>\n",
       "      <td>S</td>\n",
       "    </tr>\n",
       "    <tr>\n",
       "      <th>...</th>\n",
       "      <td>...</td>\n",
       "      <td>...</td>\n",
       "      <td>...</td>\n",
       "      <td>...</td>\n",
       "      <td>...</td>\n",
       "      <td>...</td>\n",
       "      <td>...</td>\n",
       "      <td>...</td>\n",
       "      <td>...</td>\n",
       "      <td>...</td>\n",
       "    </tr>\n",
       "    <tr>\n",
       "      <th>763</th>\n",
       "      <td>10</td>\n",
       "      <td>101.0</td>\n",
       "      <td>76.0</td>\n",
       "      <td>48.0</td>\n",
       "      <td>180.0</td>\n",
       "      <td>32.9</td>\n",
       "      <td>0.171</td>\n",
       "      <td>63</td>\n",
       "      <td>0</td>\n",
       "      <td>N</td>\n",
       "    </tr>\n",
       "    <tr>\n",
       "      <th>764</th>\n",
       "      <td>2</td>\n",
       "      <td>122.0</td>\n",
       "      <td>70.0</td>\n",
       "      <td>27.0</td>\n",
       "      <td>NaN</td>\n",
       "      <td>36.8</td>\n",
       "      <td>0.340</td>\n",
       "      <td>27</td>\n",
       "      <td>0</td>\n",
       "      <td>N</td>\n",
       "    </tr>\n",
       "    <tr>\n",
       "      <th>765</th>\n",
       "      <td>5</td>\n",
       "      <td>121.0</td>\n",
       "      <td>72.0</td>\n",
       "      <td>23.0</td>\n",
       "      <td>112.0</td>\n",
       "      <td>26.2</td>\n",
       "      <td>0.245</td>\n",
       "      <td>30</td>\n",
       "      <td>0</td>\n",
       "      <td>N</td>\n",
       "    </tr>\n",
       "    <tr>\n",
       "      <th>766</th>\n",
       "      <td>1</td>\n",
       "      <td>126.0</td>\n",
       "      <td>60.0</td>\n",
       "      <td>NaN</td>\n",
       "      <td>NaN</td>\n",
       "      <td>30.1</td>\n",
       "      <td>0.349</td>\n",
       "      <td>47</td>\n",
       "      <td>1</td>\n",
       "      <td>S</td>\n",
       "    </tr>\n",
       "    <tr>\n",
       "      <th>767</th>\n",
       "      <td>1</td>\n",
       "      <td>93.0</td>\n",
       "      <td>70.0</td>\n",
       "      <td>31.0</td>\n",
       "      <td>NaN</td>\n",
       "      <td>30.4</td>\n",
       "      <td>0.315</td>\n",
       "      <td>23</td>\n",
       "      <td>0</td>\n",
       "      <td>N</td>\n",
       "    </tr>\n",
       "  </tbody>\n",
       "</table>\n",
       "<p>768 rows × 10 columns</p>\n",
       "</div>"
      ],
      "text/plain": [
       "     Pregnant  Glucose  Diastolic_BP  Skin_Fold  Serum_Insulin   BMI  \\\n",
       "0           6    148.0          72.0       35.0            NaN  33.6   \n",
       "1           1     85.0          66.0       29.0            NaN  26.6   \n",
       "2           8    183.0          64.0        NaN            NaN  23.3   \n",
       "3           1     89.0          66.0       23.0           94.0  28.1   \n",
       "4           0    137.0          40.0       35.0          168.0  43.1   \n",
       "..        ...      ...           ...        ...            ...   ...   \n",
       "763        10    101.0          76.0       48.0          180.0  32.9   \n",
       "764         2    122.0          70.0       27.0            NaN  36.8   \n",
       "765         5    121.0          72.0       23.0          112.0  26.2   \n",
       "766         1    126.0          60.0        NaN            NaN  30.1   \n",
       "767         1     93.0          70.0       31.0            NaN  30.4   \n",
       "\n",
       "     Diabetes_Pedigree  Age  Class class_label  \n",
       "0                0.627   50      1           S  \n",
       "1                0.351   31      0           N  \n",
       "2                0.672   32      1           S  \n",
       "3                0.167   21      0           N  \n",
       "4                2.288   33      1           S  \n",
       "..                 ...  ...    ...         ...  \n",
       "763              0.171   63      0           N  \n",
       "764              0.340   27      0           N  \n",
       "765              0.245   30      0           N  \n",
       "766              0.349   47      1           S  \n",
       "767              0.315   23      0           N  \n",
       "\n",
       "[768 rows x 10 columns]"
      ]
     },
     "execution_count": 79,
     "metadata": {},
     "output_type": "execute_result"
    }
   ],
   "source": [
    "df"
   ]
  },
  {
   "cell_type": "code",
   "execution_count": 80,
   "metadata": {
    "colab": {
     "base_uri": "https://localhost:8080/"
    },
    "executionInfo": {
     "elapsed": 22,
     "status": "ok",
     "timestamp": 1719519702693,
     "user": {
      "displayName": "Juan F Pérez",
      "userId": "13439628769322192552"
     },
     "user_tz": 300
    },
    "id": "igID3BXayFwm",
    "outputId": "42273797-a347-43b4-f325-417c2e3d425f"
   },
   "outputs": [
    {
     "data": {
      "text/plain": [
       "0      50\n",
       "1      31\n",
       "2      32\n",
       "3      21\n",
       "4      33\n",
       "       ..\n",
       "763    63\n",
       "764    27\n",
       "765    30\n",
       "766    47\n",
       "767    23\n",
       "Name: Age, Length: 768, dtype: int64"
      ]
     },
     "execution_count": 80,
     "metadata": {},
     "output_type": "execute_result"
    }
   ],
   "source": [
    "edad = df['Age']\n",
    "edad"
   ]
  },
  {
   "cell_type": "code",
   "execution_count": 81,
   "metadata": {
    "colab": {
     "base_uri": "https://localhost:8080/"
    },
    "executionInfo": {
     "elapsed": 19,
     "status": "ok",
     "timestamp": 1719519702693,
     "user": {
      "displayName": "Juan F Pérez",
      "userId": "13439628769322192552"
     },
     "user_tz": 300
    },
    "id": "i_Vh4eUWIgyx",
    "outputId": "e2dda8c3-d121-4a03-8648-528d5c4fa4be"
   },
   "outputs": [
    {
     "data": {
      "text/plain": [
       "count    768.000000\n",
       "mean      33.240885\n",
       "std       11.760232\n",
       "min       21.000000\n",
       "25%       24.000000\n",
       "50%       29.000000\n",
       "75%       41.000000\n",
       "max       81.000000\n",
       "Name: Age, dtype: float64"
      ]
     },
     "execution_count": 81,
     "metadata": {},
     "output_type": "execute_result"
    }
   ],
   "source": [
    "edad.describe()"
   ]
  },
  {
   "cell_type": "code",
   "execution_count": 82,
   "metadata": {
    "executionInfo": {
     "elapsed": 17,
     "status": "ok",
     "timestamp": 1719519702693,
     "user": {
      "displayName": "Juan F Pérez",
      "userId": "13439628769322192552"
     },
     "user_tz": 300
    },
    "id": "wHoklDmJyZNe"
   },
   "outputs": [],
   "source": [
    "bins = [18, 30, 40, 50, 60, 70, 100]"
   ]
  },
  {
   "cell_type": "code",
   "execution_count": 83,
   "metadata": {
    "colab": {
     "base_uri": "https://localhost:8080/"
    },
    "executionInfo": {
     "elapsed": 17,
     "status": "ok",
     "timestamp": 1719519702693,
     "user": {
      "displayName": "Juan F Pérez",
      "userId": "13439628769322192552"
     },
     "user_tz": 300
    },
    "id": "ko6ywj1yydNl",
    "outputId": "8884f5b8-9ecf-4a3b-abe7-942b0bb59778"
   },
   "outputs": [
    {
     "data": {
      "text/plain": [
       "0      (40, 50]\n",
       "1      (30, 40]\n",
       "2      (30, 40]\n",
       "3      (18, 30]\n",
       "4      (30, 40]\n",
       "         ...   \n",
       "763    (60, 70]\n",
       "764    (18, 30]\n",
       "765    (18, 30]\n",
       "766    (40, 50]\n",
       "767    (18, 30]\n",
       "Name: Age, Length: 768, dtype: category\n",
       "Categories (6, interval[int64, right]): [(18, 30] < (30, 40] < (40, 50] < (50, 60] < (60, 70] < (70, 100]]"
      ]
     },
     "execution_count": 83,
     "metadata": {},
     "output_type": "execute_result"
    }
   ],
   "source": [
    "edad_cat = pd.cut(edad, bins) # límites explícitos\n",
    "edad_cat"
   ]
  },
  {
   "cell_type": "code",
   "execution_count": 84,
   "metadata": {
    "colab": {
     "base_uri": "https://localhost:8080/"
    },
    "executionInfo": {
     "elapsed": 15,
     "status": "ok",
     "timestamp": 1719519702693,
     "user": {
      "displayName": "Juan F Pérez",
      "userId": "13439628769322192552"
     },
     "user_tz": 300
    },
    "id": "Bb1SHUEaz0EI",
    "outputId": "3a2c30a4-04da-488e-cb5f-44bf60d0d106"
   },
   "outputs": [
    {
     "data": {
      "text/plain": [
       "Age\n",
       "(18, 30]     417\n",
       "(30, 40]     157\n",
       "(40, 50]     113\n",
       "(50, 60]      54\n",
       "(60, 70]      25\n",
       "(70, 100]      2\n",
       "Name: count, dtype: int64"
      ]
     },
     "execution_count": 84,
     "metadata": {},
     "output_type": "execute_result"
    }
   ],
   "source": [
    "edad_cat.value_counts()"
   ]
  },
  {
   "cell_type": "code",
   "execution_count": 85,
   "metadata": {
    "colab": {
     "base_uri": "https://localhost:8080/"
    },
    "executionInfo": {
     "elapsed": 12,
     "status": "ok",
     "timestamp": 1719519702693,
     "user": {
      "displayName": "Juan F Pérez",
      "userId": "13439628769322192552"
     },
     "user_tz": 300
    },
    "id": "wJXt3pClL2Pc",
    "outputId": "2470beba-3eb6-4829-916d-04e2b6ba708c"
   },
   "outputs": [
    {
     "data": {
      "text/plain": [
       "0      [50, 60)\n",
       "1      [30, 40)\n",
       "2      [30, 40)\n",
       "3      [18, 30)\n",
       "4      [30, 40)\n",
       "         ...   \n",
       "763    [60, 70)\n",
       "764    [18, 30)\n",
       "765    [30, 40)\n",
       "766    [40, 50)\n",
       "767    [18, 30)\n",
       "Name: Age, Length: 768, dtype: category\n",
       "Categories (6, interval[int64, left]): [[18, 30) < [30, 40) < [40, 50) < [50, 60) < [60, 70) < [70, 100)]"
      ]
     },
     "execution_count": 85,
     "metadata": {},
     "output_type": "execute_result"
    }
   ],
   "source": [
    "edad_cat = pd.cut(edad, bins, right=False)\n",
    "edad_cat"
   ]
  },
  {
   "cell_type": "code",
   "execution_count": 86,
   "metadata": {
    "colab": {
     "base_uri": "https://localhost:8080/"
    },
    "executionInfo": {
     "elapsed": 419,
     "status": "ok",
     "timestamp": 1719519703102,
     "user": {
      "displayName": "Juan F Pérez",
      "userId": "13439628769322192552"
     },
     "user_tz": 300
    },
    "id": "TPLMoKNzL4Cj",
    "outputId": "9844f246-45c9-4f2c-95c5-969c6aa359be"
   },
   "outputs": [
    {
     "data": {
      "text/plain": [
       "Age\n",
       "[18, 30)     396\n",
       "[30, 40)     165\n",
       "[40, 50)     118\n",
       "[50, 60)      57\n",
       "[60, 70)      29\n",
       "[70, 100)      3\n",
       "Name: count, dtype: int64"
      ]
     },
     "execution_count": 86,
     "metadata": {},
     "output_type": "execute_result"
    }
   ],
   "source": [
    "edad_cat.value_counts()"
   ]
  },
  {
   "cell_type": "code",
   "execution_count": 87,
   "metadata": {
    "executionInfo": {
     "elapsed": 524,
     "status": "ok",
     "timestamp": 1719528180196,
     "user": {
      "displayName": "Juan F Pérez",
      "userId": "13439628769322192552"
     },
     "user_tz": 300
    },
    "id": "P5XlYlL40Uin"
   },
   "outputs": [],
   "source": [
    "nombres_cats = ['joven', 'adulto1', 'adulto2', 'adulto3', 'adulto4', 'adulto mayor']"
   ]
  },
  {
   "cell_type": "code",
   "execution_count": 88,
   "metadata": {
    "colab": {
     "base_uri": "https://localhost:8080/"
    },
    "executionInfo": {
     "elapsed": 393,
     "status": "ok",
     "timestamp": 1719528201996,
     "user": {
      "displayName": "Juan F Pérez",
      "userId": "13439628769322192552"
     },
     "user_tz": 300
    },
    "id": "s16zGqXSS10C",
    "outputId": "367220e9-ae1a-4d00-a2a0-33855199c4d0"
   },
   "outputs": [
    {
     "data": {
      "text/plain": [
       "0      adulto2\n",
       "1      adulto1\n",
       "2      adulto1\n",
       "3        joven\n",
       "4      adulto1\n",
       "        ...   \n",
       "763    adulto4\n",
       "764      joven\n",
       "765      joven\n",
       "766    adulto2\n",
       "767      joven\n",
       "Name: Age, Length: 768, dtype: category\n",
       "Categories (6, object): ['joven' < 'adulto1' < 'adulto2' < 'adulto3' < 'adulto4' < 'adulto mayor']"
      ]
     },
     "execution_count": 88,
     "metadata": {},
     "output_type": "execute_result"
    }
   ],
   "source": [
    "edad_cat = pd.cut(edad, bins, labels=nombres_cats)\n",
    "edad_cat"
   ]
  },
  {
   "cell_type": "code",
   "execution_count": 89,
   "metadata": {
    "colab": {
     "base_uri": "https://localhost:8080/"
    },
    "executionInfo": {
     "elapsed": 381,
     "status": "ok",
     "timestamp": 1719528206574,
     "user": {
      "displayName": "Juan F Pérez",
      "userId": "13439628769322192552"
     },
     "user_tz": 300
    },
    "id": "VDojO21myzgh",
    "outputId": "114c7dc2-7c6b-408e-bb4b-ba32f6489e4d"
   },
   "outputs": [
    {
     "data": {
      "text/plain": [
       "Age\n",
       "joven           417\n",
       "adulto1         157\n",
       "adulto2         113\n",
       "adulto3          54\n",
       "adulto4          25\n",
       "adulto mayor      2\n",
       "Name: count, dtype: int64"
      ]
     },
     "execution_count": 89,
     "metadata": {},
     "output_type": "execute_result"
    }
   ],
   "source": [
    "edad_cat.value_counts()"
   ]
  },
  {
   "cell_type": "code",
   "execution_count": 90,
   "metadata": {
    "colab": {
     "base_uri": "https://localhost:8080/"
    },
    "executionInfo": {
     "elapsed": 487,
     "status": "ok",
     "timestamp": 1719528354124,
     "user": {
      "displayName": "Juan F Pérez",
      "userId": "13439628769322192552"
     },
     "user_tz": 300
    },
    "id": "_34pOlsc0xve",
    "outputId": "355227d3-b211-47fe-8458-f542f2f6bac9"
   },
   "outputs": [
    {
     "data": {
      "text/plain": [
       "0       (45.0, 51.0]\n",
       "1       (27.0, 33.0]\n",
       "2       (27.0, 33.0]\n",
       "3      (20.94, 27.0]\n",
       "4       (27.0, 33.0]\n",
       "           ...      \n",
       "763     (57.0, 63.0]\n",
       "764    (20.94, 27.0]\n",
       "765     (27.0, 33.0]\n",
       "766     (45.0, 51.0]\n",
       "767    (20.94, 27.0]\n",
       "Name: Age, Length: 768, dtype: category\n",
       "Categories (10, interval[float64, right]): [(20.94, 27.0] < (27.0, 33.0] < (33.0, 39.0] < (39.0, 45.0] ... (57.0, 63.0] < (63.0, 69.0] < (69.0, 75.0] < (75.0, 81.0]]"
      ]
     },
     "execution_count": 90,
     "metadata": {},
     "output_type": "execute_result"
    }
   ],
   "source": [
    "edad_cat_v2 = pd.cut(edad, 10) # límites equidistantes\n",
    "edad_cat_v2"
   ]
  },
  {
   "cell_type": "code",
   "execution_count": 91,
   "metadata": {
    "colab": {
     "base_uri": "https://localhost:8080/"
    },
    "executionInfo": {
     "elapsed": 541,
     "status": "ok",
     "timestamp": 1719528357076,
     "user": {
      "displayName": "Juan F Pérez",
      "userId": "13439628769322192552"
     },
     "user_tz": 300
    },
    "id": "NEYBQCQz0vHn",
    "outputId": "03e2ed8c-3f36-4b7a-c686-3dbc1a6ea821"
   },
   "outputs": [
    {
     "data": {
      "text/plain": [
       "[(45.0, 51.0], (27.0, 33.0], (20.94, 27.0], (51.0, 57.0], (33.0, 39.0], (57.0, 63.0], (39.0, 45.0], (63.0, 69.0], (69.0, 75.0], (75.0, 81.0]]\n",
       "Categories (10, interval[float64, right]): [(20.94, 27.0] < (27.0, 33.0] < (33.0, 39.0] < (39.0, 45.0] ... (57.0, 63.0] < (63.0, 69.0] < (69.0, 75.0] < (75.0, 81.0]]"
      ]
     },
     "execution_count": 91,
     "metadata": {},
     "output_type": "execute_result"
    }
   ],
   "source": [
    "edad_cat_v2.unique()"
   ]
  },
  {
   "cell_type": "code",
   "execution_count": 92,
   "metadata": {
    "colab": {
     "base_uri": "https://localhost:8080/"
    },
    "executionInfo": {
     "elapsed": 410,
     "status": "ok",
     "timestamp": 1719528362256,
     "user": {
      "displayName": "Juan F Pérez",
      "userId": "13439628769322192552"
     },
     "user_tz": 300
    },
    "id": "ZHdNnCEQAo4j",
    "outputId": "dc001dc2-6d92-4602-ad23-67b0585d15fd"
   },
   "outputs": [
    {
     "data": {
      "text/plain": [
       "Age\n",
       "(20.94, 27.0]    332\n",
       "(27.0, 33.0]     142\n",
       "(39.0, 45.0]      89\n",
       "(33.0, 39.0]      87\n",
       "(45.0, 51.0]      45\n",
       "(51.0, 57.0]      31\n",
       "(57.0, 63.0]      25\n",
       "(63.0, 69.0]      14\n",
       "(69.0, 75.0]       2\n",
       "(75.0, 81.0]       1\n",
       "Name: count, dtype: int64"
      ]
     },
     "execution_count": 92,
     "metadata": {},
     "output_type": "execute_result"
    }
   ],
   "source": [
    "edad_cat_v2.value_counts()"
   ]
  },
  {
   "cell_type": "code",
   "execution_count": 93,
   "metadata": {
    "colab": {
     "base_uri": "https://localhost:8080/"
    },
    "executionInfo": {
     "elapsed": 544,
     "status": "ok",
     "timestamp": 1719528677666,
     "user": {
      "displayName": "Juan F Pérez",
      "userId": "13439628769322192552"
     },
     "user_tz": 300
    },
    "id": "rq66AcErArcp",
    "outputId": "d75b0fdb-24e1-4fa6-944e-186b3c0fab89"
   },
   "outputs": [
    {
     "data": {
      "text/plain": [
       "0        (38.0, 51.0]\n",
       "1        (29.0, 38.0]\n",
       "2        (29.0, 38.0]\n",
       "3      (20.999, 23.0]\n",
       "4        (29.0, 38.0]\n",
       "            ...      \n",
       "763      (51.0, 81.0]\n",
       "764      (23.0, 29.0]\n",
       "765      (29.0, 38.0]\n",
       "766      (38.0, 51.0]\n",
       "767    (20.999, 23.0]\n",
       "Name: Age, Length: 768, dtype: category\n",
       "Categories (5, interval[float64, right]): [(20.999, 23.0] < (23.0, 29.0] < (29.0, 38.0] < (38.0, 51.0] < (51.0, 81.0]]"
      ]
     },
     "execution_count": 93,
     "metadata": {},
     "output_type": "execute_result"
    }
   ],
   "source": [
    "edad_cat_v3 = pd.qcut(edad, [0, 0.2 , 0.5, 0.7, 0.9, 1]) # cuantiles\n",
    "edad_cat_v3"
   ]
  },
  {
   "cell_type": "code",
   "execution_count": 94,
   "metadata": {
    "colab": {
     "base_uri": "https://localhost:8080/"
    },
    "executionInfo": {
     "elapsed": 446,
     "status": "ok",
     "timestamp": 1719528687806,
     "user": {
      "displayName": "Juan F Pérez",
      "userId": "13439628769322192552"
     },
     "user_tz": 300
    },
    "id": "BlVnso7NAwGp",
    "outputId": "427a086c-5919-4453-b33a-272f6d02edd8"
   },
   "outputs": [
    {
     "data": {
      "text/plain": [
       "[(38.0, 51.0], (29.0, 38.0], (20.999, 23.0], (23.0, 29.0], (51.0, 81.0]]\n",
       "Categories (5, interval[float64, right]): [(20.999, 23.0] < (23.0, 29.0] < (29.0, 38.0] < (38.0, 51.0] < (51.0, 81.0]]"
      ]
     },
     "execution_count": 94,
     "metadata": {},
     "output_type": "execute_result"
    }
   ],
   "source": [
    "edad_cat_v3.unique()"
   ]
  },
  {
   "cell_type": "code",
   "execution_count": 95,
   "metadata": {
    "colab": {
     "base_uri": "https://localhost:8080/"
    },
    "executionInfo": {
     "elapsed": 475,
     "status": "ok",
     "timestamp": 1719528757262,
     "user": {
      "displayName": "Juan F Pérez",
      "userId": "13439628769322192552"
     },
     "user_tz": 300
    },
    "id": "3LnzJClPA1wZ",
    "outputId": "cd9f473f-0c73-40e3-adc8-57e7a0f2755f"
   },
   "outputs": [
    {
     "data": {
      "text/plain": [
       "Age\n",
       "(23.0, 29.0]      223\n",
       "(20.999, 23.0]    173\n",
       "(29.0, 38.0]      153\n",
       "(38.0, 51.0]      146\n",
       "(51.0, 81.0]       73\n",
       "Name: count, dtype: int64"
      ]
     },
     "execution_count": 95,
     "metadata": {},
     "output_type": "execute_result"
    }
   ],
   "source": [
    "edad_cat_v3.value_counts()"
   ]
  },
  {
   "cell_type": "markdown",
   "metadata": {
    "id": "kIkP_irZMWZa"
   },
   "source": [
    "### Variables indicadoras (dummy)"
   ]
  },
  {
   "cell_type": "code",
   "execution_count": 96,
   "metadata": {
    "colab": {
     "base_uri": "https://localhost:8080/",
     "height": 237
    },
    "executionInfo": {
     "elapsed": 442,
     "status": "ok",
     "timestamp": 1719519703542,
     "user": {
      "displayName": "Juan F Pérez",
      "userId": "13439628769322192552"
     },
     "user_tz": 300
    },
    "id": "EG6l5YdsA_Dn",
    "outputId": "24b11029-2957-407f-fb84-a271953de519"
   },
   "outputs": [
    {
     "data": {
      "text/html": [
       "<div>\n",
       "<style scoped>\n",
       "    .dataframe tbody tr th:only-of-type {\n",
       "        vertical-align: middle;\n",
       "    }\n",
       "\n",
       "    .dataframe tbody tr th {\n",
       "        vertical-align: top;\n",
       "    }\n",
       "\n",
       "    .dataframe thead th {\n",
       "        text-align: right;\n",
       "    }\n",
       "</style>\n",
       "<table border=\"1\" class=\"dataframe\">\n",
       "  <thead>\n",
       "    <tr style=\"text-align: right;\">\n",
       "      <th></th>\n",
       "      <th>cat</th>\n",
       "      <th>val</th>\n",
       "    </tr>\n",
       "  </thead>\n",
       "  <tbody>\n",
       "    <tr>\n",
       "      <th>0</th>\n",
       "      <td>c2</td>\n",
       "      <td>0.0</td>\n",
       "    </tr>\n",
       "    <tr>\n",
       "      <th>1</th>\n",
       "      <td>c2</td>\n",
       "      <td>1.0</td>\n",
       "    </tr>\n",
       "    <tr>\n",
       "      <th>2</th>\n",
       "      <td>c1</td>\n",
       "      <td>2.0</td>\n",
       "    </tr>\n",
       "    <tr>\n",
       "      <th>3</th>\n",
       "      <td>c3</td>\n",
       "      <td>3.0</td>\n",
       "    </tr>\n",
       "    <tr>\n",
       "      <th>4</th>\n",
       "      <td>c2</td>\n",
       "      <td>4.0</td>\n",
       "    </tr>\n",
       "    <tr>\n",
       "      <th>5</th>\n",
       "      <td>c3</td>\n",
       "      <td>5.0</td>\n",
       "    </tr>\n",
       "  </tbody>\n",
       "</table>\n",
       "</div>"
      ],
      "text/plain": [
       "  cat  val\n",
       "0  c2  0.0\n",
       "1  c2  1.0\n",
       "2  c1  2.0\n",
       "3  c3  3.0\n",
       "4  c2  4.0\n",
       "5  c3  5.0"
      ]
     },
     "execution_count": 96,
     "metadata": {},
     "output_type": "execute_result"
    }
   ],
   "source": [
    "df_var = pd.DataFrame({\"cat\": [\"c2\", \"c2\", \"c1\", \"c3\", \"c2\", \"c3\"],\n",
    "                   \"val\": np.arange(6.)})\n",
    "df_var"
   ]
  },
  {
   "cell_type": "code",
   "execution_count": 97,
   "metadata": {
    "colab": {
     "base_uri": "https://localhost:8080/",
     "height": 237
    },
    "executionInfo": {
     "elapsed": 18,
     "status": "ok",
     "timestamp": 1719519703542,
     "user": {
      "displayName": "Juan F Pérez",
      "userId": "13439628769322192552"
     },
     "user_tz": 300
    },
    "id": "2GldLu8PBJs5",
    "outputId": "c3fe0e61-a2cd-477e-9c7b-832f9fb43ec5"
   },
   "outputs": [
    {
     "data": {
      "text/html": [
       "<div>\n",
       "<style scoped>\n",
       "    .dataframe tbody tr th:only-of-type {\n",
       "        vertical-align: middle;\n",
       "    }\n",
       "\n",
       "    .dataframe tbody tr th {\n",
       "        vertical-align: top;\n",
       "    }\n",
       "\n",
       "    .dataframe thead th {\n",
       "        text-align: right;\n",
       "    }\n",
       "</style>\n",
       "<table border=\"1\" class=\"dataframe\">\n",
       "  <thead>\n",
       "    <tr style=\"text-align: right;\">\n",
       "      <th></th>\n",
       "      <th>c1</th>\n",
       "      <th>c2</th>\n",
       "      <th>c3</th>\n",
       "    </tr>\n",
       "  </thead>\n",
       "  <tbody>\n",
       "    <tr>\n",
       "      <th>0</th>\n",
       "      <td>False</td>\n",
       "      <td>True</td>\n",
       "      <td>False</td>\n",
       "    </tr>\n",
       "    <tr>\n",
       "      <th>1</th>\n",
       "      <td>False</td>\n",
       "      <td>True</td>\n",
       "      <td>False</td>\n",
       "    </tr>\n",
       "    <tr>\n",
       "      <th>2</th>\n",
       "      <td>True</td>\n",
       "      <td>False</td>\n",
       "      <td>False</td>\n",
       "    </tr>\n",
       "    <tr>\n",
       "      <th>3</th>\n",
       "      <td>False</td>\n",
       "      <td>False</td>\n",
       "      <td>True</td>\n",
       "    </tr>\n",
       "    <tr>\n",
       "      <th>4</th>\n",
       "      <td>False</td>\n",
       "      <td>True</td>\n",
       "      <td>False</td>\n",
       "    </tr>\n",
       "    <tr>\n",
       "      <th>5</th>\n",
       "      <td>False</td>\n",
       "      <td>False</td>\n",
       "      <td>True</td>\n",
       "    </tr>\n",
       "  </tbody>\n",
       "</table>\n",
       "</div>"
      ],
      "text/plain": [
       "      c1     c2     c3\n",
       "0  False   True  False\n",
       "1  False   True  False\n",
       "2   True  False  False\n",
       "3  False  False   True\n",
       "4  False   True  False\n",
       "5  False  False   True"
      ]
     },
     "execution_count": 97,
     "metadata": {},
     "output_type": "execute_result"
    }
   ],
   "source": [
    "pd.get_dummies(df_var['cat'])"
   ]
  },
  {
   "cell_type": "code",
   "execution_count": 98,
   "metadata": {
    "colab": {
     "base_uri": "https://localhost:8080/",
     "height": 237
    },
    "executionInfo": {
     "elapsed": 17,
     "status": "ok",
     "timestamp": 1719519703542,
     "user": {
      "displayName": "Juan F Pérez",
      "userId": "13439628769322192552"
     },
     "user_tz": 300
    },
    "id": "Z7Gb4p4zBOEa",
    "outputId": "48efdfe8-6c94-4b97-8a8b-8fa4a8eb50c3"
   },
   "outputs": [
    {
     "data": {
      "text/html": [
       "<div>\n",
       "<style scoped>\n",
       "    .dataframe tbody tr th:only-of-type {\n",
       "        vertical-align: middle;\n",
       "    }\n",
       "\n",
       "    .dataframe tbody tr th {\n",
       "        vertical-align: top;\n",
       "    }\n",
       "\n",
       "    .dataframe thead th {\n",
       "        text-align: right;\n",
       "    }\n",
       "</style>\n",
       "<table border=\"1\" class=\"dataframe\">\n",
       "  <thead>\n",
       "    <tr style=\"text-align: right;\">\n",
       "      <th></th>\n",
       "      <th>c1</th>\n",
       "      <th>c2</th>\n",
       "      <th>c3</th>\n",
       "    </tr>\n",
       "  </thead>\n",
       "  <tbody>\n",
       "    <tr>\n",
       "      <th>0</th>\n",
       "      <td>0</td>\n",
       "      <td>1</td>\n",
       "      <td>0</td>\n",
       "    </tr>\n",
       "    <tr>\n",
       "      <th>1</th>\n",
       "      <td>0</td>\n",
       "      <td>1</td>\n",
       "      <td>0</td>\n",
       "    </tr>\n",
       "    <tr>\n",
       "      <th>2</th>\n",
       "      <td>1</td>\n",
       "      <td>0</td>\n",
       "      <td>0</td>\n",
       "    </tr>\n",
       "    <tr>\n",
       "      <th>3</th>\n",
       "      <td>0</td>\n",
       "      <td>0</td>\n",
       "      <td>1</td>\n",
       "    </tr>\n",
       "    <tr>\n",
       "      <th>4</th>\n",
       "      <td>0</td>\n",
       "      <td>1</td>\n",
       "      <td>0</td>\n",
       "    </tr>\n",
       "    <tr>\n",
       "      <th>5</th>\n",
       "      <td>0</td>\n",
       "      <td>0</td>\n",
       "      <td>1</td>\n",
       "    </tr>\n",
       "  </tbody>\n",
       "</table>\n",
       "</div>"
      ],
      "text/plain": [
       "   c1  c2  c3\n",
       "0   0   1   0\n",
       "1   0   1   0\n",
       "2   1   0   0\n",
       "3   0   0   1\n",
       "4   0   1   0\n",
       "5   0   0   1"
      ]
     },
     "execution_count": 98,
     "metadata": {},
     "output_type": "execute_result"
    }
   ],
   "source": [
    "pd.get_dummies(df_var['cat'], dtype=int)"
   ]
  },
  {
   "cell_type": "code",
   "execution_count": 99,
   "metadata": {
    "colab": {
     "base_uri": "https://localhost:8080/",
     "height": 237
    },
    "executionInfo": {
     "elapsed": 16,
     "status": "ok",
     "timestamp": 1719519703542,
     "user": {
      "displayName": "Juan F Pérez",
      "userId": "13439628769322192552"
     },
     "user_tz": 300
    },
    "id": "8aUQpiHLBfA8",
    "outputId": "1c7ef8d0-8a81-4741-d8d7-674514bb2d50"
   },
   "outputs": [
    {
     "data": {
      "text/html": [
       "<div>\n",
       "<style scoped>\n",
       "    .dataframe tbody tr th:only-of-type {\n",
       "        vertical-align: middle;\n",
       "    }\n",
       "\n",
       "    .dataframe tbody tr th {\n",
       "        vertical-align: top;\n",
       "    }\n",
       "\n",
       "    .dataframe thead th {\n",
       "        text-align: right;\n",
       "    }\n",
       "</style>\n",
       "<table border=\"1\" class=\"dataframe\">\n",
       "  <thead>\n",
       "    <tr style=\"text-align: right;\">\n",
       "      <th></th>\n",
       "      <th>c1</th>\n",
       "      <th>c2</th>\n",
       "      <th>c3</th>\n",
       "    </tr>\n",
       "  </thead>\n",
       "  <tbody>\n",
       "    <tr>\n",
       "      <th>0</th>\n",
       "      <td>0.0</td>\n",
       "      <td>1.0</td>\n",
       "      <td>0.0</td>\n",
       "    </tr>\n",
       "    <tr>\n",
       "      <th>1</th>\n",
       "      <td>0.0</td>\n",
       "      <td>1.0</td>\n",
       "      <td>0.0</td>\n",
       "    </tr>\n",
       "    <tr>\n",
       "      <th>2</th>\n",
       "      <td>1.0</td>\n",
       "      <td>0.0</td>\n",
       "      <td>0.0</td>\n",
       "    </tr>\n",
       "    <tr>\n",
       "      <th>3</th>\n",
       "      <td>0.0</td>\n",
       "      <td>0.0</td>\n",
       "      <td>1.0</td>\n",
       "    </tr>\n",
       "    <tr>\n",
       "      <th>4</th>\n",
       "      <td>0.0</td>\n",
       "      <td>1.0</td>\n",
       "      <td>0.0</td>\n",
       "    </tr>\n",
       "    <tr>\n",
       "      <th>5</th>\n",
       "      <td>0.0</td>\n",
       "      <td>0.0</td>\n",
       "      <td>1.0</td>\n",
       "    </tr>\n",
       "  </tbody>\n",
       "</table>\n",
       "</div>"
      ],
      "text/plain": [
       "    c1   c2   c3\n",
       "0  0.0  1.0  0.0\n",
       "1  0.0  1.0  0.0\n",
       "2  1.0  0.0  0.0\n",
       "3  0.0  0.0  1.0\n",
       "4  0.0  1.0  0.0\n",
       "5  0.0  0.0  1.0"
      ]
     },
     "execution_count": 99,
     "metadata": {},
     "output_type": "execute_result"
    }
   ],
   "source": [
    "pd.get_dummies(df_var['cat'], dtype=float)"
   ]
  },
  {
   "cell_type": "code",
   "execution_count": 100,
   "metadata": {
    "colab": {
     "base_uri": "https://localhost:8080/",
     "height": 237
    },
    "executionInfo": {
     "elapsed": 15,
     "status": "ok",
     "timestamp": 1719519703542,
     "user": {
      "displayName": "Juan F Pérez",
      "userId": "13439628769322192552"
     },
     "user_tz": 300
    },
    "id": "kMaA7qeXBkPB",
    "outputId": "8854362b-39c3-4d9c-c1fc-06971d28fb32"
   },
   "outputs": [
    {
     "data": {
      "text/html": [
       "<div>\n",
       "<style scoped>\n",
       "    .dataframe tbody tr th:only-of-type {\n",
       "        vertical-align: middle;\n",
       "    }\n",
       "\n",
       "    .dataframe tbody tr th {\n",
       "        vertical-align: top;\n",
       "    }\n",
       "\n",
       "    .dataframe thead th {\n",
       "        text-align: right;\n",
       "    }\n",
       "</style>\n",
       "<table border=\"1\" class=\"dataframe\">\n",
       "  <thead>\n",
       "    <tr style=\"text-align: right;\">\n",
       "      <th></th>\n",
       "      <th>cat_c1</th>\n",
       "      <th>cat_c2</th>\n",
       "      <th>cat_c3</th>\n",
       "    </tr>\n",
       "  </thead>\n",
       "  <tbody>\n",
       "    <tr>\n",
       "      <th>0</th>\n",
       "      <td>0</td>\n",
       "      <td>1</td>\n",
       "      <td>0</td>\n",
       "    </tr>\n",
       "    <tr>\n",
       "      <th>1</th>\n",
       "      <td>0</td>\n",
       "      <td>1</td>\n",
       "      <td>0</td>\n",
       "    </tr>\n",
       "    <tr>\n",
       "      <th>2</th>\n",
       "      <td>1</td>\n",
       "      <td>0</td>\n",
       "      <td>0</td>\n",
       "    </tr>\n",
       "    <tr>\n",
       "      <th>3</th>\n",
       "      <td>0</td>\n",
       "      <td>0</td>\n",
       "      <td>1</td>\n",
       "    </tr>\n",
       "    <tr>\n",
       "      <th>4</th>\n",
       "      <td>0</td>\n",
       "      <td>1</td>\n",
       "      <td>0</td>\n",
       "    </tr>\n",
       "    <tr>\n",
       "      <th>5</th>\n",
       "      <td>0</td>\n",
       "      <td>0</td>\n",
       "      <td>1</td>\n",
       "    </tr>\n",
       "  </tbody>\n",
       "</table>\n",
       "</div>"
      ],
      "text/plain": [
       "   cat_c1  cat_c2  cat_c3\n",
       "0       0       1       0\n",
       "1       0       1       0\n",
       "2       1       0       0\n",
       "3       0       0       1\n",
       "4       0       1       0\n",
       "5       0       0       1"
      ]
     },
     "execution_count": 100,
     "metadata": {},
     "output_type": "execute_result"
    }
   ],
   "source": [
    "pd.get_dummies(df_var['cat'], dtype=int, prefix='cat')"
   ]
  },
  {
   "cell_type": "code",
   "execution_count": 101,
   "metadata": {
    "colab": {
     "base_uri": "https://localhost:8080/",
     "height": 237
    },
    "executionInfo": {
     "elapsed": 14,
     "status": "ok",
     "timestamp": 1719519703542,
     "user": {
      "displayName": "Juan F Pérez",
      "userId": "13439628769322192552"
     },
     "user_tz": 300
    },
    "id": "vYDo8wZnVsrl",
    "outputId": "15c7aa4a-9bcb-4338-e56c-4e26dfe64c35"
   },
   "outputs": [
    {
     "data": {
      "text/html": [
       "<div>\n",
       "<style scoped>\n",
       "    .dataframe tbody tr th:only-of-type {\n",
       "        vertical-align: middle;\n",
       "    }\n",
       "\n",
       "    .dataframe tbody tr th {\n",
       "        vertical-align: top;\n",
       "    }\n",
       "\n",
       "    .dataframe thead th {\n",
       "        text-align: right;\n",
       "    }\n",
       "</style>\n",
       "<table border=\"1\" class=\"dataframe\">\n",
       "  <thead>\n",
       "    <tr style=\"text-align: right;\">\n",
       "      <th></th>\n",
       "      <th>cat</th>\n",
       "      <th>val</th>\n",
       "      <th>cat_c1</th>\n",
       "      <th>cat_c2</th>\n",
       "      <th>cat_c3</th>\n",
       "    </tr>\n",
       "  </thead>\n",
       "  <tbody>\n",
       "    <tr>\n",
       "      <th>0</th>\n",
       "      <td>c2</td>\n",
       "      <td>0.0</td>\n",
       "      <td>0</td>\n",
       "      <td>1</td>\n",
       "      <td>0</td>\n",
       "    </tr>\n",
       "    <tr>\n",
       "      <th>1</th>\n",
       "      <td>c2</td>\n",
       "      <td>1.0</td>\n",
       "      <td>0</td>\n",
       "      <td>1</td>\n",
       "      <td>0</td>\n",
       "    </tr>\n",
       "    <tr>\n",
       "      <th>2</th>\n",
       "      <td>c1</td>\n",
       "      <td>2.0</td>\n",
       "      <td>1</td>\n",
       "      <td>0</td>\n",
       "      <td>0</td>\n",
       "    </tr>\n",
       "    <tr>\n",
       "      <th>3</th>\n",
       "      <td>c3</td>\n",
       "      <td>3.0</td>\n",
       "      <td>0</td>\n",
       "      <td>0</td>\n",
       "      <td>1</td>\n",
       "    </tr>\n",
       "    <tr>\n",
       "      <th>4</th>\n",
       "      <td>c2</td>\n",
       "      <td>4.0</td>\n",
       "      <td>0</td>\n",
       "      <td>1</td>\n",
       "      <td>0</td>\n",
       "    </tr>\n",
       "    <tr>\n",
       "      <th>5</th>\n",
       "      <td>c3</td>\n",
       "      <td>5.0</td>\n",
       "      <td>0</td>\n",
       "      <td>0</td>\n",
       "      <td>1</td>\n",
       "    </tr>\n",
       "  </tbody>\n",
       "</table>\n",
       "</div>"
      ],
      "text/plain": [
       "  cat  val  cat_c1  cat_c2  cat_c3\n",
       "0  c2  0.0       0       1       0\n",
       "1  c2  1.0       0       1       0\n",
       "2  c1  2.0       1       0       0\n",
       "3  c3  3.0       0       0       1\n",
       "4  c2  4.0       0       1       0\n",
       "5  c3  5.0       0       0       1"
      ]
     },
     "execution_count": 101,
     "metadata": {},
     "output_type": "execute_result"
    }
   ],
   "source": [
    "df_var_dummies = df_var.join(pd.get_dummies(df_var['cat'], dtype=int, prefix='cat'))\n",
    "df_var_dummies"
   ]
  },
  {
   "cell_type": "code",
   "execution_count": 102,
   "metadata": {
    "colab": {
     "base_uri": "https://localhost:8080/",
     "height": 237
    },
    "executionInfo": {
     "elapsed": 13,
     "status": "ok",
     "timestamp": 1719519703542,
     "user": {
      "displayName": "Juan F Pérez",
      "userId": "13439628769322192552"
     },
     "user_tz": 300
    },
    "id": "LWkz2ZwOV-rM",
    "outputId": "2bb234d3-836b-4e76-c080-e9589bd166f5"
   },
   "outputs": [
    {
     "data": {
      "text/html": [
       "<div>\n",
       "<style scoped>\n",
       "    .dataframe tbody tr th:only-of-type {\n",
       "        vertical-align: middle;\n",
       "    }\n",
       "\n",
       "    .dataframe tbody tr th {\n",
       "        vertical-align: top;\n",
       "    }\n",
       "\n",
       "    .dataframe thead th {\n",
       "        text-align: right;\n",
       "    }\n",
       "</style>\n",
       "<table border=\"1\" class=\"dataframe\">\n",
       "  <thead>\n",
       "    <tr style=\"text-align: right;\">\n",
       "      <th></th>\n",
       "      <th>val</th>\n",
       "      <th>cat_c1</th>\n",
       "      <th>cat_c2</th>\n",
       "      <th>cat_c3</th>\n",
       "    </tr>\n",
       "  </thead>\n",
       "  <tbody>\n",
       "    <tr>\n",
       "      <th>0</th>\n",
       "      <td>0.0</td>\n",
       "      <td>0</td>\n",
       "      <td>1</td>\n",
       "      <td>0</td>\n",
       "    </tr>\n",
       "    <tr>\n",
       "      <th>1</th>\n",
       "      <td>1.0</td>\n",
       "      <td>0</td>\n",
       "      <td>1</td>\n",
       "      <td>0</td>\n",
       "    </tr>\n",
       "    <tr>\n",
       "      <th>2</th>\n",
       "      <td>2.0</td>\n",
       "      <td>1</td>\n",
       "      <td>0</td>\n",
       "      <td>0</td>\n",
       "    </tr>\n",
       "    <tr>\n",
       "      <th>3</th>\n",
       "      <td>3.0</td>\n",
       "      <td>0</td>\n",
       "      <td>0</td>\n",
       "      <td>1</td>\n",
       "    </tr>\n",
       "    <tr>\n",
       "      <th>4</th>\n",
       "      <td>4.0</td>\n",
       "      <td>0</td>\n",
       "      <td>1</td>\n",
       "      <td>0</td>\n",
       "    </tr>\n",
       "    <tr>\n",
       "      <th>5</th>\n",
       "      <td>5.0</td>\n",
       "      <td>0</td>\n",
       "      <td>0</td>\n",
       "      <td>1</td>\n",
       "    </tr>\n",
       "  </tbody>\n",
       "</table>\n",
       "</div>"
      ],
      "text/plain": [
       "   val  cat_c1  cat_c2  cat_c3\n",
       "0  0.0       0       1       0\n",
       "1  1.0       0       1       0\n",
       "2  2.0       1       0       0\n",
       "3  3.0       0       0       1\n",
       "4  4.0       0       1       0\n",
       "5  5.0       0       0       1"
      ]
     },
     "execution_count": 102,
     "metadata": {},
     "output_type": "execute_result"
    }
   ],
   "source": [
    "df_var_dummies = df_var.join(pd.get_dummies(df_var['cat'], dtype=int, prefix='cat')).drop('cat',axis=1)\n",
    "df_var_dummies"
   ]
  },
  {
   "cell_type": "markdown",
   "metadata": {
    "id": "EM-iQa_EWjQi"
   },
   "source": [
    "Discretización + dummies"
   ]
  },
  {
   "cell_type": "code",
   "execution_count": 103,
   "metadata": {
    "colab": {
     "base_uri": "https://localhost:8080/"
    },
    "executionInfo": {
     "elapsed": 362,
     "status": "ok",
     "timestamp": 1719519703892,
     "user": {
      "displayName": "Juan F Pérez",
      "userId": "13439628769322192552"
     },
     "user_tz": 300
    },
    "id": "kz_pNqXHWidJ",
    "outputId": "4a601778-5841-40e7-be41-17e2a94faa3d"
   },
   "outputs": [
    {
     "data": {
      "text/plain": [
       "0      (40, 50]\n",
       "1      (30, 40]\n",
       "2      (30, 40]\n",
       "3      (18, 30]\n",
       "4      (30, 40]\n",
       "         ...   \n",
       "763    (60, 70]\n",
       "764    (18, 30]\n",
       "765    (18, 30]\n",
       "766    (40, 50]\n",
       "767    (18, 30]\n",
       "Name: Age, Length: 768, dtype: category\n",
       "Categories (6, interval[int64, right]): [(18, 30] < (30, 40] < (40, 50] < (50, 60] < (60, 70] < (70, 100]]"
      ]
     },
     "execution_count": 103,
     "metadata": {},
     "output_type": "execute_result"
    }
   ],
   "source": [
    "edad_cat = pd.cut(edad, bins)\n",
    "edad_cat"
   ]
  },
  {
   "cell_type": "code",
   "execution_count": 104,
   "metadata": {
    "colab": {
     "base_uri": "https://localhost:8080/",
     "height": 423
    },
    "executionInfo": {
     "elapsed": 4,
     "status": "ok",
     "timestamp": 1719519703893,
     "user": {
      "displayName": "Juan F Pérez",
      "userId": "13439628769322192552"
     },
     "user_tz": 300
    },
    "id": "nriQF98pWoPy",
    "outputId": "fa86bd1e-549d-40e0-d7dc-5441b1de3a62"
   },
   "outputs": [
    {
     "data": {
      "text/html": [
       "<div>\n",
       "<style scoped>\n",
       "    .dataframe tbody tr th:only-of-type {\n",
       "        vertical-align: middle;\n",
       "    }\n",
       "\n",
       "    .dataframe tbody tr th {\n",
       "        vertical-align: top;\n",
       "    }\n",
       "\n",
       "    .dataframe thead th {\n",
       "        text-align: right;\n",
       "    }\n",
       "</style>\n",
       "<table border=\"1\" class=\"dataframe\">\n",
       "  <thead>\n",
       "    <tr style=\"text-align: right;\">\n",
       "      <th></th>\n",
       "      <th>(18, 30]</th>\n",
       "      <th>(30, 40]</th>\n",
       "      <th>(40, 50]</th>\n",
       "      <th>(50, 60]</th>\n",
       "      <th>(60, 70]</th>\n",
       "      <th>(70, 100]</th>\n",
       "    </tr>\n",
       "  </thead>\n",
       "  <tbody>\n",
       "    <tr>\n",
       "      <th>0</th>\n",
       "      <td>0</td>\n",
       "      <td>0</td>\n",
       "      <td>1</td>\n",
       "      <td>0</td>\n",
       "      <td>0</td>\n",
       "      <td>0</td>\n",
       "    </tr>\n",
       "    <tr>\n",
       "      <th>1</th>\n",
       "      <td>0</td>\n",
       "      <td>1</td>\n",
       "      <td>0</td>\n",
       "      <td>0</td>\n",
       "      <td>0</td>\n",
       "      <td>0</td>\n",
       "    </tr>\n",
       "    <tr>\n",
       "      <th>2</th>\n",
       "      <td>0</td>\n",
       "      <td>1</td>\n",
       "      <td>0</td>\n",
       "      <td>0</td>\n",
       "      <td>0</td>\n",
       "      <td>0</td>\n",
       "    </tr>\n",
       "    <tr>\n",
       "      <th>3</th>\n",
       "      <td>1</td>\n",
       "      <td>0</td>\n",
       "      <td>0</td>\n",
       "      <td>0</td>\n",
       "      <td>0</td>\n",
       "      <td>0</td>\n",
       "    </tr>\n",
       "    <tr>\n",
       "      <th>4</th>\n",
       "      <td>0</td>\n",
       "      <td>1</td>\n",
       "      <td>0</td>\n",
       "      <td>0</td>\n",
       "      <td>0</td>\n",
       "      <td>0</td>\n",
       "    </tr>\n",
       "    <tr>\n",
       "      <th>...</th>\n",
       "      <td>...</td>\n",
       "      <td>...</td>\n",
       "      <td>...</td>\n",
       "      <td>...</td>\n",
       "      <td>...</td>\n",
       "      <td>...</td>\n",
       "    </tr>\n",
       "    <tr>\n",
       "      <th>763</th>\n",
       "      <td>0</td>\n",
       "      <td>0</td>\n",
       "      <td>0</td>\n",
       "      <td>0</td>\n",
       "      <td>1</td>\n",
       "      <td>0</td>\n",
       "    </tr>\n",
       "    <tr>\n",
       "      <th>764</th>\n",
       "      <td>1</td>\n",
       "      <td>0</td>\n",
       "      <td>0</td>\n",
       "      <td>0</td>\n",
       "      <td>0</td>\n",
       "      <td>0</td>\n",
       "    </tr>\n",
       "    <tr>\n",
       "      <th>765</th>\n",
       "      <td>1</td>\n",
       "      <td>0</td>\n",
       "      <td>0</td>\n",
       "      <td>0</td>\n",
       "      <td>0</td>\n",
       "      <td>0</td>\n",
       "    </tr>\n",
       "    <tr>\n",
       "      <th>766</th>\n",
       "      <td>0</td>\n",
       "      <td>0</td>\n",
       "      <td>1</td>\n",
       "      <td>0</td>\n",
       "      <td>0</td>\n",
       "      <td>0</td>\n",
       "    </tr>\n",
       "    <tr>\n",
       "      <th>767</th>\n",
       "      <td>1</td>\n",
       "      <td>0</td>\n",
       "      <td>0</td>\n",
       "      <td>0</td>\n",
       "      <td>0</td>\n",
       "      <td>0</td>\n",
       "    </tr>\n",
       "  </tbody>\n",
       "</table>\n",
       "<p>768 rows × 6 columns</p>\n",
       "</div>"
      ],
      "text/plain": [
       "     (18, 30]  (30, 40]  (40, 50]  (50, 60]  (60, 70]  (70, 100]\n",
       "0           0         0         1         0         0          0\n",
       "1           0         1         0         0         0          0\n",
       "2           0         1         0         0         0          0\n",
       "3           1         0         0         0         0          0\n",
       "4           0         1         0         0         0          0\n",
       "..        ...       ...       ...       ...       ...        ...\n",
       "763         0         0         0         0         1          0\n",
       "764         1         0         0         0         0          0\n",
       "765         1         0         0         0         0          0\n",
       "766         0         0         1         0         0          0\n",
       "767         1         0         0         0         0          0\n",
       "\n",
       "[768 rows x 6 columns]"
      ]
     },
     "execution_count": 104,
     "metadata": {},
     "output_type": "execute_result"
    }
   ],
   "source": [
    "edad_cat_dummies = pd.get_dummies(pd.cut(edad, bins), dtype=int)\n",
    "edad_cat_dummies"
   ]
  },
  {
   "cell_type": "markdown",
   "metadata": {
    "id": "iCMewb0H07c7"
   },
   "source": [
    "### Cadenas de caracteres"
   ]
  },
  {
   "cell_type": "code",
   "execution_count": 105,
   "metadata": {
    "executionInfo": {
     "elapsed": 332,
     "status": "ok",
     "timestamp": 1719519799310,
     "user": {
      "displayName": "Juan F Pérez",
      "userId": "13439628769322192552"
     },
     "user_tz": 300
    },
    "id": "K224CR_0LUPk"
   },
   "outputs": [],
   "source": [
    "my_str = 'uno, dos, tres'"
   ]
  },
  {
   "cell_type": "code",
   "execution_count": 106,
   "metadata": {
    "colab": {
     "base_uri": "https://localhost:8080/"
    },
    "executionInfo": {
     "elapsed": 348,
     "status": "ok",
     "timestamp": 1719519816738,
     "user": {
      "displayName": "Juan F Pérez",
      "userId": "13439628769322192552"
     },
     "user_tz": 300
    },
    "id": "rDkrXpbwXfrz",
    "outputId": "2ae75820-761e-4c2e-99be-9098a0387473"
   },
   "outputs": [
    {
     "data": {
      "text/plain": [
       "['uno,', 'dos,', 'tres']"
      ]
     },
     "execution_count": 106,
     "metadata": {},
     "output_type": "execute_result"
    }
   ],
   "source": [
    "my_str.split()"
   ]
  },
  {
   "cell_type": "code",
   "execution_count": 107,
   "metadata": {
    "colab": {
     "base_uri": "https://localhost:8080/"
    },
    "executionInfo": {
     "elapsed": 347,
     "status": "ok",
     "timestamp": 1719519837600,
     "user": {
      "displayName": "Juan F Pérez",
      "userId": "13439628769322192552"
     },
     "user_tz": 300
    },
    "id": "Jua0Odo1Xl8t",
    "outputId": "b0f97bce-7480-44ba-c64e-3fc6ee8e48fb"
   },
   "outputs": [
    {
     "data": {
      "text/plain": [
       "['uno,', 'dos,', 'tres']"
      ]
     },
     "execution_count": 107,
     "metadata": {},
     "output_type": "execute_result"
    }
   ],
   "source": [
    "my_str.split(' ')"
   ]
  },
  {
   "cell_type": "code",
   "execution_count": 108,
   "metadata": {
    "colab": {
     "base_uri": "https://localhost:8080/"
    },
    "executionInfo": {
     "elapsed": 385,
     "status": "ok",
     "timestamp": 1719519846866,
     "user": {
      "displayName": "Juan F Pérez",
      "userId": "13439628769322192552"
     },
     "user_tz": 300
    },
    "id": "oaJgIq7UXoZD",
    "outputId": "6cdf30c2-8784-4f2a-bda6-e39778b7481a"
   },
   "outputs": [
    {
     "data": {
      "text/plain": [
       "['uno', ' dos', ' tres']"
      ]
     },
     "execution_count": 108,
     "metadata": {},
     "output_type": "execute_result"
    }
   ],
   "source": [
    "my_str.split(',')"
   ]
  },
  {
   "cell_type": "code",
   "execution_count": 109,
   "metadata": {
    "colab": {
     "base_uri": "https://localhost:8080/",
     "height": 36
    },
    "executionInfo": {
     "elapsed": 354,
     "status": "ok",
     "timestamp": 1719519870018,
     "user": {
      "displayName": "Juan F Pérez",
      "userId": "13439628769322192552"
     },
     "user_tz": 300
    },
    "id": "hH6aJYkhXtUF",
    "outputId": "66361ecc-00e1-493e-866e-6db498b742c1"
   },
   "outputs": [
    {
     "data": {
      "text/plain": [
       "'uno, dos, tres'"
      ]
     },
     "execution_count": 109,
     "metadata": {},
     "output_type": "execute_result"
    }
   ],
   "source": [
    "my_str.strip()"
   ]
  },
  {
   "cell_type": "code",
   "execution_count": 110,
   "metadata": {
    "colab": {
     "base_uri": "https://localhost:8080/"
    },
    "executionInfo": {
     "elapsed": 367,
     "status": "ok",
     "timestamp": 1719519910387,
     "user": {
      "displayName": "Juan F Pérez",
      "userId": "13439628769322192552"
     },
     "user_tz": 300
    },
    "id": "n4lvBtCEXxhk",
    "outputId": "a72dd215-f8a8-4c74-9a8c-a978bd2d95ba"
   },
   "outputs": [
    {
     "data": {
      "text/plain": [
       "['uno', 'dos', 'tres']"
      ]
     },
     "execution_count": 110,
     "metadata": {},
     "output_type": "execute_result"
    }
   ],
   "source": [
    "[x.strip() for x in my_str.split(',')]"
   ]
  },
  {
   "cell_type": "code",
   "execution_count": 111,
   "metadata": {
    "colab": {
     "base_uri": "https://localhost:8080/"
    },
    "executionInfo": {
     "elapsed": 7,
     "status": "ok",
     "timestamp": 1719519950609,
     "user": {
      "displayName": "Juan F Pérez",
      "userId": "13439628769322192552"
     },
     "user_tz": 300
    },
    "id": "lar8S8nLYBR7",
    "outputId": "f762e734-4d67-42fc-f33c-062b9903d359"
   },
   "outputs": [
    {
     "data": {
      "text/plain": [
       "['uno', 'dos', 'tres']"
      ]
     },
     "execution_count": 111,
     "metadata": {},
     "output_type": "execute_result"
    }
   ],
   "source": [
    "partes = [x.strip() for x in my_str.split(',')]\n",
    "partes"
   ]
  },
  {
   "cell_type": "code",
   "execution_count": 112,
   "metadata": {
    "colab": {
     "base_uri": "https://localhost:8080/"
    },
    "executionInfo": {
     "elapsed": 323,
     "status": "ok",
     "timestamp": 1719519984552,
     "user": {
      "displayName": "Juan F Pérez",
      "userId": "13439628769322192552"
     },
     "user_tz": 300
    },
    "id": "9oGJaJ1_X-R2",
    "outputId": "367c5866-306a-47c7-f9cd-e3e3acb9ebbe"
   },
   "outputs": [
    {
     "name": "stdout",
     "output_type": "stream",
     "text": [
      "uno\n",
      "dos\n",
      "tres\n"
     ]
    }
   ],
   "source": [
    "a,b,c=partes\n",
    "print(a)\n",
    "print(b)\n",
    "print(c)"
   ]
  },
  {
   "cell_type": "code",
   "execution_count": 113,
   "metadata": {
    "colab": {
     "base_uri": "https://localhost:8080/",
     "height": 36
    },
    "executionInfo": {
     "elapsed": 365,
     "status": "ok",
     "timestamp": 1719519998794,
     "user": {
      "displayName": "Juan F Pérez",
      "userId": "13439628769322192552"
     },
     "user_tz": 300
    },
    "id": "La7N7SY7YE5-",
    "outputId": "0d4bfca4-0e5b-4ca3-8b8d-31750aa316e0"
   },
   "outputs": [
    {
     "data": {
      "text/plain": [
       "'unodostres'"
      ]
     },
     "execution_count": 113,
     "metadata": {},
     "output_type": "execute_result"
    }
   ],
   "source": [
    "a+b+c"
   ]
  },
  {
   "cell_type": "code",
   "execution_count": 114,
   "metadata": {
    "colab": {
     "base_uri": "https://localhost:8080/",
     "height": 36
    },
    "executionInfo": {
     "elapsed": 326,
     "status": "ok",
     "timestamp": 1719520013474,
     "user": {
      "displayName": "Juan F Pérez",
      "userId": "13439628769322192552"
     },
     "user_tz": 300
    },
    "id": "G8h6j671YP2M",
    "outputId": "6ba9683e-0b86-470c-d007-4c7d1d6b3b83"
   },
   "outputs": [
    {
     "data": {
      "text/plain": [
       "'uno dos tres'"
      ]
     },
     "execution_count": 114,
     "metadata": {},
     "output_type": "execute_result"
    }
   ],
   "source": [
    "a+' '+b+' '+c"
   ]
  },
  {
   "cell_type": "code",
   "execution_count": 115,
   "metadata": {
    "colab": {
     "base_uri": "https://localhost:8080/",
     "height": 36
    },
    "executionInfo": {
     "elapsed": 331,
     "status": "ok",
     "timestamp": 1719520039496,
     "user": {
      "displayName": "Juan F Pérez",
      "userId": "13439628769322192552"
     },
     "user_tz": 300
    },
    "id": "beZuWEtTYTPk",
    "outputId": "4279444b-137c-4b6f-9fa5-e1da926d4434"
   },
   "outputs": [
    {
     "data": {
      "text/plain": [
       "'uno dos tres'"
      ]
     },
     "execution_count": 115,
     "metadata": {},
     "output_type": "execute_result"
    }
   ],
   "source": [
    "' '.join(partes)"
   ]
  },
  {
   "cell_type": "code",
   "execution_count": 116,
   "metadata": {
    "executionInfo": {
     "elapsed": 434,
     "status": "ok",
     "timestamp": 1719520083623,
     "user": {
      "displayName": "Juan F Pérez",
      "userId": "13439628769322192552"
     },
     "user_tz": 300
    },
    "id": "lXFRyzDVYhKV"
   },
   "outputs": [],
   "source": [
    "unidas = ' '.join(partes)"
   ]
  },
  {
   "cell_type": "code",
   "execution_count": 117,
   "metadata": {
    "colab": {
     "base_uri": "https://localhost:8080/"
    },
    "executionInfo": {
     "elapsed": 373,
     "status": "ok",
     "timestamp": 1719520093058,
     "user": {
      "displayName": "Juan F Pérez",
      "userId": "13439628769322192552"
     },
     "user_tz": 300
    },
    "id": "cg-BGj9nYkD2",
    "outputId": "242847b5-d7f7-4d95-e39a-7f62da32f0c7"
   },
   "outputs": [
    {
     "data": {
      "text/plain": [
       "8"
      ]
     },
     "execution_count": 117,
     "metadata": {},
     "output_type": "execute_result"
    }
   ],
   "source": [
    "unidas.index('t')"
   ]
  },
  {
   "cell_type": "code",
   "execution_count": 118,
   "metadata": {
    "colab": {
     "base_uri": "https://localhost:8080/"
    },
    "executionInfo": {
     "elapsed": 4,
     "status": "ok",
     "timestamp": 1719520101804,
     "user": {
      "displayName": "Juan F Pérez",
      "userId": "13439628769322192552"
     },
     "user_tz": 300
    },
    "id": "NLwx-6NdYm5P",
    "outputId": "34edb9f5-3e85-4d46-d987-4b69a4f04727"
   },
   "outputs": [
    {
     "data": {
      "text/plain": [
       "True"
      ]
     },
     "execution_count": 118,
     "metadata": {},
     "output_type": "execute_result"
    }
   ],
   "source": [
    "'t' in unidas"
   ]
  },
  {
   "cell_type": "code",
   "execution_count": 119,
   "metadata": {
    "colab": {
     "base_uri": "https://localhost:8080/"
    },
    "executionInfo": {
     "elapsed": 336,
     "status": "ok",
     "timestamp": 1719520113024,
     "user": {
      "displayName": "Juan F Pérez",
      "userId": "13439628769322192552"
     },
     "user_tz": 300
    },
    "id": "2XNc-AhNYozs",
    "outputId": "d5153813-df56-4b6c-a048-813e2ee5b9ca"
   },
   "outputs": [
    {
     "data": {
      "text/plain": [
       "8"
      ]
     },
     "execution_count": 119,
     "metadata": {},
     "output_type": "execute_result"
    }
   ],
   "source": [
    "unidas.find('t')"
   ]
  },
  {
   "cell_type": "code",
   "execution_count": 120,
   "metadata": {
    "colab": {
     "base_uri": "https://localhost:8080/"
    },
    "executionInfo": {
     "elapsed": 423,
     "status": "ok",
     "timestamp": 1719520129576,
     "user": {
      "displayName": "Juan F Pérez",
      "userId": "13439628769322192552"
     },
     "user_tz": 300
    },
    "id": "fuS-3z7yYr6v",
    "outputId": "2ee95a35-0ba5-4d63-ff30-33d6950f9002"
   },
   "outputs": [
    {
     "data": {
      "text/plain": [
       "-1"
      ]
     },
     "execution_count": 120,
     "metadata": {},
     "output_type": "execute_result"
    }
   ],
   "source": [
    "unidas.find('x')"
   ]
  },
  {
   "cell_type": "code",
   "execution_count": 121,
   "metadata": {
    "colab": {
     "base_uri": "https://localhost:8080/",
     "height": 141
    },
    "executionInfo": {
     "elapsed": 443,
     "status": "error",
     "timestamp": 1719520141794,
     "user": {
      "displayName": "Juan F Pérez",
      "userId": "13439628769322192552"
     },
     "user_tz": 300
    },
    "id": "u5cagmByYvnf",
    "outputId": "d67d565c-6fd5-4d0e-e21b-668f64a18f46"
   },
   "outputs": [
    {
     "ename": "ValueError",
     "evalue": "substring not found",
     "output_type": "error",
     "traceback": [
      "\u001b[31m---------------------------------------------------------------------------\u001b[39m",
      "\u001b[31mValueError\u001b[39m                                Traceback (most recent call last)",
      "\u001b[36mCell\u001b[39m\u001b[36m \u001b[39m\u001b[32mIn[121]\u001b[39m\u001b[32m, line 1\u001b[39m\n\u001b[32m----> \u001b[39m\u001b[32m1\u001b[39m \u001b[43munidas\u001b[49m\u001b[43m.\u001b[49m\u001b[43mindex\u001b[49m\u001b[43m(\u001b[49m\u001b[33;43m'\u001b[39;49m\u001b[33;43mx\u001b[39;49m\u001b[33;43m'\u001b[39;49m\u001b[43m)\u001b[49m\n",
      "\u001b[31mValueError\u001b[39m: substring not found"
     ]
    }
   ],
   "source": [
    "unidas.index('x')"
   ]
  },
  {
   "cell_type": "markdown",
   "metadata": {
    "id": "-eICEopLZFY1"
   },
   "source": [
    "Métodos para cadenas de caracteres en Python\n",
    "\n",
    "https://docs.python.org/3/library/stdtypes.html#string-methods"
   ]
  },
  {
   "cell_type": "markdown",
   "metadata": {
    "id": "Ny8NXXD2a8Yk"
   },
   "source": [
    "### Cadenas de caracteres en Pandas"
   ]
  },
  {
   "cell_type": "code",
   "execution_count": null,
   "metadata": {
    "executionInfo": {
     "elapsed": 803,
     "status": "ok",
     "timestamp": 1719520840467,
     "user": {
      "displayName": "Juan F Pérez",
      "userId": "13439628769322192552"
     },
     "user_tz": 300
    },
    "id": "ntSIF6GFa_DW"
   },
   "outputs": [],
   "source": [
    "dft = pd.read_csv(\"titanic.csv\")"
   ]
  },
  {
   "cell_type": "code",
   "execution_count": null,
   "metadata": {
    "colab": {
     "base_uri": "https://localhost:8080/",
     "height": 206
    },
    "executionInfo": {
     "elapsed": 400,
     "status": "ok",
     "timestamp": 1719520843979,
     "user": {
      "displayName": "Juan F Pérez",
      "userId": "13439628769322192552"
     },
     "user_tz": 300
    },
    "id": "aieltjOmbKjf",
    "outputId": "06e96239-2acf-4293-cbe2-48f2c9db796f"
   },
   "outputs": [
    {
     "data": {
      "text/html": [
       "<div>\n",
       "<style scoped>\n",
       "    .dataframe tbody tr th:only-of-type {\n",
       "        vertical-align: middle;\n",
       "    }\n",
       "\n",
       "    .dataframe tbody tr th {\n",
       "        vertical-align: top;\n",
       "    }\n",
       "\n",
       "    .dataframe thead th {\n",
       "        text-align: right;\n",
       "    }\n",
       "</style>\n",
       "<table border=\"1\" class=\"dataframe\">\n",
       "  <thead>\n",
       "    <tr style=\"text-align: right;\">\n",
       "      <th></th>\n",
       "      <th>PassengerId</th>\n",
       "      <th>Survived</th>\n",
       "      <th>Pclass</th>\n",
       "      <th>Name</th>\n",
       "      <th>Sex</th>\n",
       "      <th>Age</th>\n",
       "      <th>SibSp</th>\n",
       "      <th>Parch</th>\n",
       "      <th>Ticket</th>\n",
       "      <th>Fare</th>\n",
       "      <th>Cabin</th>\n",
       "      <th>Embarked</th>\n",
       "    </tr>\n",
       "  </thead>\n",
       "  <tbody>\n",
       "    <tr>\n",
       "      <th>0</th>\n",
       "      <td>1</td>\n",
       "      <td>0</td>\n",
       "      <td>3</td>\n",
       "      <td>Braund, Mr. Owen Harris</td>\n",
       "      <td>male</td>\n",
       "      <td>22.0</td>\n",
       "      <td>1</td>\n",
       "      <td>0</td>\n",
       "      <td>A/5 21171</td>\n",
       "      <td>7.2500</td>\n",
       "      <td>NaN</td>\n",
       "      <td>S</td>\n",
       "    </tr>\n",
       "    <tr>\n",
       "      <th>1</th>\n",
       "      <td>2</td>\n",
       "      <td>1</td>\n",
       "      <td>1</td>\n",
       "      <td>Cumings, Mrs. John Bradley (Florence Briggs Th...</td>\n",
       "      <td>female</td>\n",
       "      <td>38.0</td>\n",
       "      <td>1</td>\n",
       "      <td>0</td>\n",
       "      <td>PC 17599</td>\n",
       "      <td>71.2833</td>\n",
       "      <td>C85</td>\n",
       "      <td>C</td>\n",
       "    </tr>\n",
       "    <tr>\n",
       "      <th>2</th>\n",
       "      <td>3</td>\n",
       "      <td>1</td>\n",
       "      <td>3</td>\n",
       "      <td>Heikkinen, Miss. Laina</td>\n",
       "      <td>female</td>\n",
       "      <td>26.0</td>\n",
       "      <td>0</td>\n",
       "      <td>0</td>\n",
       "      <td>STON/O2. 3101282</td>\n",
       "      <td>7.9250</td>\n",
       "      <td>NaN</td>\n",
       "      <td>S</td>\n",
       "    </tr>\n",
       "    <tr>\n",
       "      <th>3</th>\n",
       "      <td>4</td>\n",
       "      <td>1</td>\n",
       "      <td>1</td>\n",
       "      <td>Futrelle, Mrs. Jacques Heath (Lily May Peel)</td>\n",
       "      <td>female</td>\n",
       "      <td>35.0</td>\n",
       "      <td>1</td>\n",
       "      <td>0</td>\n",
       "      <td>113803</td>\n",
       "      <td>53.1000</td>\n",
       "      <td>C123</td>\n",
       "      <td>S</td>\n",
       "    </tr>\n",
       "    <tr>\n",
       "      <th>4</th>\n",
       "      <td>5</td>\n",
       "      <td>0</td>\n",
       "      <td>3</td>\n",
       "      <td>Allen, Mr. William Henry</td>\n",
       "      <td>male</td>\n",
       "      <td>35.0</td>\n",
       "      <td>0</td>\n",
       "      <td>0</td>\n",
       "      <td>373450</td>\n",
       "      <td>8.0500</td>\n",
       "      <td>NaN</td>\n",
       "      <td>S</td>\n",
       "    </tr>\n",
       "  </tbody>\n",
       "</table>\n",
       "</div>"
      ],
      "text/plain": [
       "   PassengerId  Survived  Pclass  \\\n",
       "0            1         0       3   \n",
       "1            2         1       1   \n",
       "2            3         1       3   \n",
       "3            4         1       1   \n",
       "4            5         0       3   \n",
       "\n",
       "                                                Name     Sex   Age  SibSp  \\\n",
       "0                            Braund, Mr. Owen Harris    male  22.0      1   \n",
       "1  Cumings, Mrs. John Bradley (Florence Briggs Th...  female  38.0      1   \n",
       "2                             Heikkinen, Miss. Laina  female  26.0      0   \n",
       "3       Futrelle, Mrs. Jacques Heath (Lily May Peel)  female  35.0      1   \n",
       "4                           Allen, Mr. William Henry    male  35.0      0   \n",
       "\n",
       "   Parch            Ticket     Fare Cabin Embarked  \n",
       "0      0         A/5 21171   7.2500   NaN        S  \n",
       "1      0          PC 17599  71.2833   C85        C  \n",
       "2      0  STON/O2. 3101282   7.9250   NaN        S  \n",
       "3      0            113803  53.1000  C123        S  \n",
       "4      0            373450   8.0500   NaN        S  "
      ]
     },
     "execution_count": 125,
     "metadata": {},
     "output_type": "execute_result"
    }
   ],
   "source": [
    "dft.head()"
   ]
  },
  {
   "cell_type": "code",
   "execution_count": null,
   "metadata": {
    "colab": {
     "base_uri": "https://localhost:8080/"
    },
    "executionInfo": {
     "elapsed": 341,
     "status": "ok",
     "timestamp": 1719520906317,
     "user": {
      "displayName": "Juan F Pérez",
      "userId": "13439628769322192552"
     },
     "user_tz": 300
    },
    "id": "Jz9i1Ly0bjJe",
    "outputId": "d8c2e06e-1638-4fc4-ac02-bc2008c75ac1"
   },
   "outputs": [
    {
     "data": {
      "text/plain": [
       "0       True\n",
       "1       True\n",
       "2      False\n",
       "3       True\n",
       "4       True\n",
       "       ...  \n",
       "886    False\n",
       "887    False\n",
       "888    False\n",
       "889     True\n",
       "890     True\n",
       "Name: Name, Length: 891, dtype: bool"
      ]
     },
     "execution_count": 126,
     "metadata": {},
     "output_type": "execute_result"
    }
   ],
   "source": [
    "dft['Name'].str.contains('Mr.')"
   ]
  },
  {
   "cell_type": "code",
   "execution_count": null,
   "metadata": {
    "colab": {
     "base_uri": "https://localhost:8080/"
    },
    "executionInfo": {
     "elapsed": 358,
     "status": "ok",
     "timestamp": 1719520917893,
     "user": {
      "displayName": "Juan F Pérez",
      "userId": "13439628769322192552"
     },
     "user_tz": 300
    },
    "id": "y0grmAiQbuo-",
    "outputId": "f57fa749-2827-43f8-a6a6-56e8e323ab9e"
   },
   "outputs": [
    {
     "data": {
      "text/plain": [
       "np.int64(647)"
      ]
     },
     "execution_count": 127,
     "metadata": {},
     "output_type": "execute_result"
    }
   ],
   "source": [
    "dft['Name'].str.contains('Mr.').sum()"
   ]
  },
  {
   "cell_type": "code",
   "execution_count": null,
   "metadata": {
    "colab": {
     "base_uri": "https://localhost:8080/"
    },
    "executionInfo": {
     "elapsed": 362,
     "status": "ok",
     "timestamp": 1719520979757,
     "user": {
      "displayName": "Juan F Pérez",
      "userId": "13439628769322192552"
     },
     "user_tz": 300
    },
    "id": "r67Mnx12b8HR",
    "outputId": "8290c0d9-98c5-43a1-87c6-c3009e211be4"
   },
   "outputs": [
    {
     "data": {
      "text/plain": [
       "0      23\n",
       "1      51\n",
       "2      22\n",
       "3      44\n",
       "4      24\n",
       "       ..\n",
       "886    21\n",
       "887    28\n",
       "888    40\n",
       "889    21\n",
       "890    19\n",
       "Name: Name, Length: 891, dtype: int64"
      ]
     },
     "execution_count": 128,
     "metadata": {},
     "output_type": "execute_result"
    }
   ],
   "source": [
    "dft['Name'].str.len()"
   ]
  },
  {
   "cell_type": "code",
   "execution_count": null,
   "metadata": {
    "colab": {
     "base_uri": "https://localhost:8080/"
    },
    "executionInfo": {
     "elapsed": 344,
     "status": "ok",
     "timestamp": 1719521025711,
     "user": {
      "displayName": "Juan F Pérez",
      "userId": "13439628769322192552"
     },
     "user_tz": 300
    },
    "id": "6zVAFmfecAW9",
    "outputId": "fc07db95-adb5-4b76-e9bb-4ea821ad354f"
   },
   "outputs": [
    {
     "data": {
      "text/plain": [
       "0      False\n",
       "1      False\n",
       "2      False\n",
       "3      False\n",
       "4      False\n",
       "       ...  \n",
       "886    False\n",
       "887    False\n",
       "888    False\n",
       "889    False\n",
       "890    False\n",
       "Name: Name, Length: 891, dtype: bool"
      ]
     },
     "execution_count": 129,
     "metadata": {},
     "output_type": "execute_result"
    }
   ],
   "source": [
    "dft['Name'].str.isdecimal()"
   ]
  },
  {
   "cell_type": "code",
   "execution_count": null,
   "metadata": {
    "colab": {
     "base_uri": "https://localhost:8080/"
    },
    "executionInfo": {
     "elapsed": 359,
     "status": "ok",
     "timestamp": 1719521052560,
     "user": {
      "displayName": "Juan F Pérez",
      "userId": "13439628769322192552"
     },
     "user_tz": 300
    },
    "id": "ePzgAAebcKOw",
    "outputId": "8d6e0191-dc02-4a12-f2d1-4b69a226db42"
   },
   "outputs": [
    {
     "data": {
      "text/plain": [
       "0                                Braund, Mr. Owen Harris\n",
       "1      Cumings, Mrs. John Bradley (Florence Briggs Th...\n",
       "2                                 Heikkinen, Miss. Laina\n",
       "3           Futrelle, Mrs. Jacques Heath (Lily May Peel)\n",
       "4                               Allen, Mr. William Henry\n",
       "                             ...                        \n",
       "886                                Montvila, Rev. Juozas\n",
       "887                         Graham, Miss. Margaret Edith\n",
       "888             Johnston, Miss. Catherine Helen \"Carrie\"\n",
       "889                                Behr, Mr. Karl Howell\n",
       "890                                  Dooley, Mr. Patrick\n",
       "Name: Name, Length: 891, dtype: object"
      ]
     },
     "execution_count": 130,
     "metadata": {},
     "output_type": "execute_result"
    }
   ],
   "source": [
    "dft['Name'].str.strip()"
   ]
  },
  {
   "cell_type": "code",
   "execution_count": null,
   "metadata": {
    "colab": {
     "base_uri": "https://localhost:8080/"
    },
    "executionInfo": {
     "elapsed": 348,
     "status": "ok",
     "timestamp": 1719521085681,
     "user": {
      "displayName": "Juan F Pérez",
      "userId": "13439628769322192552"
     },
     "user_tz": 300
    },
    "id": "rj1pQgj5cTMX",
    "outputId": "7d959f56-fd44-4090-eb85-730ffa5fb70a"
   },
   "outputs": [
    {
     "data": {
      "text/plain": [
       "np.int64(51)"
      ]
     },
     "execution_count": 131,
     "metadata": {},
     "output_type": "execute_result"
    }
   ],
   "source": [
    "dft['Name'].str.startswith('A').sum()"
   ]
  },
  {
   "cell_type": "code",
   "execution_count": null,
   "metadata": {
    "colab": {
     "base_uri": "https://localhost:8080/"
    },
    "executionInfo": {
     "elapsed": 363,
     "status": "ok",
     "timestamp": 1719521276842,
     "user": {
      "displayName": "Juan F Pérez",
      "userId": "13439628769322192552"
     },
     "user_tz": 300
    },
    "id": "wTMTiPCqc90R",
    "outputId": "0122de82-3dcb-432e-bb76-039eee7d0fc1"
   },
   "outputs": [
    {
     "data": {
      "text/plain": [
       "0      a\n",
       "1      m\n",
       "2      i\n",
       "3      t\n",
       "4      l\n",
       "      ..\n",
       "886    n\n",
       "887    a\n",
       "888    h\n",
       "889    h\n",
       "890    o\n",
       "Name: Name, Length: 891, dtype: object"
      ]
     },
     "execution_count": 132,
     "metadata": {},
     "output_type": "execute_result"
    }
   ],
   "source": [
    "dft['Name'].str.get(2)"
   ]
  },
  {
   "cell_type": "code",
   "execution_count": null,
   "metadata": {
    "colab": {
     "base_uri": "https://localhost:8080/"
    },
    "executionInfo": {
     "elapsed": 381,
     "status": "ok",
     "timestamp": 1719521316314,
     "user": {
      "displayName": "Juan F Pérez",
      "userId": "13439628769322192552"
     },
     "user_tz": 300
    },
    "id": "OBfV5AvadOeG",
    "outputId": "8cef859d-05cf-4a5d-d487-5f70b335cc66"
   },
   "outputs": [
    {
     "data": {
      "text/plain": [
       "0      a\n",
       "1      m\n",
       "2      i\n",
       "3      t\n",
       "4      l\n",
       "      ..\n",
       "886    n\n",
       "887    a\n",
       "888    h\n",
       "889    h\n",
       "890    o\n",
       "Name: Name, Length: 891, dtype: object"
      ]
     },
     "execution_count": 133,
     "metadata": {},
     "output_type": "execute_result"
    }
   ],
   "source": [
    "dft['Name'].str[2]"
   ]
  },
  {
   "cell_type": "code",
   "execution_count": null,
   "metadata": {
    "colab": {
     "base_uri": "https://localhost:8080/"
    },
    "executionInfo": {
     "elapsed": 360,
     "status": "ok",
     "timestamp": 1719521333633,
     "user": {
      "displayName": "Juan F Pérez",
      "userId": "13439628769322192552"
     },
     "user_tz": 300
    },
    "id": "bTIckBJJdRiT",
    "outputId": "e2370574-4ff5-42f3-f8fd-c7e10234dbda"
   },
   "outputs": [
    {
     "data": {
      "text/plain": [
       "0      rau\n",
       "1      umi\n",
       "2      eik\n",
       "3      utr\n",
       "4      lle\n",
       "      ... \n",
       "886    ont\n",
       "887    rah\n",
       "888    ohn\n",
       "889    ehr\n",
       "890    ool\n",
       "Name: Name, Length: 891, dtype: object"
      ]
     },
     "execution_count": 134,
     "metadata": {},
     "output_type": "execute_result"
    }
   ],
   "source": [
    "dft['Name'].str[1:4]"
   ]
  },
  {
   "cell_type": "code",
   "execution_count": null,
   "metadata": {
    "colab": {
     "base_uri": "https://localhost:8080/"
    },
    "executionInfo": {
     "elapsed": 345,
     "status": "ok",
     "timestamp": 1719521352201,
     "user": {
      "displayName": "Juan F Pérez",
      "userId": "13439628769322192552"
     },
     "user_tz": 300
    },
    "id": "zYzPviIKdXOC",
    "outputId": "60d48d1d-9b66-40e8-d5d9-27edb47f467a"
   },
   "outputs": [
    {
     "data": {
      "text/plain": [
       "0      Bra\n",
       "1      Cum\n",
       "2      Hei\n",
       "3      Fut\n",
       "4      All\n",
       "      ... \n",
       "886    Mon\n",
       "887    Gra\n",
       "888    Joh\n",
       "889    Beh\n",
       "890    Doo\n",
       "Name: Name, Length: 891, dtype: object"
      ]
     },
     "execution_count": 135,
     "metadata": {},
     "output_type": "execute_result"
    }
   ],
   "source": [
    "dft['Name'].str[:3]"
   ]
  }
 ],
 "metadata": {
  "colab": {
   "authorship_tag": "ABX9TyOvXSUum/3+rKM20GWKRID9",
   "provenance": []
  },
  "kernelspec": {
   "display_name": "Python 3",
   "name": "python3"
  },
  "language_info": {
   "codemirror_mode": {
    "name": "ipython",
    "version": 3
   },
   "file_extension": ".py",
   "mimetype": "text/x-python",
   "name": "python",
   "nbconvert_exporter": "python",
   "pygments_lexer": "ipython3",
   "version": "3.12.8"
  }
 },
 "nbformat": 4,
 "nbformat_minor": 0
}
