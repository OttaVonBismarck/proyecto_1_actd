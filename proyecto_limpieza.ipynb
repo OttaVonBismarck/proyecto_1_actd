{
 "cells": [
  {
   "cell_type": "markdown",
   "metadata": {
    "id": "YGdp9PuawCjO"
   },
   "source": [
    "# Analítica computacional para la toma de decisiones\n",
    "\n",
    "Departamento de Ingeniería Industrial\n",
    "\n",
    "Universidad de los Andes"
   ]
  },
  {
   "cell_type": "markdown",
   "metadata": {},
   "source": [
    "## Pandas para limpieza de datos"
   ]
  },
  {
   "cell_type": "code",
   "execution_count": 2,
   "metadata": {
    "executionInfo": {
     "elapsed": 394,
     "status": "ok",
     "timestamp": 1719522414504,
     "user": {
      "displayName": "Juan F Pérez",
      "userId": "13439628769322192552"
     },
     "user_tz": 300
    },
    "id": "9nd3pSEvsEjs"
   },
   "outputs": [],
   "source": [
    "import numpy as np\n",
    "import pandas as pd"
   ]
  },
  {
   "cell_type": "code",
   "execution_count": 3,
   "metadata": {
    "executionInfo": {
     "elapsed": 489,
     "status": "ok",
     "timestamp": 1719522429284,
     "user": {
      "displayName": "Juan F Pérez",
      "userId": "13439628769322192552"
     },
     "user_tz": 300
    },
    "id": "LglBj29RJaGD"
   },
   "outputs": [],
   "source": [
    "df = pd.read_csv(\"incident_event_log.csv\")"
   ]
  },
  {
   "cell_type": "code",
   "execution_count": 4,
   "metadata": {
    "colab": {
     "base_uri": "https://localhost:8080/",
     "height": 206
    },
    "executionInfo": {
     "elapsed": 512,
     "status": "ok",
     "timestamp": 1719522437369,
     "user": {
      "displayName": "Juan F Pérez",
      "userId": "13439628769322192552"
     },
     "user_tz": 300
    },
    "id": "ZEa-yLWhKoHx",
    "outputId": "a53df677-fdd2-419f-9697-d6e4650b0593"
   },
   "outputs": [
    {
     "data": {
      "text/html": [
       "<div>\n",
       "<style scoped>\n",
       "    .dataframe tbody tr th:only-of-type {\n",
       "        vertical-align: middle;\n",
       "    }\n",
       "\n",
       "    .dataframe tbody tr th {\n",
       "        vertical-align: top;\n",
       "    }\n",
       "\n",
       "    .dataframe thead th {\n",
       "        text-align: right;\n",
       "    }\n",
       "</style>\n",
       "<table border=\"1\" class=\"dataframe\">\n",
       "  <thead>\n",
       "    <tr style=\"text-align: right;\">\n",
       "      <th></th>\n",
       "      <th>number</th>\n",
       "      <th>incident_state</th>\n",
       "      <th>active</th>\n",
       "      <th>reassignment_count</th>\n",
       "      <th>reopen_count</th>\n",
       "      <th>sys_mod_count</th>\n",
       "      <th>made_sla</th>\n",
       "      <th>caller_id</th>\n",
       "      <th>opened_by</th>\n",
       "      <th>opened_at</th>\n",
       "      <th>...</th>\n",
       "      <th>u_priority_confirmation</th>\n",
       "      <th>notify</th>\n",
       "      <th>problem_id</th>\n",
       "      <th>rfc</th>\n",
       "      <th>vendor</th>\n",
       "      <th>caused_by</th>\n",
       "      <th>closed_code</th>\n",
       "      <th>resolved_by</th>\n",
       "      <th>resolved_at</th>\n",
       "      <th>closed_at</th>\n",
       "    </tr>\n",
       "  </thead>\n",
       "  <tbody>\n",
       "    <tr>\n",
       "      <th>0</th>\n",
       "      <td>INC0000045</td>\n",
       "      <td>New</td>\n",
       "      <td>True</td>\n",
       "      <td>0</td>\n",
       "      <td>0</td>\n",
       "      <td>0</td>\n",
       "      <td>True</td>\n",
       "      <td>Caller 2403</td>\n",
       "      <td>Opened by  8</td>\n",
       "      <td>29/2/2016 01:16</td>\n",
       "      <td>...</td>\n",
       "      <td>False</td>\n",
       "      <td>Do Not Notify</td>\n",
       "      <td>?</td>\n",
       "      <td>?</td>\n",
       "      <td>?</td>\n",
       "      <td>?</td>\n",
       "      <td>code 5</td>\n",
       "      <td>Resolved by 149</td>\n",
       "      <td>29/2/2016 11:29</td>\n",
       "      <td>5/3/2016 12:00</td>\n",
       "    </tr>\n",
       "    <tr>\n",
       "      <th>1</th>\n",
       "      <td>INC0000045</td>\n",
       "      <td>Resolved</td>\n",
       "      <td>True</td>\n",
       "      <td>0</td>\n",
       "      <td>0</td>\n",
       "      <td>2</td>\n",
       "      <td>True</td>\n",
       "      <td>Caller 2403</td>\n",
       "      <td>Opened by  8</td>\n",
       "      <td>29/2/2016 01:16</td>\n",
       "      <td>...</td>\n",
       "      <td>False</td>\n",
       "      <td>Do Not Notify</td>\n",
       "      <td>?</td>\n",
       "      <td>?</td>\n",
       "      <td>?</td>\n",
       "      <td>?</td>\n",
       "      <td>code 5</td>\n",
       "      <td>Resolved by 149</td>\n",
       "      <td>29/2/2016 11:29</td>\n",
       "      <td>5/3/2016 12:00</td>\n",
       "    </tr>\n",
       "    <tr>\n",
       "      <th>2</th>\n",
       "      <td>INC0000045</td>\n",
       "      <td>Resolved</td>\n",
       "      <td>True</td>\n",
       "      <td>0</td>\n",
       "      <td>0</td>\n",
       "      <td>3</td>\n",
       "      <td>True</td>\n",
       "      <td>Caller 2403</td>\n",
       "      <td>Opened by  8</td>\n",
       "      <td>29/2/2016 01:16</td>\n",
       "      <td>...</td>\n",
       "      <td>False</td>\n",
       "      <td>Do Not Notify</td>\n",
       "      <td>?</td>\n",
       "      <td>?</td>\n",
       "      <td>?</td>\n",
       "      <td>?</td>\n",
       "      <td>code 5</td>\n",
       "      <td>Resolved by 149</td>\n",
       "      <td>29/2/2016 11:29</td>\n",
       "      <td>5/3/2016 12:00</td>\n",
       "    </tr>\n",
       "    <tr>\n",
       "      <th>3</th>\n",
       "      <td>INC0000045</td>\n",
       "      <td>Closed</td>\n",
       "      <td>False</td>\n",
       "      <td>0</td>\n",
       "      <td>0</td>\n",
       "      <td>4</td>\n",
       "      <td>True</td>\n",
       "      <td>Caller 2403</td>\n",
       "      <td>Opened by  8</td>\n",
       "      <td>29/2/2016 01:16</td>\n",
       "      <td>...</td>\n",
       "      <td>False</td>\n",
       "      <td>Do Not Notify</td>\n",
       "      <td>?</td>\n",
       "      <td>?</td>\n",
       "      <td>?</td>\n",
       "      <td>?</td>\n",
       "      <td>code 5</td>\n",
       "      <td>Resolved by 149</td>\n",
       "      <td>29/2/2016 11:29</td>\n",
       "      <td>5/3/2016 12:00</td>\n",
       "    </tr>\n",
       "    <tr>\n",
       "      <th>4</th>\n",
       "      <td>INC0000047</td>\n",
       "      <td>New</td>\n",
       "      <td>True</td>\n",
       "      <td>0</td>\n",
       "      <td>0</td>\n",
       "      <td>0</td>\n",
       "      <td>True</td>\n",
       "      <td>Caller 2403</td>\n",
       "      <td>Opened by  397</td>\n",
       "      <td>29/2/2016 04:40</td>\n",
       "      <td>...</td>\n",
       "      <td>False</td>\n",
       "      <td>Do Not Notify</td>\n",
       "      <td>?</td>\n",
       "      <td>?</td>\n",
       "      <td>?</td>\n",
       "      <td>?</td>\n",
       "      <td>code 5</td>\n",
       "      <td>Resolved by 81</td>\n",
       "      <td>1/3/2016 09:52</td>\n",
       "      <td>6/3/2016 10:00</td>\n",
       "    </tr>\n",
       "  </tbody>\n",
       "</table>\n",
       "<p>5 rows × 36 columns</p>\n",
       "</div>"
      ],
      "text/plain": [
       "       number incident_state  active  reassignment_count  reopen_count  \\\n",
       "0  INC0000045            New    True                   0             0   \n",
       "1  INC0000045       Resolved    True                   0             0   \n",
       "2  INC0000045       Resolved    True                   0             0   \n",
       "3  INC0000045         Closed   False                   0             0   \n",
       "4  INC0000047            New    True                   0             0   \n",
       "\n",
       "   sys_mod_count  made_sla    caller_id       opened_by        opened_at  ...  \\\n",
       "0              0      True  Caller 2403    Opened by  8  29/2/2016 01:16  ...   \n",
       "1              2      True  Caller 2403    Opened by  8  29/2/2016 01:16  ...   \n",
       "2              3      True  Caller 2403    Opened by  8  29/2/2016 01:16  ...   \n",
       "3              4      True  Caller 2403    Opened by  8  29/2/2016 01:16  ...   \n",
       "4              0      True  Caller 2403  Opened by  397  29/2/2016 04:40  ...   \n",
       "\n",
       "  u_priority_confirmation         notify problem_id rfc vendor caused_by  \\\n",
       "0                   False  Do Not Notify          ?   ?      ?         ?   \n",
       "1                   False  Do Not Notify          ?   ?      ?         ?   \n",
       "2                   False  Do Not Notify          ?   ?      ?         ?   \n",
       "3                   False  Do Not Notify          ?   ?      ?         ?   \n",
       "4                   False  Do Not Notify          ?   ?      ?         ?   \n",
       "\n",
       "  closed_code      resolved_by      resolved_at       closed_at  \n",
       "0      code 5  Resolved by 149  29/2/2016 11:29  5/3/2016 12:00  \n",
       "1      code 5  Resolved by 149  29/2/2016 11:29  5/3/2016 12:00  \n",
       "2      code 5  Resolved by 149  29/2/2016 11:29  5/3/2016 12:00  \n",
       "3      code 5  Resolved by 149  29/2/2016 11:29  5/3/2016 12:00  \n",
       "4      code 5   Resolved by 81   1/3/2016 09:52  6/3/2016 10:00  \n",
       "\n",
       "[5 rows x 36 columns]"
      ]
     },
     "execution_count": 4,
     "metadata": {},
     "output_type": "execute_result"
    }
   ],
   "source": [
    "df.head()"
   ]
  },
  {
   "cell_type": "markdown",
   "metadata": {
    "id": "-4wlm_B_KsWZ"
   },
   "source": [
    "### Datos faltantes"
   ]
  },
  {
   "cell_type": "code",
   "execution_count": 5,
   "metadata": {
    "colab": {
     "base_uri": "https://localhost:8080/",
     "height": 423
    },
    "executionInfo": {
     "elapsed": 456,
     "status": "ok",
     "timestamp": 1719522635517,
     "user": {
      "displayName": "Juan F Pérez",
      "userId": "13439628769322192552"
     },
     "user_tz": 300
    },
    "id": "W6MjatOEJ3NE",
    "outputId": "4a1d598d-1fe4-43ff-c711-5cf32607cd46"
   },
   "outputs": [
    {
     "data": {
      "text/html": [
       "<div>\n",
       "<style scoped>\n",
       "    .dataframe tbody tr th:only-of-type {\n",
       "        vertical-align: middle;\n",
       "    }\n",
       "\n",
       "    .dataframe tbody tr th {\n",
       "        vertical-align: top;\n",
       "    }\n",
       "\n",
       "    .dataframe thead th {\n",
       "        text-align: right;\n",
       "    }\n",
       "</style>\n",
       "<table border=\"1\" class=\"dataframe\">\n",
       "  <thead>\n",
       "    <tr style=\"text-align: right;\">\n",
       "      <th></th>\n",
       "      <th>number</th>\n",
       "      <th>incident_state</th>\n",
       "      <th>active</th>\n",
       "      <th>reassignment_count</th>\n",
       "      <th>reopen_count</th>\n",
       "      <th>sys_mod_count</th>\n",
       "      <th>made_sla</th>\n",
       "      <th>caller_id</th>\n",
       "      <th>opened_by</th>\n",
       "      <th>opened_at</th>\n",
       "      <th>...</th>\n",
       "      <th>u_priority_confirmation</th>\n",
       "      <th>notify</th>\n",
       "      <th>problem_id</th>\n",
       "      <th>rfc</th>\n",
       "      <th>vendor</th>\n",
       "      <th>caused_by</th>\n",
       "      <th>closed_code</th>\n",
       "      <th>resolved_by</th>\n",
       "      <th>resolved_at</th>\n",
       "      <th>closed_at</th>\n",
       "    </tr>\n",
       "  </thead>\n",
       "  <tbody>\n",
       "    <tr>\n",
       "      <th>0</th>\n",
       "      <td>False</td>\n",
       "      <td>False</td>\n",
       "      <td>False</td>\n",
       "      <td>False</td>\n",
       "      <td>False</td>\n",
       "      <td>False</td>\n",
       "      <td>False</td>\n",
       "      <td>False</td>\n",
       "      <td>False</td>\n",
       "      <td>False</td>\n",
       "      <td>...</td>\n",
       "      <td>False</td>\n",
       "      <td>False</td>\n",
       "      <td>False</td>\n",
       "      <td>False</td>\n",
       "      <td>False</td>\n",
       "      <td>False</td>\n",
       "      <td>False</td>\n",
       "      <td>False</td>\n",
       "      <td>False</td>\n",
       "      <td>False</td>\n",
       "    </tr>\n",
       "    <tr>\n",
       "      <th>1</th>\n",
       "      <td>False</td>\n",
       "      <td>False</td>\n",
       "      <td>False</td>\n",
       "      <td>False</td>\n",
       "      <td>False</td>\n",
       "      <td>False</td>\n",
       "      <td>False</td>\n",
       "      <td>False</td>\n",
       "      <td>False</td>\n",
       "      <td>False</td>\n",
       "      <td>...</td>\n",
       "      <td>False</td>\n",
       "      <td>False</td>\n",
       "      <td>False</td>\n",
       "      <td>False</td>\n",
       "      <td>False</td>\n",
       "      <td>False</td>\n",
       "      <td>False</td>\n",
       "      <td>False</td>\n",
       "      <td>False</td>\n",
       "      <td>False</td>\n",
       "    </tr>\n",
       "    <tr>\n",
       "      <th>2</th>\n",
       "      <td>False</td>\n",
       "      <td>False</td>\n",
       "      <td>False</td>\n",
       "      <td>False</td>\n",
       "      <td>False</td>\n",
       "      <td>False</td>\n",
       "      <td>False</td>\n",
       "      <td>False</td>\n",
       "      <td>False</td>\n",
       "      <td>False</td>\n",
       "      <td>...</td>\n",
       "      <td>False</td>\n",
       "      <td>False</td>\n",
       "      <td>False</td>\n",
       "      <td>False</td>\n",
       "      <td>False</td>\n",
       "      <td>False</td>\n",
       "      <td>False</td>\n",
       "      <td>False</td>\n",
       "      <td>False</td>\n",
       "      <td>False</td>\n",
       "    </tr>\n",
       "    <tr>\n",
       "      <th>3</th>\n",
       "      <td>False</td>\n",
       "      <td>False</td>\n",
       "      <td>False</td>\n",
       "      <td>False</td>\n",
       "      <td>False</td>\n",
       "      <td>False</td>\n",
       "      <td>False</td>\n",
       "      <td>False</td>\n",
       "      <td>False</td>\n",
       "      <td>False</td>\n",
       "      <td>...</td>\n",
       "      <td>False</td>\n",
       "      <td>False</td>\n",
       "      <td>False</td>\n",
       "      <td>False</td>\n",
       "      <td>False</td>\n",
       "      <td>False</td>\n",
       "      <td>False</td>\n",
       "      <td>False</td>\n",
       "      <td>False</td>\n",
       "      <td>False</td>\n",
       "    </tr>\n",
       "    <tr>\n",
       "      <th>4</th>\n",
       "      <td>False</td>\n",
       "      <td>False</td>\n",
       "      <td>False</td>\n",
       "      <td>False</td>\n",
       "      <td>False</td>\n",
       "      <td>False</td>\n",
       "      <td>False</td>\n",
       "      <td>False</td>\n",
       "      <td>False</td>\n",
       "      <td>False</td>\n",
       "      <td>...</td>\n",
       "      <td>False</td>\n",
       "      <td>False</td>\n",
       "      <td>False</td>\n",
       "      <td>False</td>\n",
       "      <td>False</td>\n",
       "      <td>False</td>\n",
       "      <td>False</td>\n",
       "      <td>False</td>\n",
       "      <td>False</td>\n",
       "      <td>False</td>\n",
       "    </tr>\n",
       "    <tr>\n",
       "      <th>...</th>\n",
       "      <td>...</td>\n",
       "      <td>...</td>\n",
       "      <td>...</td>\n",
       "      <td>...</td>\n",
       "      <td>...</td>\n",
       "      <td>...</td>\n",
       "      <td>...</td>\n",
       "      <td>...</td>\n",
       "      <td>...</td>\n",
       "      <td>...</td>\n",
       "      <td>...</td>\n",
       "      <td>...</td>\n",
       "      <td>...</td>\n",
       "      <td>...</td>\n",
       "      <td>...</td>\n",
       "      <td>...</td>\n",
       "      <td>...</td>\n",
       "      <td>...</td>\n",
       "      <td>...</td>\n",
       "      <td>...</td>\n",
       "      <td>...</td>\n",
       "    </tr>\n",
       "    <tr>\n",
       "      <th>141707</th>\n",
       "      <td>False</td>\n",
       "      <td>False</td>\n",
       "      <td>False</td>\n",
       "      <td>False</td>\n",
       "      <td>False</td>\n",
       "      <td>False</td>\n",
       "      <td>False</td>\n",
       "      <td>False</td>\n",
       "      <td>False</td>\n",
       "      <td>False</td>\n",
       "      <td>...</td>\n",
       "      <td>False</td>\n",
       "      <td>False</td>\n",
       "      <td>False</td>\n",
       "      <td>False</td>\n",
       "      <td>False</td>\n",
       "      <td>False</td>\n",
       "      <td>False</td>\n",
       "      <td>False</td>\n",
       "      <td>False</td>\n",
       "      <td>False</td>\n",
       "    </tr>\n",
       "    <tr>\n",
       "      <th>141708</th>\n",
       "      <td>False</td>\n",
       "      <td>False</td>\n",
       "      <td>False</td>\n",
       "      <td>False</td>\n",
       "      <td>False</td>\n",
       "      <td>False</td>\n",
       "      <td>False</td>\n",
       "      <td>False</td>\n",
       "      <td>False</td>\n",
       "      <td>False</td>\n",
       "      <td>...</td>\n",
       "      <td>False</td>\n",
       "      <td>False</td>\n",
       "      <td>False</td>\n",
       "      <td>False</td>\n",
       "      <td>False</td>\n",
       "      <td>False</td>\n",
       "      <td>False</td>\n",
       "      <td>False</td>\n",
       "      <td>False</td>\n",
       "      <td>False</td>\n",
       "    </tr>\n",
       "    <tr>\n",
       "      <th>141709</th>\n",
       "      <td>False</td>\n",
       "      <td>False</td>\n",
       "      <td>False</td>\n",
       "      <td>False</td>\n",
       "      <td>False</td>\n",
       "      <td>False</td>\n",
       "      <td>False</td>\n",
       "      <td>False</td>\n",
       "      <td>False</td>\n",
       "      <td>False</td>\n",
       "      <td>...</td>\n",
       "      <td>False</td>\n",
       "      <td>False</td>\n",
       "      <td>False</td>\n",
       "      <td>False</td>\n",
       "      <td>False</td>\n",
       "      <td>False</td>\n",
       "      <td>False</td>\n",
       "      <td>False</td>\n",
       "      <td>False</td>\n",
       "      <td>False</td>\n",
       "    </tr>\n",
       "    <tr>\n",
       "      <th>141710</th>\n",
       "      <td>False</td>\n",
       "      <td>False</td>\n",
       "      <td>False</td>\n",
       "      <td>False</td>\n",
       "      <td>False</td>\n",
       "      <td>False</td>\n",
       "      <td>False</td>\n",
       "      <td>False</td>\n",
       "      <td>False</td>\n",
       "      <td>False</td>\n",
       "      <td>...</td>\n",
       "      <td>False</td>\n",
       "      <td>False</td>\n",
       "      <td>False</td>\n",
       "      <td>False</td>\n",
       "      <td>False</td>\n",
       "      <td>False</td>\n",
       "      <td>False</td>\n",
       "      <td>False</td>\n",
       "      <td>False</td>\n",
       "      <td>False</td>\n",
       "    </tr>\n",
       "    <tr>\n",
       "      <th>141711</th>\n",
       "      <td>False</td>\n",
       "      <td>False</td>\n",
       "      <td>False</td>\n",
       "      <td>False</td>\n",
       "      <td>False</td>\n",
       "      <td>False</td>\n",
       "      <td>False</td>\n",
       "      <td>False</td>\n",
       "      <td>False</td>\n",
       "      <td>False</td>\n",
       "      <td>...</td>\n",
       "      <td>False</td>\n",
       "      <td>False</td>\n",
       "      <td>False</td>\n",
       "      <td>False</td>\n",
       "      <td>False</td>\n",
       "      <td>False</td>\n",
       "      <td>False</td>\n",
       "      <td>False</td>\n",
       "      <td>False</td>\n",
       "      <td>False</td>\n",
       "    </tr>\n",
       "  </tbody>\n",
       "</table>\n",
       "<p>141712 rows × 36 columns</p>\n",
       "</div>"
      ],
      "text/plain": [
       "        number  incident_state  active  reassignment_count  reopen_count  \\\n",
       "0        False           False   False               False         False   \n",
       "1        False           False   False               False         False   \n",
       "2        False           False   False               False         False   \n",
       "3        False           False   False               False         False   \n",
       "4        False           False   False               False         False   \n",
       "...        ...             ...     ...                 ...           ...   \n",
       "141707   False           False   False               False         False   \n",
       "141708   False           False   False               False         False   \n",
       "141709   False           False   False               False         False   \n",
       "141710   False           False   False               False         False   \n",
       "141711   False           False   False               False         False   \n",
       "\n",
       "        sys_mod_count  made_sla  caller_id  opened_by  opened_at  ...  \\\n",
       "0               False     False      False      False      False  ...   \n",
       "1               False     False      False      False      False  ...   \n",
       "2               False     False      False      False      False  ...   \n",
       "3               False     False      False      False      False  ...   \n",
       "4               False     False      False      False      False  ...   \n",
       "...               ...       ...        ...        ...        ...  ...   \n",
       "141707          False     False      False      False      False  ...   \n",
       "141708          False     False      False      False      False  ...   \n",
       "141709          False     False      False      False      False  ...   \n",
       "141710          False     False      False      False      False  ...   \n",
       "141711          False     False      False      False      False  ...   \n",
       "\n",
       "        u_priority_confirmation  notify  problem_id    rfc  vendor  caused_by  \\\n",
       "0                         False   False       False  False   False      False   \n",
       "1                         False   False       False  False   False      False   \n",
       "2                         False   False       False  False   False      False   \n",
       "3                         False   False       False  False   False      False   \n",
       "4                         False   False       False  False   False      False   \n",
       "...                         ...     ...         ...    ...     ...        ...   \n",
       "141707                    False   False       False  False   False      False   \n",
       "141708                    False   False       False  False   False      False   \n",
       "141709                    False   False       False  False   False      False   \n",
       "141710                    False   False       False  False   False      False   \n",
       "141711                    False   False       False  False   False      False   \n",
       "\n",
       "        closed_code  resolved_by  resolved_at  closed_at  \n",
       "0             False        False        False      False  \n",
       "1             False        False        False      False  \n",
       "2             False        False        False      False  \n",
       "3             False        False        False      False  \n",
       "4             False        False        False      False  \n",
       "...             ...          ...          ...        ...  \n",
       "141707        False        False        False      False  \n",
       "141708        False        False        False      False  \n",
       "141709        False        False        False      False  \n",
       "141710        False        False        False      False  \n",
       "141711        False        False        False      False  \n",
       "\n",
       "[141712 rows x 36 columns]"
      ]
     },
     "execution_count": 5,
     "metadata": {},
     "output_type": "execute_result"
    }
   ],
   "source": [
    "df.isna()"
   ]
  },
  {
   "cell_type": "markdown",
   "metadata": {},
   "source": [
    "No hay nan, pero hay bastantes datos con \"?\""
   ]
  },
  {
   "cell_type": "code",
   "execution_count": 6,
   "metadata": {},
   "outputs": [
    {
     "data": {
      "text/plain": [
       "number                          0\n",
       "incident_state                  0\n",
       "active                          0\n",
       "reassignment_count              0\n",
       "reopen_count                    0\n",
       "sys_mod_count                   0\n",
       "made_sla                        0\n",
       "caller_id                      29\n",
       "opened_by                    4835\n",
       "opened_at                       0\n",
       "sys_created_by              53076\n",
       "sys_created_at              53076\n",
       "sys_updated_by                  0\n",
       "sys_updated_at                  0\n",
       "contact_type                    0\n",
       "location                       76\n",
       "category                       78\n",
       "subcategory                   111\n",
       "u_symptom                   32964\n",
       "cmdb_ci                    141267\n",
       "impact                          0\n",
       "urgency                         0\n",
       "priority                        0\n",
       "assignment_group            14213\n",
       "assigned_to                 27496\n",
       "knowledge                       0\n",
       "u_priority_confirmation         0\n",
       "notify                          0\n",
       "problem_id                 139417\n",
       "rfc                        140721\n",
       "vendor                     141468\n",
       "caused_by                  141689\n",
       "closed_code                   714\n",
       "resolved_by                   226\n",
       "resolved_at                  3141\n",
       "closed_at                       0\n",
       "dtype: int64"
      ]
     },
     "execution_count": 6,
     "metadata": {},
     "output_type": "execute_result"
    }
   ],
   "source": [
    "(df == \"?\").sum()"
   ]
  },
  {
   "cell_type": "code",
   "execution_count": 7,
   "metadata": {},
   "outputs": [
    {
     "data": {
      "text/plain": [
       "(141712, 36)"
      ]
     },
     "execution_count": 7,
     "metadata": {},
     "output_type": "execute_result"
    }
   ],
   "source": [
    "df.replace(\"?\", np.nan, inplace=True)\n",
    "\n",
    "df.shape\n"
   ]
  },
  {
   "cell_type": "markdown",
   "metadata": {},
   "source": [
    "Se reemplazan lo \"?\" con NaN para mayor facilidad"
   ]
  },
  {
   "cell_type": "code",
   "execution_count": 8,
   "metadata": {
    "colab": {
     "base_uri": "https://localhost:8080/"
    },
    "executionInfo": {
     "elapsed": 17,
     "status": "ok",
     "timestamp": 1719519699448,
     "user": {
      "displayName": "Juan F Pérez",
      "userId": "13439628769322192552"
     },
     "user_tz": 300
    },
    "id": "K_WCjUtuPRaH",
    "outputId": "d2e9d905-c0c3-4641-e6af-282d056b96cc"
   },
   "outputs": [
    {
     "data": {
      "text/plain": [
       "caused_by                  99.983770\n",
       "vendor                     99.827820\n",
       "cmdb_ci                    99.685983\n",
       "rfc                        99.300694\n",
       "problem_id                 98.380518\n",
       "sys_created_by             37.453427\n",
       "sys_created_at             37.453427\n",
       "u_symptom                  23.261262\n",
       "assigned_to                19.402732\n",
       "assignment_group           10.029496\n",
       "opened_by                   3.411849\n",
       "resolved_at                 2.216467\n",
       "closed_code                 0.503839\n",
       "resolved_by                 0.159478\n",
       "subcategory                 0.078328\n",
       "category                    0.055041\n",
       "location                    0.053630\n",
       "caller_id                   0.020464\n",
       "incident_state              0.000000\n",
       "number                      0.000000\n",
       "reassignment_count          0.000000\n",
       "active                      0.000000\n",
       "contact_type                0.000000\n",
       "sys_updated_by              0.000000\n",
       "made_sla                    0.000000\n",
       "sys_mod_count               0.000000\n",
       "reopen_count                0.000000\n",
       "opened_at                   0.000000\n",
       "sys_updated_at              0.000000\n",
       "u_priority_confirmation     0.000000\n",
       "notify                      0.000000\n",
       "priority                    0.000000\n",
       "impact                      0.000000\n",
       "urgency                     0.000000\n",
       "knowledge                   0.000000\n",
       "closed_at                   0.000000\n",
       "dtype: float64"
      ]
     },
     "execution_count": 8,
     "metadata": {},
     "output_type": "execute_result"
    }
   ],
   "source": [
    "((df.isna()).sum()/df.shape[0]*100).sort_values(ascending=False)"
   ]
  },
  {
   "cell_type": "markdown",
   "metadata": {},
   "source": [
    "Las columnas \"vaused_by, vendor, cmdb_ci, rfc, problem_id\" son con mayor datos de datos raros"
   ]
  },
  {
   "cell_type": "code",
   "execution_count": 9,
   "metadata": {
    "colab": {
     "base_uri": "https://localhost:8080/"
    },
    "executionInfo": {
     "elapsed": 493,
     "status": "ok",
     "timestamp": 1719523202798,
     "user": {
      "displayName": "Juan F Pérez",
      "userId": "13439628769322192552"
     },
     "user_tz": 300
    },
    "id": "R_qPKu1aNMVL",
    "outputId": "ba458a05-e5ea-4fa7-bf34-d5d101fb3b05"
   },
   "outputs": [
    {
     "data": {
      "text/plain": [
       "(141712, 36)"
      ]
     },
     "execution_count": 9,
     "metadata": {},
     "output_type": "execute_result"
    }
   ],
   "source": [
    "df.drop_duplicates().shape"
   ]
  },
  {
   "cell_type": "markdown",
   "metadata": {},
   "source": [
    "No hay duplicados :("
   ]
  },
  {
   "cell_type": "code",
   "execution_count": 10,
   "metadata": {},
   "outputs": [
    {
     "name": "stdout",
     "output_type": "stream",
     "text": [
      "['number', 'incident_state', 'active', 'reassignment_count', 'reopen_count', 'sys_mod_count', 'made_sla', 'caller_id', 'opened_by', 'opened_at', 'sys_created_by', 'sys_created_at', 'sys_updated_by', 'sys_updated_at', 'contact_type', 'location', 'category', 'subcategory', 'u_symptom', 'cmdb_ci', 'impact', 'urgency', 'priority', 'assignment_group', 'assigned_to', 'knowledge', 'u_priority_confirmation', 'notify', 'problem_id', 'rfc', 'vendor', 'caused_by', 'closed_code', 'resolved_by', 'resolved_at', 'closed_at']\n",
      "36\n"
     ]
    }
   ],
   "source": [
    "print(list(df.columns))\n",
    "print(len(df.columns))"
   ]
  },
  {
   "cell_type": "code",
   "execution_count": 11,
   "metadata": {
    "colab": {
     "base_uri": "https://localhost:8080/",
     "height": 423
    },
    "executionInfo": {
     "elapsed": 474,
     "status": "ok",
     "timestamp": 1719519699917,
     "user": {
      "displayName": "Juan F Pérez",
      "userId": "13439628769322192552"
     },
     "user_tz": 300
    },
    "id": "L9eAxXIFO7fb",
    "outputId": "98805652-73cb-4e65-f567-dbde4be6aeaa"
   },
   "outputs": [
    {
     "data": {
      "text/plain": [
       "(141712, 28)"
      ]
     },
     "execution_count": 11,
     "metadata": {},
     "output_type": "execute_result"
    }
   ],
   "source": [
    "#Se filtran los datos\n",
    "columnas_a_eliminar = ['caused_by', 'vendor', 'cmdb_ci','rfc', 'problem_id', 'sys_created_by','sys_created_at','u_symptom']  # Escribe aquí tus nombres de columnas\n",
    "df = df.drop(columns=columnas_a_eliminar)\n",
    "df.shape"
   ]
  },
  {
   "cell_type": "markdown",
   "metadata": {},
   "source": [
    "Al eliminar todas las columnas con un NaN, se queda con un dataframe de 18 columnas que no generan problema"
   ]
  },
  {
   "cell_type": "code",
   "execution_count": 12,
   "metadata": {},
   "outputs": [
    {
     "data": {
      "text/plain": [
       "assigned_to                19.402732\n",
       "assignment_group           10.029496\n",
       "opened_by                   3.411849\n",
       "resolved_at                 2.216467\n",
       "closed_code                 0.503839\n",
       "resolved_by                 0.159478\n",
       "subcategory                 0.078328\n",
       "category                    0.055041\n",
       "location                    0.053630\n",
       "caller_id                   0.020464\n",
       "number                      0.000000\n",
       "incident_state              0.000000\n",
       "sys_updated_at              0.000000\n",
       "sys_updated_by              0.000000\n",
       "opened_at                   0.000000\n",
       "made_sla                    0.000000\n",
       "reopen_count                0.000000\n",
       "sys_mod_count               0.000000\n",
       "active                      0.000000\n",
       "reassignment_count          0.000000\n",
       "priority                    0.000000\n",
       "urgency                     0.000000\n",
       "impact                      0.000000\n",
       "contact_type                0.000000\n",
       "notify                      0.000000\n",
       "u_priority_confirmation     0.000000\n",
       "knowledge                   0.000000\n",
       "closed_at                   0.000000\n",
       "dtype: float64"
      ]
     },
     "execution_count": 12,
     "metadata": {},
     "output_type": "execute_result"
    }
   ],
   "source": [
    "((df.isna()).sum()/df.shape[0]*100).sort_values(ascending=False)"
   ]
  },
  {
   "cell_type": "markdown",
   "metadata": {},
   "source": [
    "hay 18 columnas sin datos raros, y se queda con 28 columnas en total"
   ]
  },
  {
   "cell_type": "markdown",
   "metadata": {},
   "source": [
    "Con respecto a la preguntas del negocio, se buscan valores únicos de las columnas relevantes. Las preguntas son:\n",
    "\n",
    "    ¿Se está cumpliendo con el SLA establecido para la resolución de incidentes? (Desempeño)\n",
    "\n",
    "    ¿Cómo varía el tiempo de resolución según la categoría del servicio afectado? (Priorización)\n",
    "\n",
    "    ¿Qué relación tiene el numero de reasignaciones de un caso con respecto a la prioridad?"
   ]
  },
  {
   "cell_type": "code",
   "execution_count": 13,
   "metadata": {
    "colab": {
     "base_uri": "https://localhost:8080/",
     "height": 423
    },
    "executionInfo": {
     "elapsed": 15,
     "status": "ok",
     "timestamp": 1719519699917,
     "user": {
      "displayName": "Juan F Pérez",
      "userId": "13439628769322192552"
     },
     "user_tz": 300
    },
    "id": "guYFxQrUPzzR",
    "outputId": "88204015-d2d4-4e1a-e0c3-cb28e56d612f"
   },
   "outputs": [
    {
     "data": {
      "text/plain": [
       "np.float64(93.49737495766061)"
      ]
     },
     "execution_count": 13,
     "metadata": {},
     "output_type": "execute_result"
    }
   ],
   "source": [
    "(df['made_sla'] == True).sum()/df.count().iloc[0] * 100\n"
   ]
  },
  {
   "cell_type": "markdown",
   "metadata": {},
   "source": [
    "Se tiene un nivel de servicio del 93% vamos bien."
   ]
  },
  {
   "cell_type": "code",
   "execution_count": 14,
   "metadata": {
    "colab": {
     "base_uri": "https://localhost:8080/"
    },
    "executionInfo": {
     "elapsed": 13,
     "status": "ok",
     "timestamp": 1719519700369,
     "user": {
      "displayName": "Juan F Pérez",
      "userId": "13439628769322192552"
     },
     "user_tz": 300
    },
    "id": "wzLwEajYK9Fm",
    "outputId": "515595a2-f512-4805-bad7-e7118e62764f"
   },
   "outputs": [
    {
     "data": {
      "text/plain": [
       "0          21\n",
       "1         642\n",
       "2         804\n",
       "3         908\n",
       "4         746\n",
       "         ... \n",
       "141707     27\n",
       "141708    908\n",
       "141709     60\n",
       "141710     27\n",
       "141711     27\n",
       "Name: sys_updated_by, Length: 141712, dtype: object"
      ]
     },
     "execution_count": 14,
     "metadata": {},
     "output_type": "execute_result"
    }
   ],
   "source": [
    "df['sys_updated_by'] = df['sys_updated_by'].str.extract(r'(\\d+)')\n",
    "df['sys_updated_by']\n",
    "\n"
   ]
  },
  {
   "cell_type": "markdown",
   "metadata": {},
   "source": [
    "Se genera una columna con los numeros de quien actualizó la información."
   ]
  },
  {
   "cell_type": "code",
   "execution_count": 15,
   "metadata": {
    "colab": {
     "base_uri": "https://localhost:8080/"
    },
    "executionInfo": {
     "elapsed": 430,
     "status": "ok",
     "timestamp": 1719519700790,
     "user": {
      "displayName": "Juan F Pérez",
      "userId": "13439628769322192552"
     },
     "user_tz": 300
    },
    "id": "3x8ZevZoMIIZ",
    "outputId": "5836eaf9-43fb-4d5f-889e-ab7e7db144e4"
   },
   "outputs": [
    {
     "data": {
      "text/plain": [
       "category\n",
       "Category 26    18453\n",
       "Category 42    15977\n",
       "Category 53    15968\n",
       "Category 46    13324\n",
       "Category 23     7779\n",
       "Category 9      7365\n",
       "Category 32     7273\n",
       "Category 37     6584\n",
       "Category 57     6532\n",
       "Category 20     5506\n",
       "Category 61     5168\n",
       "Category 24     4561\n",
       "Category 34     3946\n",
       "Category 40     3760\n",
       "Category 45     3619\n",
       "Category 51     2390\n",
       "Category 28     2256\n",
       "Category 35     2037\n",
       "Category 44     1798\n",
       "Category 19     1592\n",
       "Category 13      994\n",
       "Category 43      858\n",
       "Category 55      801\n",
       "Category 17      512\n",
       "Category 22      420\n",
       "Category 56      322\n",
       "Category 38      290\n",
       "Category 8       264\n",
       "Category 7       207\n",
       "Category 33      160\n",
       "Category 54      139\n",
       "Category 50       93\n",
       "Category 31       92\n",
       "Category 63       78\n",
       "Category 2        77\n",
       "Category 21       69\n",
       "Category 47       50\n",
       "Category 59       42\n",
       "Category 41       36\n",
       "Category 29       32\n",
       "Category 5        31\n",
       "Category 25       30\n",
       "Category 62       25\n",
       "Category 10       24\n",
       "Category 4        22\n",
       "Category 52       16\n",
       "Category 30       15\n",
       "Category 48       10\n",
       "Category 16        7\n",
       "Category 6         7\n",
       "Category 14        5\n",
       "Category 58        5\n",
       "Category 15        3\n",
       "Category 12        3\n",
       "Category 36        2\n",
       "Category 49        2\n",
       "Category 27        2\n",
       "Category 3         1\n",
       "Name: count, dtype: int64"
      ]
     },
     "execution_count": 15,
     "metadata": {},
     "output_type": "execute_result"
    }
   ],
   "source": [
    "df[\"category\"].value_counts()\n",
    "\n"
   ]
  },
  {
   "cell_type": "code",
   "execution_count": 16,
   "metadata": {
    "colab": {
     "base_uri": "https://localhost:8080/"
    },
    "executionInfo": {
     "elapsed": 942,
     "status": "ok",
     "timestamp": 1719524678409,
     "user": {
      "displayName": "Juan F Pérez",
      "userId": "13439628769322192552"
     },
     "user_tz": 300
    },
    "id": "kGtI6uOXgRfn",
    "outputId": "e8c7d7ee-76b1-4fda-be5d-e4bbc5ca7a42"
   },
   "outputs": [
    {
     "data": {
      "text/plain": [
       "count    141712.000000\n",
       "mean          1.104197\n",
       "std           1.734673\n",
       "min           0.000000\n",
       "25%           0.000000\n",
       "50%           1.000000\n",
       "75%           1.000000\n",
       "max          27.000000\n",
       "Name: reassignment_count, dtype: float64"
      ]
     },
     "execution_count": 16,
     "metadata": {},
     "output_type": "execute_result"
    }
   ],
   "source": [
    "df['reassignment_count'].describe()"
   ]
  },
  {
   "cell_type": "code",
   "execution_count": 17,
   "metadata": {},
   "outputs": [
    {
     "data": {
      "text/plain": [
       "np.float64(16.523539150876942)"
      ]
     },
     "execution_count": 17,
     "metadata": {},
     "output_type": "execute_result"
    }
   ],
   "source": [
    "df['reassignment_count'].kurtosis()"
   ]
  },
  {
   "cell_type": "code",
   "execution_count": 18,
   "metadata": {},
   "outputs": [
    {
     "data": {
      "text/plain": [
       "count    24986.000000\n",
       "mean         0.941767\n",
       "std          1.573930\n",
       "min          0.000000\n",
       "25%          0.000000\n",
       "50%          0.000000\n",
       "75%          1.000000\n",
       "max         27.000000\n",
       "Name: reassignment_count, dtype: float64"
      ]
     },
     "execution_count": 18,
     "metadata": {},
     "output_type": "execute_result"
    }
   ],
   "source": [
    "df.loc[df['active'] == False, 'reassignment_count'].describe()"
   ]
  },
  {
   "cell_type": "markdown",
   "metadata": {},
   "source": [
    "Se filtra para contar tan solo las filas de los datos despues de haber cerrado el caso, sea tanto una solucion como no"
   ]
  },
  {
   "cell_type": "markdown",
   "metadata": {},
   "source": [
    "Analisis pregunta 1\n",
    "\n",
    "¿Se está cumpliendo con el SLA establecido para la resolución de incidentes? (Desempeño)\n",
    "\n"
   ]
  },
  {
   "cell_type": "code",
   "execution_count": 19,
   "metadata": {},
   "outputs": [
    {
     "data": {
      "text/plain": [
       "np.float64(93.49737495766061)"
      ]
     },
     "execution_count": 19,
     "metadata": {},
     "output_type": "execute_result"
    }
   ],
   "source": [
    "(df['made_sla'] == True).sum()/df.count().iloc[0] * 100"
   ]
  },
  {
   "cell_type": "code",
   "execution_count": 20,
   "metadata": {},
   "outputs": [
    {
     "data": {
      "image/png": "[encoded data removed]",
      "text/plain": [
       "<Figure size 600x600 with 1 Axes>"
      ]
     },
     "metadata": {},
     "output_type": "display_data"
    }
   ],
   "source": [
    "import matplotlib.pyplot as plt\n",
    "\n",
    "# Cuenta valores True y False\n",
    "valores = df['made_sla'].value_counts()\n",
    "labels = ['True', 'False']\n",
    "\n",
    "plt.figure(figsize=(6,6))\n",
    "plt.pie(valores, labels=labels, autopct='%1.1f%%', startangle=90, colors=['#4CAF50', '#F44336'])\n",
    "plt.title('Porcentaje de cumplimiento de SLA (made_sla)')\n",
    "plt.show()"
   ]
  },
  {
   "cell_type": "code",
   "execution_count": 21,
   "metadata": {},
   "outputs": [
    {
     "data": {
      "text/plain": [
       "np.float64(63.35948130953334)"
      ]
     },
     "execution_count": 21,
     "metadata": {},
     "output_type": "execute_result"
    }
   ],
   "source": [
    "df2= df[df['active'] == False]\n",
    "\n",
    "(df2['made_sla'] == True).sum()/df2.count().iloc[0] * 100"
   ]
  },
  {
   "cell_type": "code",
   "execution_count": 22,
   "metadata": {},
   "outputs": [
    {
     "data": {
      "image/png": "[encoded data removed]",
      "text/plain": [
       "<Figure size 600x600 with 1 Axes>"
      ]
     },
     "metadata": {},
     "output_type": "display_data"
    }
   ],
   "source": [
    "valores = df2['made_sla'].value_counts()\n",
    "labels = ['True', 'False']\n",
    "\n",
    "plt.figure(figsize=(6,6))\n",
    "plt.pie(valores, labels=labels, autopct='%1.1f%%', startangle=90, colors=['#4CAF50', '#F44336'])\n",
    "plt.title('Porcentaje de cumplimiento de SLA (made_sla)')\n",
    "plt.show()"
   ]
  },
  {
   "cell_type": "markdown",
   "metadata": {},
   "source": [
    "Al cerrar la Orden, el nivel de servicio disminue al 64%"
   ]
  },
  {
   "cell_type": "code",
   "execution_count": 23,
   "metadata": {},
   "outputs": [
    {
     "name": "stdout",
     "output_type": "stream",
     "text": [
      "made_sla        False   True  nivel_servicio\n",
      "contact_type                                \n",
      "Direct opening      0      4      100.000000\n",
      "Email              39     20       33.898305\n",
      "IVR                 0      9      100.000000\n",
      "Phone            9046  15708       63.456411\n",
      "Self service       70     90       56.250000\n"
     ]
    }
   ],
   "source": [
    "# Agrupa por made_sla y cuenta incident_state\n",
    "\n",
    "conteo = df2.groupby(['contact_type', 'made_sla']).size().unstack(fill_value=0)\n",
    "\n",
    "# Calcula el porcentaje de nivel de servicio (True) por tipo de contacto\n",
    "nivel_servicio = conteo[True] / conteo.sum(axis=1) * 100\n",
    "\n",
    "# Agrega la fila 'nivel_servicio' al DataFrame conteo\n",
    "conteo.loc[:, 'nivel_servicio'] = nivel_servicio\n",
    "\n",
    "print(conteo)"
   ]
  },
  {
   "cell_type": "markdown",
   "metadata": {},
   "source": [
    "El nivel de servicio que menor satisfacción genera es Email"
   ]
  },
  {
   "cell_type": "code",
   "execution_count": 24,
   "metadata": {},
   "outputs": [
    {
     "data": {
      "image/png": "[encoded data removed]",
      "text/plain": [
       "<Figure size 640x480 with 1 Axes>"
      ]
     },
     "metadata": {},
     "output_type": "display_data"
    },
    {
     "name": "stdout",
     "output_type": "stream",
     "text": [
      "contact_type\n",
      "Direct opening    100.000000\n",
      "Email              33.898305\n",
      "IVR               100.000000\n",
      "Phone              63.456411\n",
      "Self service       56.250000\n",
      "Name: nivel_servicio, dtype: float64\n"
     ]
    }
   ],
   "source": [
    "fig, ax = plt.subplots()\n",
    "\n",
    "contacto = conteo.index\n",
    "\n",
    "porcentaje_true = conteo['nivel_servicio']\n",
    "\n",
    "ax.bar(contacto, porcentaje_true)\n",
    "\n",
    "ax.set_ylabel('Tipo de Contacto ')\n",
    "ax.set_title('Porcentaje de nivel de servicio cumplido por tipo de contacto')\n",
    "\n",
    "plt.show()\n",
    "\n",
    "print(porcentaje_true)"
   ]
  },
  {
   "cell_type": "markdown",
   "metadata": {},
   "source": [
    "De los casos cerrados, El Direct Openin y IVR son las que generan mayor nivel de servicio."
   ]
  },
  {
   "cell_type": "code",
   "execution_count": 25,
   "metadata": {},
   "outputs": [
    {
     "name": "stdout",
     "output_type": "stream",
     "text": [
      "made_sla    False   True  nivel_servicio\n",
      "urgency                                 \n",
      "1 - High      521     11        2.067669\n",
      "2 - Medium   8522  15232       64.123937\n",
      "3 - Low       112    588       84.000000\n"
     ]
    }
   ],
   "source": [
    "conteo2 = df2.groupby(['urgency', 'made_sla']).size().unstack(fill_value=0)\n",
    "\n",
    "# Calcula el porcentaje de nivel de servicio (True) por tipo de contacto\n",
    "nivel_servicio = conteo2[True] / conteo2.sum(axis=1) * 100\n",
    "\n",
    "# Agrega la fila 'nivel_servicio' al DataFrame conteo\n",
    "conteo2.loc[:, 'nivel_servicio'] = nivel_servicio\n",
    "\n",
    "print(conteo2)"
   ]
  },
  {
   "cell_type": "code",
   "execution_count": 26,
   "metadata": {},
   "outputs": [
    {
     "data": {
      "image/png": "[encoded data removed]",
      "text/plain": [
       "<Figure size 640x480 with 1 Axes>"
      ]
     },
     "metadata": {},
     "output_type": "display_data"
    },
    {
     "name": "stdout",
     "output_type": "stream",
     "text": [
      "urgency\n",
      "1 - High       2.067669\n",
      "2 - Medium    64.123937\n",
      "3 - Low       84.000000\n",
      "Name: nivel_servicio, dtype: float64\n"
     ]
    }
   ],
   "source": [
    "fig, ax = plt.subplots()\n",
    "\n",
    "contacto = conteo2.index\n",
    "\n",
    "porcentaje_true = conteo2['nivel_servicio']\n",
    "\n",
    "ax.bar(contacto, porcentaje_true)\n",
    "\n",
    "ax.set_ylabel('Tipo de Contacto ')\n",
    "ax.set_title('Porcentaje de nivel de servicio cumplido por tipo de urgencia')\n",
    "\n",
    "plt.show()\n",
    "\n",
    "print(porcentaje_true)"
   ]
  },
  {
   "cell_type": "markdown",
   "metadata": {},
   "source": [
    "La urgencia funciona Empeora el nivel de servicio"
   ]
  },
  {
   "cell_type": "markdown",
   "metadata": {},
   "source": [
    "pregunta 2:\n",
    "¿Cómo varía el tiempo de resolución según la categoría del servicio afectado? (Priorización)"
   ]
  },
  {
   "cell_type": "code",
   "execution_count": 27,
   "metadata": {},
   "outputs": [
    {
     "name": "stderr",
     "output_type": "stream",
     "text": [
      "C:\\Users\\Tomás Otálora\\AppData\\Local\\Temp\\ipykernel_10576\\220138697.py:2: UserWarning: Parsing dates in %d/%m/%Y %H:%M format when dayfirst=False (the default) was specified. Pass `dayfirst=True` or specify a format to silence this warning.\n",
      "  df2['resolution_time'] = (pd.to_datetime(df2['resolved_at']) - pd.to_datetime(df2['opened_at'])).dt.total_seconds() / 3600\n",
      "C:\\Users\\Tomás Otálora\\AppData\\Local\\Temp\\ipykernel_10576\\220138697.py:2: UserWarning: Parsing dates in %d/%m/%Y %H:%M format when dayfirst=False (the default) was specified. Pass `dayfirst=True` or specify a format to silence this warning.\n",
      "  df2['resolution_time'] = (pd.to_datetime(df2['resolved_at']) - pd.to_datetime(df2['opened_at'])).dt.total_seconds() / 3600\n"
     ]
    },
    {
     "data": {
      "text/plain": [
       "np.int64(0)"
      ]
     },
     "execution_count": 27,
     "metadata": {},
     "output_type": "execute_result"
    }
   ],
   "source": [
    "df2 = df.loc[df['active'] == False].copy()\n",
    "df2['resolution_time'] = (pd.to_datetime(df2['resolved_at']) - pd.to_datetime(df2['opened_at'])).dt.total_seconds() / 3600\n",
    "\n",
    "df2 = df2.dropna(subset=['resolution_time'])\n",
    "\n",
    "df2['resolution_time'].isna().sum() "
   ]
  },
  {
   "cell_type": "markdown",
   "metadata": {},
   "source": [
    "Se eliminan los datos que son tipo NaN y se calcula el tiempo de resolución de los datos"
   ]
  },
  {
   "cell_type": "code",
   "execution_count": 28,
   "metadata": {},
   "outputs": [
    {
     "data": {
      "text/plain": [
       "count    23428.000000\n",
       "mean       178.827766\n",
       "std        533.787070\n",
       "min          0.000000\n",
       "25%          0.416667\n",
       "50%         22.250000\n",
       "75%        149.075000\n",
       "max       8070.166667\n",
       "Name: resolution_time, dtype: float64"
      ]
     },
     "execution_count": 28,
     "metadata": {},
     "output_type": "execute_result"
    }
   ],
   "source": [
    "df2['resolution_time'].describe()"
   ]
  },
  {
   "cell_type": "code",
   "execution_count": 29,
   "metadata": {},
   "outputs": [
    {
     "data": {
      "text/plain": [
       "np.float64(60.02907098001509)"
      ]
     },
     "execution_count": 29,
     "metadata": {},
     "output_type": "execute_result"
    }
   ],
   "source": [
    "df2['resolution_time'].kurtosis()"
   ]
  },
  {
   "cell_type": "code",
   "execution_count": 30,
   "metadata": {},
   "outputs": [
    {
     "data": {
      "text/plain": [
       "<Axes: xlabel='resolution_time', ylabel='Count'>"
      ]
     },
     "execution_count": 30,
     "metadata": {},
     "output_type": "execute_result"
    },
    {
     "data": {
      "image/png": "[encoded data removed]",
      "text/plain": [
       "<Figure size 640x480 with 1 Axes>"
      ]
     },
     "metadata": {},
     "output_type": "display_data"
    }
   ],
   "source": [
    "import seaborn as sns\n",
    "\n",
    "sns.histplot(data=df2, x=\"resolution_time\")"
   ]
  },
  {
   "cell_type": "code",
   "execution_count": 31,
   "metadata": {},
   "outputs": [
    {
     "name": "stdout",
     "output_type": "stream",
     "text": [
      "7816      8070.166667\n",
      "5627      8020.266667\n",
      "32861     7803.683333\n",
      "8033      7316.450000\n",
      "8491      7313.933333\n",
      "8522      7313.866667\n",
      "83450     7220.583333\n",
      "1019      7122.283333\n",
      "912       7056.416667\n",
      "18210     6729.000000\n",
      "26241     6557.966667\n",
      "862       6473.850000\n",
      "4676      6410.550000\n",
      "44543     6409.233333\n",
      "20669     6405.866667\n",
      "107377    6401.633333\n",
      "8507      6336.850000\n",
      "42800     6312.683333\n",
      "132365    6293.783333\n",
      "126442    6263.300000\n",
      "Name: resolution_time, dtype: float64\n"
     ]
    }
   ],
   "source": [
    "top = df2['resolution_time'].nlargest(20)\n",
    "print(top)"
   ]
  },
  {
   "cell_type": "code",
   "execution_count": 32,
   "metadata": {},
   "outputs": [
    {
     "data": {
      "text/plain": [
       "<Axes: xlabel='resolution_time', ylabel='Count'>"
      ]
     },
     "execution_count": 32,
     "metadata": {},
     "output_type": "execute_result"
    },
    {
     "data": {
      "image/png": "[encoded data removed]",
      "text/plain": [
       "<Figure size 640x480 with 1 Axes>"
      ]
     },
     "metadata": {},
     "output_type": "display_data"
    }
   ],
   "source": [
    "# Filtra el DataFrame para dejar solo los datos con resolution_time menor a 7000\n",
    "df2_filtrado = df2[df2['resolution_time'] < 5000]\n",
    "\n",
    "sns.histplot(data=df2_filtrado, x=\"resolution_time\")"
   ]
  },
  {
   "cell_type": "markdown",
   "metadata": {},
   "source": [
    "Se asemeja a una distribución exponencial con multiples datos atípicos."
   ]
  },
  {
   "cell_type": "code",
   "execution_count": 33,
   "metadata": {},
   "outputs": [
    {
     "name": "stdout",
     "output_type": "stream",
     "text": [
      "category\n",
      "Category 34    1332.878033\n",
      "Category 33    1107.444792\n",
      "Category 55     674.018396\n",
      "Category 56     597.393333\n",
      "Category 22     502.823000\n",
      "Category 45     488.330884\n",
      "Category 62     324.500000\n",
      "Category 46     315.702845\n",
      "Category 47     296.005556\n",
      "Category 24     279.283832\n",
      "Category 19     276.525646\n",
      "Category 7      276.145161\n",
      "Category 48     257.783333\n",
      "Category 2      246.755556\n",
      "Category 59     199.375000\n",
      "Category 61     184.020250\n",
      "Category 17     183.470886\n",
      "Category 30     174.616667\n",
      "Category 57     161.692558\n",
      "Category 9      156.667275\n",
      "Category 44     155.409259\n",
      "Category 40     153.140964\n",
      "Category 23     152.075417\n",
      "Category 4      148.466667\n",
      "Category 38     148.173750\n",
      "Category 37     131.913952\n",
      "Category 53     128.136665\n",
      "Category 25     118.429167\n",
      "Category 6      116.691667\n",
      "Category 43     116.275926\n",
      "Category 8      116.161607\n",
      "Category 28     115.230481\n",
      "Category 50     102.996875\n",
      "Category 63      98.936364\n",
      "Category 42      98.635521\n",
      "Category 10      93.433333\n",
      "Category 13      91.064071\n",
      "Category 31      90.633333\n",
      "Category 14      87.766667\n",
      "Category 26      83.492180\n",
      "Category 54      66.011111\n",
      "Category 32      65.875570\n",
      "Category 21      62.079167\n",
      "Category 29      60.927778\n",
      "Category 20      58.579278\n",
      "Category 12      53.433333\n",
      "Category 51      40.687591\n",
      "Category 52      25.683333\n",
      "Category 35      23.543654\n",
      "Category 58      11.816667\n",
      "Category 16       2.966667\n",
      "Category 5        0.171667\n",
      "Name: resolution_time, dtype: float64\n"
     ]
    }
   ],
   "source": [
    "promedio_por_categoria = df2.groupby('category')['resolution_time'].mean().sort_values(ascending=False)\n",
    "print(promedio_por_categoria)"
   ]
  },
  {
   "cell_type": "markdown",
   "metadata": {},
   "source": [
    "Pregunta 3: ¿Qué relación tiene el numero de reasignaciones de un caso con respecto a la prioridad?\n"
   ]
  },
  {
   "cell_type": "code",
   "execution_count": 39,
   "metadata": {},
   "outputs": [
    {
     "data": {
      "text/html": [
       "<div>\n",
       "<style scoped>\n",
       "    .dataframe tbody tr th:only-of-type {\n",
       "        vertical-align: middle;\n",
       "    }\n",
       "\n",
       "    .dataframe tbody tr th {\n",
       "        vertical-align: top;\n",
       "    }\n",
       "\n",
       "    .dataframe thead th {\n",
       "        text-align: right;\n",
       "    }\n",
       "</style>\n",
       "<table border=\"1\" class=\"dataframe\">\n",
       "  <thead>\n",
       "    <tr style=\"text-align: right;\">\n",
       "      <th>priority</th>\n",
       "      <th>1 - Critical</th>\n",
       "      <th>2 - High</th>\n",
       "      <th>3 - Moderate</th>\n",
       "      <th>4 - Low</th>\n",
       "    </tr>\n",
       "    <tr>\n",
       "      <th>reassignment_count</th>\n",
       "      <th></th>\n",
       "      <th></th>\n",
       "      <th></th>\n",
       "      <th></th>\n",
       "    </tr>\n",
       "  </thead>\n",
       "  <tbody>\n",
       "    <tr>\n",
       "      <th>0</th>\n",
       "      <td>113</td>\n",
       "      <td>153</td>\n",
       "      <td>11373</td>\n",
       "      <td>382</td>\n",
       "    </tr>\n",
       "    <tr>\n",
       "      <th>1</th>\n",
       "      <td>83</td>\n",
       "      <td>118</td>\n",
       "      <td>5885</td>\n",
       "      <td>164</td>\n",
       "    </tr>\n",
       "    <tr>\n",
       "      <th>2</th>\n",
       "      <td>48</td>\n",
       "      <td>61</td>\n",
       "      <td>2128</td>\n",
       "      <td>53</td>\n",
       "    </tr>\n",
       "    <tr>\n",
       "      <th>3</th>\n",
       "      <td>13</td>\n",
       "      <td>25</td>\n",
       "      <td>1175</td>\n",
       "      <td>30</td>\n",
       "    </tr>\n",
       "    <tr>\n",
       "      <th>4</th>\n",
       "      <td>4</td>\n",
       "      <td>22</td>\n",
       "      <td>657</td>\n",
       "      <td>18</td>\n",
       "    </tr>\n",
       "    <tr>\n",
       "      <th>5</th>\n",
       "      <td>2</td>\n",
       "      <td>13</td>\n",
       "      <td>357</td>\n",
       "      <td>11</td>\n",
       "    </tr>\n",
       "    <tr>\n",
       "      <th>6</th>\n",
       "      <td>1</td>\n",
       "      <td>5</td>\n",
       "      <td>171</td>\n",
       "      <td>6</td>\n",
       "    </tr>\n",
       "    <tr>\n",
       "      <th>7</th>\n",
       "      <td>4</td>\n",
       "      <td>3</td>\n",
       "      <td>132</td>\n",
       "      <td>4</td>\n",
       "    </tr>\n",
       "    <tr>\n",
       "      <th>8</th>\n",
       "      <td>0</td>\n",
       "      <td>2</td>\n",
       "      <td>67</td>\n",
       "      <td>1</td>\n",
       "    </tr>\n",
       "    <tr>\n",
       "      <th>9</th>\n",
       "      <td>1</td>\n",
       "      <td>3</td>\n",
       "      <td>48</td>\n",
       "      <td>0</td>\n",
       "    </tr>\n",
       "    <tr>\n",
       "      <th>10</th>\n",
       "      <td>0</td>\n",
       "      <td>0</td>\n",
       "      <td>29</td>\n",
       "      <td>4</td>\n",
       "    </tr>\n",
       "    <tr>\n",
       "      <th>11</th>\n",
       "      <td>1</td>\n",
       "      <td>2</td>\n",
       "      <td>15</td>\n",
       "      <td>0</td>\n",
       "    </tr>\n",
       "    <tr>\n",
       "      <th>12</th>\n",
       "      <td>0</td>\n",
       "      <td>1</td>\n",
       "      <td>13</td>\n",
       "      <td>3</td>\n",
       "    </tr>\n",
       "    <tr>\n",
       "      <th>13</th>\n",
       "      <td>0</td>\n",
       "      <td>0</td>\n",
       "      <td>7</td>\n",
       "      <td>0</td>\n",
       "    </tr>\n",
       "    <tr>\n",
       "      <th>14</th>\n",
       "      <td>1</td>\n",
       "      <td>0</td>\n",
       "      <td>3</td>\n",
       "      <td>1</td>\n",
       "    </tr>\n",
       "    <tr>\n",
       "      <th>15</th>\n",
       "      <td>0</td>\n",
       "      <td>0</td>\n",
       "      <td>3</td>\n",
       "      <td>0</td>\n",
       "    </tr>\n",
       "    <tr>\n",
       "      <th>16</th>\n",
       "      <td>0</td>\n",
       "      <td>0</td>\n",
       "      <td>1</td>\n",
       "      <td>0</td>\n",
       "    </tr>\n",
       "    <tr>\n",
       "      <th>17</th>\n",
       "      <td>0</td>\n",
       "      <td>0</td>\n",
       "      <td>1</td>\n",
       "      <td>0</td>\n",
       "    </tr>\n",
       "    <tr>\n",
       "      <th>18</th>\n",
       "      <td>0</td>\n",
       "      <td>0</td>\n",
       "      <td>2</td>\n",
       "      <td>0</td>\n",
       "    </tr>\n",
       "    <tr>\n",
       "      <th>20</th>\n",
       "      <td>0</td>\n",
       "      <td>0</td>\n",
       "      <td>3</td>\n",
       "      <td>0</td>\n",
       "    </tr>\n",
       "    <tr>\n",
       "      <th>22</th>\n",
       "      <td>0</td>\n",
       "      <td>0</td>\n",
       "      <td>1</td>\n",
       "      <td>0</td>\n",
       "    </tr>\n",
       "    <tr>\n",
       "      <th>27</th>\n",
       "      <td>0</td>\n",
       "      <td>0</td>\n",
       "      <td>1</td>\n",
       "      <td>0</td>\n",
       "    </tr>\n",
       "  </tbody>\n",
       "</table>\n",
       "</div>"
      ],
      "text/plain": [
       "priority            1 - Critical  2 - High  3 - Moderate  4 - Low\n",
       "reassignment_count                                               \n",
       "0                            113       153         11373      382\n",
       "1                             83       118          5885      164\n",
       "2                             48        61          2128       53\n",
       "3                             13        25          1175       30\n",
       "4                              4        22           657       18\n",
       "5                              2        13           357       11\n",
       "6                              1         5           171        6\n",
       "7                              4         3           132        4\n",
       "8                              0         2            67        1\n",
       "9                              1         3            48        0\n",
       "10                             0         0            29        4\n",
       "11                             1         2            15        0\n",
       "12                             0         1            13        3\n",
       "13                             0         0             7        0\n",
       "14                             1         0             3        1\n",
       "15                             0         0             3        0\n",
       "16                             0         0             1        0\n",
       "17                             0         0             1        0\n",
       "18                             0         0             2        0\n",
       "20                             0         0             3        0\n",
       "22                             0         0             1        0\n",
       "27                             0         0             1        0"
      ]
     },
     "execution_count": 39,
     "metadata": {},
     "output_type": "execute_result"
    }
   ],
   "source": [
    "conteo3 = df2.groupby(['reassignment_count', 'priority']).size().unstack(fill_value=0)\n",
    "conteo3"
   ]
  },
  {
   "cell_type": "code",
   "execution_count": 40,
   "metadata": {},
   "outputs": [
    {
     "name": "stdout",
     "output_type": "stream",
     "text": [
      "priority\n",
      "2 - High        1.460784\n",
      "1 - Critical    1.151292\n",
      "3 - Moderate    0.995107\n",
      "4 - Low         0.958641\n",
      "Name: reassignment_count, dtype: float64\n"
     ]
    }
   ],
   "source": [
    "promedio_por_prioridad = df2.groupby('priority')['reassignment_count'].mean().sort_values(ascending=False)\n",
    "print(promedio_por_prioridad)"
   ]
  },
  {
   "cell_type": "code",
   "execution_count": null,
   "metadata": {},
   "outputs": [
    {
     "data": {
      "image/png": "[encoded data removed]",
      "text/plain": [
       "<Figure size 1000x600 with 1 Axes>"
      ]
     },
     "metadata": {},
     "output_type": "display_data"
    }
   ],
   "source": [
    "plt.figure(figsize=(10,6))\n",
    "sns.violinplot(data=df2, x='priority', y='reassignment_count')\n",
    "plt.title('Distribución de reassignment_count por prioridad')\n",
    "plt.xlabel('Prioridad')\n",
    "plt.ylabel('Reassignment Count')\n",
    "plt.show()\n",
    "\n",
    "\n",
    "a=2\n",
    "\n"
   ]
  }
 ],
 "metadata": {
  "colab": {
   "authorship_tag": "ABX9TyOvXSUum/3+rKM20GWKRID9",
   "provenance": []
  },
  "kernelspec": {
   "display_name": "Python 3",
   "name": "python3"
  },
  "language_info": {
   "codemirror_mode": {
    "name": "ipython",
    "version": 3
   },
   "file_extension": ".py",
   "mimetype": "text/x-python",
   "name": "python",
   "nbconvert_exporter": "python",
   "pygments_lexer": "ipython3",
   "version": "3.12.8"
  }
 },
 "nbformat": 4,
 "nbformat_minor": 0
}
